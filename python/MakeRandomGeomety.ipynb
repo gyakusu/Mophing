{
 "cells": [
  {
   "cell_type": "markdown",
   "metadata": {},
   "source": [
    "# 乱数を使って保持器を作る"
   ]
  },
  {
   "cell_type": "code",
   "execution_count": 49,
   "metadata": {},
   "outputs": [
    {
     "name": "stdout",
     "output_type": "stream",
     "text": [
      "⚠️  Warning: You're building a library without activating pyo3's `extension-module` feature. See https://pyo3.rs/v0.21.2/building_and_distribution.html#linking\n",
      "🔗 Found pyo3 bindings\n",
      "🐍 Found CPython 3.12 at /Users/gyakusu/Morphing/.env/bin/python\n",
      "\u001b[1m\u001b[32m   Compiling\u001b[0m morphing v0.1.0 (/Users/gyakusu/Morphing)\n",
      "\u001b[K\u001b[1m\u001b[32m    Finished\u001b[0m release [optimized] target(s) in 2.20sorphing                    \n",
      "📦 Built wheel for CPython 3.12 to /var/folders/w_/pg1jg9jx7hgfsps7wys8dmfm0000gn/T/.tmpo1TmLi/morphing-0.1.0-cp312-cp312-macosx_11_0_arm64.whl\n",
      "✏️  Setting installed package as editable\n",
      "🛠 Installed morphing-0.1.0\n"
     ]
    }
   ],
   "source": [
    "# `maturin develop --release` command will install the package in the current virtualenv\n",
    "!cd ../ && maturin develop --release\n"
   ]
  },
  {
   "cell_type": "code",
   "execution_count": 50,
   "metadata": {},
   "outputs": [],
   "source": [
    "from morphing.morphing import CageParameter, Brg\n"
   ]
  },
  {
   "cell_type": "code",
   "execution_count": 51,
   "metadata": {},
   "outputs": [],
   "source": [
    "import numpy as np\n",
    "import pandas as pd"
   ]
  },
  {
   "cell_type": "code",
   "execution_count": 52,
   "metadata": {},
   "outputs": [
    {
     "data": {
      "text/plain": [
       "array([[ 0.58801745,  0.13338574,  0.32624599,  0.7469644 ,  0.62251933,\n",
       "        -0.32575929,  0.31669614, -0.0504524 , -0.03440628,  0.13686617],\n",
       "       [ 0.04801452,  0.48475784,  0.25367924,  0.04055834,  0.14795441,\n",
       "         0.11122478,  0.49802636, -0.06838609,  0.1043559 , -0.28469858]])"
      ]
     },
     "execution_count": 52,
     "metadata": {},
     "output_type": "execute_result"
    }
   ],
   "source": [
    "np.random.seed(0)\n",
    "params = np.random.randn(200, 10) / 3\n",
    "params[params<-1] = -1\n",
    "params[params>1] = 1\n",
    "params[:2]"
   ]
  },
  {
   "cell_type": "code",
   "execution_count": 53,
   "metadata": {},
   "outputs": [
    {
     "data": {
      "text/plain": [
       "(1.0, -1.0)"
      ]
     },
     "execution_count": 53,
     "metadata": {},
     "output_type": "execute_result"
    }
   ],
   "source": [
    "params.max(), params.min()"
   ]
  },
  {
   "cell_type": "code",
   "execution_count": 54,
   "metadata": {},
   "outputs": [
    {
     "data": {
      "text/plain": [
       "(0.0026, 0.0026)"
      ]
     },
     "execution_count": 54,
     "metadata": {},
     "output_type": "execute_result"
    }
   ],
   "source": [
    "r0 = lambda dr: 2.35e-3 + dr\n",
    "r1 = lambda dr: 2.85e-3 + dr\n",
    "\n",
    "r0(0.25e-3), r1(-0.25e-3)"
   ]
  },
  {
   "cell_type": "code",
   "execution_count": 55,
   "metadata": {},
   "outputs": [
    {
     "data": {
      "text/plain": [
       "(0.27704138687222785,\n",
       " 0.7375057607384937,\n",
       " 2.1778135578020037,\n",
       " 3.026195714734316)"
      ]
     },
     "execution_count": 55,
     "metadata": {},
     "output_type": "execute_result"
    }
   ],
   "source": [
    "r0s = r0(params[:, 0] * 0.2e-3)\n",
    "r1s = r1(params[:, 1] * 0.2e-3)\n",
    "drs = r1s - r0s\n",
    "\n",
    "drs.min() * 1e3, drs.max() * 1e3, r0s.min() * 1e3, r1s.max() * 1e3\n"
   ]
  },
  {
   "cell_type": "code",
   "execution_count": 56,
   "metadata": {},
   "outputs": [
    {
     "data": {
      "text/plain": [
       "(1.0958961076220752,\n",
       " 0.7796290513731874,\n",
       " 2.2839570076014386,\n",
       " 1.9305840794874516)"
      ]
     },
     "execution_count": 56,
     "metadata": {},
     "output_type": "execute_result"
    }
   ],
   "source": [
    "h0 = lambda dh: 0.93e-3 + dh\n",
    "h1 = lambda dh: 2.10e-3 + dh\n",
    "\n",
    "h0s = h0(params[:, 2] * 0.2e-3)\n",
    "h1s = h1(params[:, 3] * 0.2e-3)\n",
    "\n",
    "h0s.max() * 1e3, h0s.min() * 1e3, h1s.max() * 1e3, h1s.min() * 1e3"
   ]
  },
  {
   "cell_type": "code",
   "execution_count": 57,
   "metadata": {},
   "outputs": [
    {
     "data": {
      "text/plain": [
       "(0.30000000000000004, 0.11136092540010864)"
      ]
     },
     "execution_count": 57,
     "metadata": {},
     "output_type": "execute_result"
    }
   ],
   "source": [
    "bevel = lambda r: 0.1 * drs * r\n",
    "\n",
    "bevels = bevel(params[:, 4]+2)\n",
    "\n",
    "(bevels / drs).max(), (bevels / drs).min()"
   ]
  },
  {
   "cell_type": "code",
   "execution_count": 58,
   "metadata": {},
   "outputs": [
    {
     "data": {
      "text/plain": [
       "(0.8022059399296706, 0.8721660490605834)"
      ]
     },
     "execution_count": 58,
     "metadata": {},
     "output_type": "execute_result"
    }
   ],
   "source": [
    "pocket_r = lambda dr: 0.840e-3 + dr\n",
    "\n",
    "pocket_rs = pocket_r(params[:, 5] * 0.040e-3)\n",
    "pocket_rs.min() * 1e3, pocket_rs.max() * 1e3"
   ]
  },
  {
   "cell_type": "code",
   "execution_count": 59,
   "metadata": {},
   "outputs": [
    {
     "data": {
      "text/plain": [
       "(1.680035914265149, 1.7174704923067883)"
      ]
     },
     "execution_count": 59,
     "metadata": {},
     "output_type": "execute_result"
    }
   ],
   "source": [
    "neck_x = lambda dx: 1.70e-3 + dx\n",
    "\n",
    "neck_xs = neck_x(params[:, 6] * 20e-6)\n",
    "neck_xs.min() * 1e3, neck_xs.max() * 1e3"
   ]
  },
  {
   "cell_type": "code",
   "execution_count": 60,
   "metadata": {},
   "outputs": [
    {
     "data": {
      "text/plain": [
       "(1.1817354855520694, 1.2169348774717277)"
      ]
     },
     "execution_count": 60,
     "metadata": {},
     "output_type": "execute_result"
    }
   ],
   "source": [
    "neck_r = lambda dr: 1.20e-3 + dr\n",
    "\n",
    "neck_rs = neck_r(params[:, 7] * 20e-6)\n",
    "neck_rs.min() * 1e3, neck_rs.max() * 1e3\n"
   ]
  },
  {
   "cell_type": "code",
   "execution_count": 61,
   "metadata": {},
   "outputs": [
    {
     "data": {
      "text/plain": [
       "(2.3565932400536096, 2.5393523613589664)"
      ]
     },
     "execution_count": 61,
     "metadata": {},
     "output_type": "execute_result"
    }
   ],
   "source": [
    "neck_h = lambda dh: 2.45e-3 + dh\n",
    "\n",
    "neck_hs = neck_h(params[:, 8] * 100e-6)\n",
    "neck_hs.min() * 1e3, neck_hs.max() * 1e3\n"
   ]
  },
  {
   "cell_type": "code",
   "execution_count": 62,
   "metadata": {},
   "outputs": [
    {
     "data": {
      "text/plain": [
       "(0.02409880898608236, 0.12664880375765164)"
      ]
     },
     "execution_count": 62,
     "metadata": {},
     "output_type": "execute_result"
    }
   ],
   "source": [
    "neck_dh = lambda r: (neck_hs - h1s) * r * 0.1\n",
    "\n",
    "neck_dhs = neck_dh(params[:, 9]+2)\n",
    "neck_dhs.min() * 1e3, neck_dhs.max() * 1e3\n"
   ]
  },
  {
   "cell_type": "code",
   "execution_count": 68,
   "metadata": {},
   "outputs": [],
   "source": [
    "df = pd.DataFrame({\n",
    "    'r0': r0s,\n",
    "    'r1': r1s,\n",
    "    'h0': h0s,\n",
    "    'h1': h1s,\n",
    "    'bevel': bevels,\n",
    "    'pocket_r': pocket_rs,\n",
    "    'neck_x': neck_xs,\n",
    "    'neck_r': neck_rs,\n",
    "    'neck_h': neck_hs,\n",
    "    'neck_dh': neck_dhs\n",
    "})\n",
    "\n",
    "# df.to_csv('../data/random/random_params.csv', index=False)\n",
    "df.to_csv('../data/CFD/random/random_params.csv', index=False)\n"
   ]
  },
  {
   "cell_type": "code",
   "execution_count": 36,
   "metadata": {},
   "outputs": [],
   "source": [
    "cage = CageParameter(2.345e-3,2.850e-3,0.93e-3,2.10e-3,0.10e-3,0.825e-3,1.70e-3,1.20e-3,2.45e-3,0.152e-3)\n",
    "brg  = Brg(\"../data/CFD/star_master4_rotated.vtu\", \"../data/CFD/index4.xml\", cage)\n",
    "brg_std = brg.std()\n"
   ]
  },
  {
   "cell_type": "code",
   "execution_count": 37,
   "metadata": {},
   "outputs": [],
   "source": [
    "new_cage = lambda i: CageParameter(r0s[i], r1s[i], h0s[i], h1s[i], bevels[i], pocket_rs[i], neck_xs[i], neck_rs[i], neck_hs[i], neck_dhs[i])\n",
    "brg.reload_cage(new_cage(10), 100, 100)\n"
   ]
  },
  {
   "cell_type": "code",
   "execution_count": null,
   "metadata": {},
   "outputs": [],
   "source": []
  },
  {
   "cell_type": "code",
   "execution_count": 38,
   "metadata": {},
   "outputs": [],
   "source": [
    "# # cargo run --release \"data/Tetra_standard.vtu,data/standard_index.xml,data/Tetra_standard_Smoothed.vtu\" \"2.345e-3,2.850e-3,0.93e-3,2.10e-3,0.10e-3,0.825e-3,1.70e-3,1.20e-3,2.45e-3,0.152e-3\" \"1000,1000,5,5\"\n",
    "\n",
    "# command_args0 = lambda i: f\"\\\"data/Tetra_7431.vtu,data/index_7431.xml,data/random/Tetra_7431_{i}.vtu\\\" \"\n",
    "# command_args0 = lambda i: f\"\\\"data/FEM/FEM2.vtu,data/FEM/index2.xml,data/FEM/random/FEM_{i}.vtu\\\" \"\n",
    "# command_args0(0)\n"
   ]
  },
  {
   "cell_type": "code",
   "execution_count": 39,
   "metadata": {},
   "outputs": [],
   "source": [
    "# command_args1 = lambda i: f'\\\"{r0s[i]},{r1s[i]},{h0s[i]},{h1s[i]},{bevels[i]},{pocket_rs[i]},{neck_xs[i]},{neck_rs[i]},{neck_hs[i]},{neck_dhs[i]}\\\" \\\"1000,1000,30,5\\\"'\n",
    "# command_args1(10)\n",
    "\n",
    "# # '../data/Tetra_linspace10.vtu 0.0024755433798037503 0.002760149395923837 0.0008453010001009512 0.002164626447210534 4.579193726579163e-05 0.0008256478737285498 0.0016972425401282683 0.0011950169679237283 0.002514098067549346 0.0001742818416754026 1000'"
   ]
  },
  {
   "cell_type": "code",
   "execution_count": 40,
   "metadata": {},
   "outputs": [],
   "source": [
    "# import subprocess\n",
    "\n",
    "# command = \"cd ../ && cargo run --release \"\n",
    "# result = subprocess.run(command + command_args0(0) + command_args1(0), shell=True)\n"
   ]
  },
  {
   "cell_type": "code",
   "execution_count": null,
   "metadata": {},
   "outputs": [],
   "source": [
    "for i in range(len(df)):\n",
    "    \n",
    "    brg.reload_cage(new_cage(i), 1000, 1000)\n",
    "    \n",
    "    # 最初のステップ\n",
    "    for _ in range(10):\n",
    "        if brg.flip_with_scale(brg_std, 0.1):\n",
    "            break\n",
    "    else:  # for-else構文: ループが正常に終了した場合（breakされなかった場合）に実行\n",
    "        print(f\"Failed at iter0 {i}\")\n",
    "        continue  # 次のイテレーションへスキップ\n",
    "\n",
    "    # 二番目のステップ\n",
    "    for _ in range(5):\n",
    "        if brg.flip_sphire_with_scale(brg_std, 0.01):\n",
    "            print(f\"Success {i}\")\n",
    "            brg.write_vtk_from_base(\"../data/CFD/star_master4_rotated.vtu\", f\"../data/CFD/random/CFD4_{i}.vtu\")\n",
    "            break\n",
    "    else:\n",
    "        print(f\"Failed at iter1 {i}\")"
   ]
  },
  {
   "cell_type": "code",
   "execution_count": null,
   "metadata": {},
   "outputs": [],
   "source": []
  },
  {
   "cell_type": "code",
   "execution_count": 69,
   "metadata": {},
   "outputs": [
    {
     "data": {
      "text/plain": [
       "(100,)"
      ]
     },
     "execution_count": 69,
     "metadata": {},
     "output_type": "execute_result"
    }
   ],
   "source": [
    "import os\n",
    "\n",
    "file_name = lambda i: f'../data/CFD/random/CFD4_{i}.vtu'\n",
    "\n",
    "renamelist = []\n",
    "\n",
    "j = 0\n",
    "for i in range(len(df)):\n",
    "    \n",
    "    if os.path.exists(file_name(i)):\n",
    "        renamelist.append(i)\n",
    "        j = j + 1\n",
    "\n",
    "renamelist = np.array(renamelist[:100])\n",
    "renamelist.shape\n"
   ]
  },
  {
   "cell_type": "code",
   "execution_count": 70,
   "metadata": {},
   "outputs": [
    {
     "data": {
      "text/plain": [
       "array([  0,   3,   4,   5,   6,   7,   8,   9,  10,  11,  12,  13,  14,\n",
       "        15,  17,  22,  23,  25,  26,  27,  31,  32,  33,  34,  35,  36,\n",
       "        37,  39,  40,  42,  43,  44,  45,  46,  47,  49,  50,  51,  52,\n",
       "        54,  55,  56,  57,  59,  60,  62,  63,  64,  65,  66,  67,  69,\n",
       "        70,  71,  72,  74,  75,  78,  79,  80,  81,  82,  83,  84,  86,\n",
       "        87,  88,  89,  90,  91,  92,  93,  97,  98,  99, 100, 102, 103,\n",
       "       104, 105, 106, 107, 108, 109, 110, 112, 113, 114, 115, 117, 118,\n",
       "       119, 120, 121, 122, 124, 126, 128, 129, 131])"
      ]
     },
     "execution_count": 70,
     "metadata": {},
     "output_type": "execute_result"
    }
   ],
   "source": [
    "renamelist"
   ]
  },
  {
   "cell_type": "code",
   "execution_count": 71,
   "metadata": {},
   "outputs": [],
   "source": [
    "df = pd.read_csv('../data/CFD/random/random_params.csv')\n",
    "df = df.iloc[renamelist]\n",
    "df.to_csv('../data/CFD/random/random_params100.csv', index=False)"
   ]
  },
  {
   "cell_type": "code",
   "execution_count": 72,
   "metadata": {},
   "outputs": [],
   "source": [
    "for i in range(100):\n",
    "    os.rename(file_name(renamelist[i]), f'../data/CFD/random/CFD4_{i}.vtu')"
   ]
  },
  {
   "cell_type": "code",
   "execution_count": null,
   "metadata": {},
   "outputs": [],
   "source": [
    "# import os\n",
    "\n",
    "# file_name = lambda i: f'../data/random/Tetra_7431_{i}.vtu'\n",
    "\n",
    "# j = 0\n",
    "# for i in range(100):\n",
    "#     is_exist = os.path.exists(file_name(i))\n",
    "    \n",
    "#     if not is_exist:\n",
    "#         continue\n",
    "    \n",
    "#     # change file name\n",
    "#     os.rename(file_name(i), file_name(j))\n",
    "#     j = j + 1"
   ]
  },
  {
   "cell_type": "markdown",
   "metadata": {},
   "source": [
    "### 次は　`VTK2CGNS.ipynb` へ\n",
    "\n",
    "[VTK2CGNS.ipynb](VTK2CGNS.ipynb)"
   ]
  },
  {
   "cell_type": "code",
   "execution_count": null,
   "metadata": {},
   "outputs": [],
   "source": []
  }
 ],
 "metadata": {
  "kernelspec": {
   "display_name": "Python 3",
   "language": "python",
   "name": "python3"
  },
  "language_info": {
   "codemirror_mode": {
    "name": "ipython",
    "version": 3
   },
   "file_extension": ".py",
   "mimetype": "text/x-python",
   "name": "python",
   "nbconvert_exporter": "python",
   "pygments_lexer": "ipython3",
   "version": "3.12.3"
  }
 },
 "nbformat": 4,
 "nbformat_minor": 2
}
