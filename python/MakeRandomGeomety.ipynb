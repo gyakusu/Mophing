{
 "cells": [
  {
   "cell_type": "markdown",
   "metadata": {},
   "source": [
    "# 乱数を使って保持器を作る"
   ]
  },
  {
   "cell_type": "code",
   "execution_count": 45,
   "metadata": {},
   "outputs": [],
   "source": [
    "import numpy as np\n",
    "import pandas as pd"
   ]
  },
  {
   "cell_type": "code",
   "execution_count": 46,
   "metadata": {},
   "outputs": [
    {
     "data": {
      "text/plain": [
       "array([[ 0.58801745,  0.13338574,  0.32624599,  0.7469644 ,  0.62251933,\n",
       "        -0.32575929,  0.31669614, -0.0504524 , -0.03440628,  0.13686617],\n",
       "       [ 0.04801452,  0.48475784,  0.25367924,  0.04055834,  0.14795441,\n",
       "         0.11122478,  0.49802636, -0.06838609,  0.1043559 , -0.28469858]])"
      ]
     },
     "execution_count": 46,
     "metadata": {},
     "output_type": "execute_result"
    }
   ],
   "source": [
    "np.random.seed(0)\n",
    "params = np.random.randn(100, 10) / 3\n",
    "params[params<-1] = -1\n",
    "params[params>1] = 1\n",
    "params[:2]"
   ]
  },
  {
   "cell_type": "code",
   "execution_count": 47,
   "metadata": {},
   "outputs": [
    {
     "data": {
      "text/plain": [
       "(0.919785038007194, -1.0)"
      ]
     },
     "execution_count": 47,
     "metadata": {},
     "output_type": "execute_result"
    }
   ],
   "source": [
    "params.max(), params.min()"
   ]
  },
  {
   "cell_type": "code",
   "execution_count": 48,
   "metadata": {},
   "outputs": [
    {
     "data": {
      "text/plain": [
       "(0.0026, 0.0026)"
      ]
     },
     "execution_count": 48,
     "metadata": {},
     "output_type": "execute_result"
    }
   ],
   "source": [
    "r0 = lambda dr: 2.35e-3 + dr\n",
    "r1 = lambda dr: 2.85e-3 + dr\n",
    "\n",
    "r0(0.25e-3), r1(-0.25e-3)"
   ]
  },
  {
   "cell_type": "code",
   "execution_count": 49,
   "metadata": {},
   "outputs": [
    {
     "data": {
      "text/plain": [
       "(0.2846060161200868,\n",
       " 0.7137738940849623,\n",
       " 2.1778135578020037,\n",
       " 2.9786354702544657)"
      ]
     },
     "execution_count": 49,
     "metadata": {},
     "output_type": "execute_result"
    }
   ],
   "source": [
    "r0s = r0(params[:, 0] * 0.2e-3)\n",
    "r1s = r1(params[:, 1] * 0.2e-3)\n",
    "drs = r1s - r0s\n",
    "\n",
    "drs.min() * 1e3, drs.max() * 1e3, r0s.min() * 1e3, r1s.max() * 1e3\n"
   ]
  },
  {
   "cell_type": "code",
   "execution_count": 50,
   "metadata": {},
   "outputs": [
    {
     "data": {
      "text/plain": [
       "(1.0835944465122629,\n",
       " 0.7796290513731874,\n",
       " 2.2839570076014386,\n",
       " 1.9517731231850382)"
      ]
     },
     "execution_count": 50,
     "metadata": {},
     "output_type": "execute_result"
    }
   ],
   "source": [
    "h0 = lambda dh: 0.93e-3 + dh\n",
    "h1 = lambda dh: 2.10e-3 + dh\n",
    "\n",
    "h0s = h0(params[:, 2] * 0.2e-3)\n",
    "h1s = h1(params[:, 3] * 0.2e-3)\n",
    "\n",
    "h0s.max() * 1e3, h0s.min() * 1e3, h1s.max() * 1e3, h1s.min() * 1e3"
   ]
  },
  {
   "cell_type": "code",
   "execution_count": 51,
   "metadata": {},
   "outputs": [
    {
     "data": {
      "text/plain": [
       "(0.2898741350854526, 0.11136092540010864)"
      ]
     },
     "execution_count": 51,
     "metadata": {},
     "output_type": "execute_result"
    }
   ],
   "source": [
    "bevel = lambda r: 0.1 * drs * r\n",
    "\n",
    "bevels = bevel(params[:, 4]+2)\n",
    "\n",
    "(bevels / drs).max(), (bevels / drs).min()"
   ]
  },
  {
   "cell_type": "code",
   "execution_count": 52,
   "metadata": {},
   "outputs": [
    {
     "data": {
      "text/plain": [
       "(0.8240551484982418, 0.8258041512265145)"
      ]
     },
     "execution_count": 52,
     "metadata": {},
     "output_type": "execute_result"
    }
   ],
   "source": [
    "pocket_r = lambda dr: 0.825e-3 + dr\n",
    "\n",
    "pocket_rs = pocket_r(params[:, 5] * 1e-6)\n",
    "pocket_rs.min() * 1e3, pocket_rs.max() * 1e3"
   ]
  },
  {
   "cell_type": "code",
   "execution_count": 53,
   "metadata": {},
   "outputs": [
    {
     "data": {
      "text/plain": [
       "(1.6842388412190585, 1.7141119401432245)"
      ]
     },
     "execution_count": 53,
     "metadata": {},
     "output_type": "execute_result"
    }
   ],
   "source": [
    "neck_x = lambda dx: 1.70e-3 + dx\n",
    "\n",
    "neck_xs = neck_x(params[:, 6] * 20e-6)\n",
    "neck_xs.min() * 1e3, neck_xs.max() * 1e3"
   ]
  },
  {
   "cell_type": "code",
   "execution_count": 54,
   "metadata": {},
   "outputs": [
    {
     "data": {
      "text/plain": [
       "(1.1817354855520694, 1.2150448233153213)"
      ]
     },
     "execution_count": 54,
     "metadata": {},
     "output_type": "execute_result"
    }
   ],
   "source": [
    "neck_r = lambda dr: 1.20e-3 + dr\n",
    "\n",
    "neck_rs = neck_r(params[:, 7] * 20e-6)\n",
    "neck_rs.min() * 1e3, neck_rs.max() * 1e3\n"
   ]
  },
  {
   "cell_type": "code",
   "execution_count": 55,
   "metadata": {},
   "outputs": [
    {
     "data": {
      "text/plain": [
       "(2.37101376982578, 2.5364808195922715)"
      ]
     },
     "execution_count": 55,
     "metadata": {},
     "output_type": "execute_result"
    }
   ],
   "source": [
    "neck_h = lambda dh: 2.45e-3 + dh\n",
    "\n",
    "neck_hs = neck_h(params[:, 8] * 100e-6)\n",
    "neck_hs.min() * 1e3, neck_hs.max() * 1e3\n"
   ]
  },
  {
   "cell_type": "code",
   "execution_count": 56,
   "metadata": {},
   "outputs": [
    {
     "data": {
      "text/plain": [
       "(0.028458986531231186, 0.12664880375765164)"
      ]
     },
     "execution_count": 56,
     "metadata": {},
     "output_type": "execute_result"
    }
   ],
   "source": [
    "neck_dh = lambda r: (neck_hs - h1s) * r * 0.1\n",
    "\n",
    "neck_dhs = neck_dh(params[:, 9]+2)\n",
    "neck_dhs.min() * 1e3, neck_dhs.max() * 1e3\n"
   ]
  },
  {
   "cell_type": "code",
   "execution_count": 57,
   "metadata": {},
   "outputs": [],
   "source": [
    "df = pd.DataFrame({\n",
    "    'r0': r0s,\n",
    "    'r1': r1s,\n",
    "    'h0': h0s,\n",
    "    'h1': h1s,\n",
    "    'bevel': bevels,\n",
    "    'pocket_r': pocket_rs,\n",
    "    'neck_x': neck_xs,\n",
    "    'neck_r': neck_rs,\n",
    "    'neck_h': neck_hs,\n",
    "    'neck_dh': neck_dhs\n",
    "})\n",
    "\n",
    "df.to_csv('../data/random/random_params.csv', index=False)\n"
   ]
  },
  {
   "cell_type": "code",
   "execution_count": 58,
   "metadata": {},
   "outputs": [
    {
     "data": {
      "text/plain": [
       "'\"data/Tetra.vtu,data/face_and_edge_index.xml,data/random/Tetra_linspace0.vtu\" '"
      ]
     },
     "execution_count": 58,
     "metadata": {},
     "output_type": "execute_result"
    }
   ],
   "source": [
    "# cargo run --release \"data/Tetra.vtu,data/face_and_edge_index.xml,data/Tetra_linspace.vtu\" \"2.345e-3,2.850e-3,0.93e-3,2.10e-3,0.10e-3,0.825e-3,1.70e-3,1.20e-3,2.45e-3,0.152e-3\" \"100\"\n",
    "\n",
    "command_args0 = lambda i: f\"\\\"data/Tetra.vtu,data/face_and_edge_index.xml,data/random/Tetra_linspace{i}.vtu\\\" \"\n",
    "command_args0(0)\n"
   ]
  },
  {
   "cell_type": "code",
   "execution_count": 59,
   "metadata": {},
   "outputs": [
    {
     "data": {
      "text/plain": [
       "'\"0.0024755433798037503,0.002760149395923837,0.0008453010001009512,0.002164626447210534,4.579193726579163e-05,0.0008256478737285498,0.0016972425401282683,0.0011950169679237283,0.002514098067549346,8.71409208377013e-05\" \"1000\"'"
      ]
     },
     "execution_count": 59,
     "metadata": {},
     "output_type": "execute_result"
    }
   ],
   "source": [
    "command_args1 = lambda i: f'\\\"{r0s[i]},{r1s[i]},{h0s[i]},{h1s[i]},{bevels[i]},{pocket_rs[i]},{neck_xs[i]},{neck_rs[i]},{neck_hs[i]},{neck_dhs[i]}\\\" \\\"1000\\\"'\n",
    "command_args1(10)\n",
    "\n",
    "# '../data/Tetra_linspace10.vtu 0.0024755433798037503 0.002760149395923837 0.0008453010001009512 0.002164626447210534 4.579193726579163e-05 0.0008256478737285498 0.0016972425401282683 0.0011950169679237283 0.002514098067549346 0.0001742818416754026 1000'"
   ]
  },
  {
   "cell_type": "code",
   "execution_count": 60,
   "metadata": {},
   "outputs": [
    {
     "name": "stderr",
     "output_type": "stream",
     "text": [
      "\u001b[1m\u001b[32m   Compiling\u001b[0m mophing v0.1.0 (/Users/gyakusu/Morphing)\n",
      "\u001b[1m\u001b[32m    Finished\u001b[0m release [optimized] target(s) in 0.99s\n",
      "\u001b[1m\u001b[32m     Running\u001b[0m `target/release/mophing data/Tetra.vtu,data/face_and_edge_index.xml,data/random/Tetra_linspace0.vtu 0.0024676034897311776,0.0028766771472244815,0.0009952491989403827,0.0022493928799467637,0.00010728035741904383,0.0008246742407067079,0.0017063339227835039,0.001198990951944682,0.002446559371606881,4.213184053562646e-05 1000`\n"
     ]
    },
    {
     "name": "stdout",
     "output_type": "stream",
     "text": [
      "[[\"data/Tetra.vtu\", \"data/face_and_edge_index.xml\", \"data/random/Tetra_linspace0.vtu\"], [\"0.0024676034897311776\", \"0.0028766771472244815\", \"0.0009952491989403827\", \"0.0022493928799467637\", \"0.00010728035741904383\", \"0.0008246742407067079\", \"0.0017063339227835039\", \"0.001198990951944682\", \"0.002446559371606881\", \"4.213184053562646e-05\"], [\"1000\"]]\n",
      "iteration: 1, quality: 2.1507222e-7\n",
      "iteration: 2, quality: 8.761177e-8\n",
      "iteration: 4, quality: 3.0095332e-8\n",
      "iteration: 8, quality: 6.273119e-9\n",
      "iteration: 16, quality: 4.2958315e-10\n",
      "iteration: 32, quality: 9.890278e-12\n",
      "iteration: 64, quality: 5.188431e-14\n",
      "iteration: 128, quality: 3.8895753e-18\n",
      "iteration: 1, quality: 3.260355e-7\n",
      "iteration: 2, quality: 8.752125e-8\n",
      "iteration: 4, quality: 1.6163764e-8\n",
      "iteration: 8, quality: 1.7159258e-9\n",
      "iteration: 16, quality: 8.465052e-11\n",
      "iteration: 32, quality: 1.7125484e-12\n",
      "iteration: 64, quality: 2.7270937e-15\n",
      "iteration: 128, quality: 4.340109e-19\n",
      "The new file has been created: data/random/Tetra_linspace0.vtu\n"
     ]
    }
   ],
   "source": [
    "import subprocess\n",
    "\n",
    "command = \"cd ../; cargo run --release \"\n",
    "result = subprocess.run(command + command_args0(0) + command_args1(0), shell=True)\n"
   ]
  },
  {
   "cell_type": "code",
   "execution_count": 61,
   "metadata": {},
   "outputs": [
    {
     "name": "stdout",
     "output_type": "stream",
     "text": [
      "Done 0\n",
      "Done 10\n",
      "Done 20\n",
      "Done 30\n",
      "Done 40\n",
      "Done 50\n",
      "Done 60\n",
      "Done 70\n",
      "Done 80\n",
      "Done 90\n"
     ]
    }
   ],
   "source": [
    "output_span = 10\n",
    "\n",
    "for i in range(len(params)):\n",
    "    subprocess.run(command + command_args0(i) + command_args1(i), shell=True, capture_output=True, text=True)\n",
    "    \n",
    "    if i % output_span == 0:\n",
    "        print(f\"Done {i}\")\n"
   ]
  },
  {
   "cell_type": "markdown",
   "metadata": {},
   "source": [
    "## 体積が負のメッシュを可視化\n",
    "\n"
   ]
  },
  {
   "cell_type": "code",
   "execution_count": 41,
   "metadata": {},
   "outputs": [],
   "source": [
    "import numpy as np\n",
    "from matplotlib import pyplot as plt\n",
    "import pyvista as pv\n"
   ]
  },
  {
   "cell_type": "code",
   "execution_count": 42,
   "metadata": {},
   "outputs": [
    {
     "data": {
      "text/plain": [
       "(7431, 3)"
      ]
     },
     "execution_count": 42,
     "metadata": {},
     "output_type": "execute_result"
    }
   ],
   "source": [
    "# ファイル名を指定してデータを読み込む\n",
    "full_mesh = pv.read('../data/Tetra_linspace.vtu')\n",
    "# full_mesh = pv.read('../data/random/Tetra_linspace0.vtu')\n",
    "full_points = np.array(full_mesh.points.tolist()) \n",
    "full_points.shape\n"
   ]
  },
  {
   "cell_type": "code",
   "execution_count": 43,
   "metadata": {},
   "outputs": [
    {
     "data": {
      "image/png": "[encoded data removed]",
      "text/plain": [
       "<Figure size 1200x200 with 1 Axes>"
      ]
     },
     "metadata": {},
     "output_type": "display_data"
    }
   ],
   "source": [
    "def calculate_volume(mesh):\n",
    "    # Get the cells from the mesh\n",
    "    cells = mesh.cells.reshape(-1, 5)[:, 1:]\n",
    "\n",
    "    # Calculate the volume of each tetrahedron\n",
    "    volumes = np.zeros(len(cells))\n",
    "    # for cell in cells:\n",
    "    for i in range(len(cells)):\n",
    "        cell = cells[i]\n",
    "        # Get the points of the tetrahedron\n",
    "        points = np.array(mesh.points[cell])\n",
    "\n",
    "        # Calculate the vectors formed by the points\n",
    "        vectors = points[1:] - points[0]\n",
    "\n",
    "        # Calculate the volume using the cross product\n",
    "        volumes[i] = (np.dot(vectors[0], np.cross(vectors[1], vectors[2]))) / 6\n",
    "\n",
    "    return volumes\n",
    "\n",
    "volumes = calculate_volume(full_mesh)\n",
    "\n",
    "plt.figure(figsize=(12, 2))\n",
    "plt.hist(volumes, bins=100)\n",
    "plt.show()\n"
   ]
  },
  {
   "cell_type": "code",
   "execution_count": 44,
   "metadata": {},
   "outputs": [
    {
     "data": {
      "text/plain": [
       "((35054, 4), (35,), 33167)"
      ]
     },
     "execution_count": 44,
     "metadata": {},
     "output_type": "execute_result"
    }
   ],
   "source": [
    "minus_volume_tetra = np.where(np.array(volumes) < 0)[0]\n",
    "cells0 = np.array(full_mesh.cells.tolist()).reshape(-1, 5)[:, 1:]\n",
    "\n",
    "cells0.shape, minus_volume_tetra.shape, minus_volume_tetra.max()\n"
   ]
  },
  {
   "cell_type": "code",
   "execution_count": 39,
   "metadata": {},
   "outputs": [
    {
     "data": {
      "text/plain": [
       "array([  246,   918,  1654,  3109,  4560,  5298,  5787,  6093,  8999,\n",
       "       10794, 11410, 11512, 12694, 12769, 16015, 17137, 18203, 19177,\n",
       "       19824, 20670, 21299, 21769, 22633, 23267, 23378, 24131, 24399,\n",
       "       24572, 28239, 28386, 28461, 28635, 29535, 29773, 33167])"
      ]
     },
     "execution_count": 39,
     "metadata": {},
     "output_type": "execute_result"
    }
   ],
   "source": [
    "minus_volume_tetra"
   ]
  },
  {
   "cell_type": "code",
   "execution_count": 40,
   "metadata": {},
   "outputs": [],
   "source": [
    "# minus_volume_index = cells0[minus_volume_tetra].flatten()\n",
    "# minus_volume_index = np.unique(minus_volume_index)\n",
    "\n",
    "# full_points = np.array(full_mesh.points.tolist())\n",
    "# minus_points = full_points[minus_volume_index]\n",
    "# minus_points.shape\n"
   ]
  },
  {
   "cell_type": "code",
   "execution_count": 24,
   "metadata": {},
   "outputs": [],
   "source": [
    "surface_index = full_mesh.surface_indices()\n",
    "minus_volume_index = cells0[minus_volume_tetra]\n",
    "\n",
    "all_surface = []\n",
    "\n",
    "for index in cells0:\n",
    "    bool_array = [i in surface_index for i in index]\n",
    "\n",
    "    if sum(bool_array) == 4:\n",
    "        all_surface.append(index)\n",
    "\n",
    "all_surface = np.array(all_surface).flatten()\n",
    "all_surface = np.unique(all_surface)\n",
    "\n",
    "all_points = full_points[all_surface]\n",
    "\n",
    "minus_surface = []\n",
    "\n",
    "# for index in cells0:\n",
    "for index in minus_volume_index:\n",
    "    bool_array = [i in surface_index for i in index]\n",
    "\n",
    "    if sum(bool_array) == 4:\n",
    "        minus_surface.append(index)\n",
    "\n",
    "minus_surface = np.array(minus_surface).flatten()\n",
    "minus_surface = np.unique(minus_surface)\n",
    "\n",
    "minus_points = full_points[minus_surface]\n",
    "surface_points = full_points[surface_index]\n"
   ]
  },
  {
   "cell_type": "code",
   "execution_count": 25,
   "metadata": {},
   "outputs": [
    {
     "data": {
      "image/png": "[encoded data removed]",
      "text/plain": [
       "<Figure size 1200x300 with 2 Axes>"
      ]
     },
     "metadata": {},
     "output_type": "display_data"
    }
   ],
   "source": [
    "fig,ax = plt.subplots(1, 2, figsize=(12, 3))\n",
    "\n",
    "for i in [0,1]:\n",
    "    ax[i].plot(surface_points[:,0], surface_points[:,1+i], '.')\n",
    "    ax[i].plot(all_points[:,0], all_points[:,1+i], '.')\n",
    "    ax[i].plot(minus_points[:,0], minus_points[:,1+i], '.')\n",
    "    ax[i].axis('equal')\n",
    "plt.show()"
   ]
  },
  {
   "cell_type": "code",
   "execution_count": null,
   "metadata": {},
   "outputs": [],
   "source": []
  },
  {
   "cell_type": "code",
   "execution_count": 26,
   "metadata": {},
   "outputs": [
    {
     "data": {
      "image/png": "[encoded data removed]",
      "text/plain": [
       "<Figure size 800x200 with 1 Axes>"
      ]
     },
     "metadata": {},
     "output_type": "display_data"
    }
   ],
   "source": [
    "import matplotlib.pyplot as plt\n",
    "\n",
    "# 各点の接続情報を持つ配列を作成する\n",
    "point_connections = [[] for _ in range(len(full_points))]\n",
    "for i, cell in enumerate(cells0):\n",
    "    if i in minus_volume_tetra:\n",
    "        for j in cell:\n",
    "            point_connections[j].append(i)\n",
    "\n",
    "# 各点から繋がっているセルの数を数える\n",
    "connected_cell_counts = np.array([len(connections) for connections in point_connections])\n",
    "\n",
    "# ヒストグラムを作成する\n",
    "plt.figure(figsize=(8, 2))\n",
    "plt.hist(connected_cell_counts) #, bins=range(max(connected_cell_counts)+2))\n",
    "plt.xlabel('Number of connected cells per point')\n",
    "plt.ylabel('Frequency')\n",
    "plt.title('Histogram of connected negative cells per point')\n",
    "plt.ylim(0, 200)\n",
    "plt.show()"
   ]
  },
  {
   "cell_type": "code",
   "execution_count": 27,
   "metadata": {},
   "outputs": [
    {
     "data": {
      "text/plain": [
       "((7431,), 2, (35054, 4))"
      ]
     },
     "execution_count": 27,
     "metadata": {},
     "output_type": "execute_result"
    }
   ],
   "source": [
    "connected_cell_counts.shape, connected_cell_counts.max(), cells0.shape"
   ]
  },
  {
   "cell_type": "code",
   "execution_count": 28,
   "metadata": {},
   "outputs": [
    {
     "data": {
      "text/plain": [
       "array([  49,   64,   70,   71,  188,  190,  259,  262,  323,  412,  419,\n",
       "        483,  622,  653,  733,  734,  756,  809,  837,  961,  972, 1022,\n",
       "       1042, 1069, 1072, 1130, 1189, 1235, 1302, 1305, 1316, 1362, 1569,\n",
       "       1711, 1723, 1830, 1852, 1853, 1963, 1964, 1972, 2046, 2063, 2064,\n",
       "       2082, 2088, 2177, 2195, 2213, 2238, 2279, 2299, 2317, 2318, 2320,\n",
       "       2338, 2377, 2407, 2414, 2416, 2425, 2429, 2437, 2460, 2516, 2518,\n",
       "       2532, 2533, 2536, 2541, 2575, 2582, 2629, 2634, 2663, 2730, 2760,\n",
       "       2773, 2824, 2919, 3107, 3138, 3242, 3251, 3304, 3342, 3386, 3387,\n",
       "       3401, 3520, 3521, 3581, 3583, 3599, 3625, 3626, 3703, 3704, 3716,\n",
       "       3719, 3787, 3790, 3791, 3813, 3817, 3912, 3932, 3990, 4031, 4034,\n",
       "       4060, 4073, 4091, 4097, 4127, 4174, 4188, 4196, 4199, 4211, 4218,\n",
       "       4292, 4294, 4319, 4363, 4407, 4422, 4433, 4438, 4495, 4536, 4537,\n",
       "       4625, 4647, 4697, 4733, 4734, 4740, 4834, 4848, 4876, 4881, 4887,\n",
       "       4942, 4973, 5044, 5058, 5067, 5074, 5136, 5156, 5174, 5176, 5223,\n",
       "       5241, 5261, 5354, 5355, 5468, 5510, 5564, 5644, 5685, 5720, 5721,\n",
       "       5802, 5803, 5810, 5829, 5839, 5868, 5879, 5883, 5925, 5931, 5937,\n",
       "       5982, 5990, 5991, 6026, 6049, 6138, 6140, 6146, 6159, 6192, 6202,\n",
       "       6205, 6206, 6233, 6268, 6315, 6327, 6336, 6345, 6347, 6366, 6381,\n",
       "       6408, 6409, 6475, 6476, 6650, 6651, 6693, 6695, 6783, 6803, 6804,\n",
       "       6835, 6896, 6986, 7026, 7039])"
      ]
     },
     "execution_count": 28,
     "metadata": {},
     "output_type": "execute_result"
    }
   ],
   "source": [
    "num_1 = np.arange(len(connected_cell_counts))[connected_cell_counts==1]\n",
    "num_1"
   ]
  },
  {
   "cell_type": "code",
   "execution_count": 29,
   "metadata": {},
   "outputs": [
    {
     "data": {
      "image/png": "[encoded data removed]",
      "text/plain": [
       "<Figure size 800x200 with 1 Axes>"
      ]
     },
     "metadata": {},
     "output_type": "display_data"
    }
   ],
   "source": [
    "import matplotlib.pyplot as plt\n",
    "\n",
    "# 各点の接続情報を持つ配列を作成する\n",
    "point_connections1 = [[] for _ in range(len(full_points))]\n",
    "for i, cell in enumerate(cells0):\n",
    "    for j in cell:\n",
    "        if j in num_1:\n",
    "            point_connections1[j].append(i)\n",
    "\n",
    "# 各点から繋がっているセルの数を数える\n",
    "connected_cell_counts1 = np.array([len(connections) for connections in point_connections1])\n",
    "\n",
    "# ヒストグラムを作成する\n",
    "plt.figure(figsize=(8, 2))\n",
    "plt.hist(connected_cell_counts1) #, bins=range(max(connected_cell_counts)+2))\n",
    "plt.xlabel('Number of connected cells per point')\n",
    "plt.ylabel('Frequency')\n",
    "plt.title('Histogram of connected cells per point')\n",
    "plt.ylim(0, 60)\n",
    "plt.show()"
   ]
  },
  {
   "cell_type": "code",
   "execution_count": 30,
   "metadata": {},
   "outputs": [
    {
     "data": {
      "text/plain": [
       "(246,\n",
       " array([49, 71, 64, 70]),\n",
       " array([[0.00135505, 0.00260337, 0.00342964],\n",
       "        [0.00122853, 0.00259898, 0.00345454],\n",
       "        [0.00130919, 0.00265664, 0.00332288],\n",
       "        [0.00122591, 0.00266166, 0.00334549]]))"
      ]
     },
     "execution_count": 30,
     "metadata": {},
     "output_type": "execute_result"
    }
   ],
   "source": [
    "example_tetra = minus_volume_tetra[0]\n",
    "example_index = cells0[example_tetra]\n",
    "example_point = full_points[example_index]\n",
    "\n",
    "example_tetra, example_index, example_point"
   ]
  },
  {
   "cell_type": "code",
   "execution_count": 31,
   "metadata": {},
   "outputs": [
    {
     "data": {
      "text/plain": [
       "(array([5.35071763e-09, 5.46069743e-09, 8.00638820e-09, 8.11663034e-09]), 3)"
      ]
     },
     "execution_count": 31,
     "metadata": {},
     "output_type": "execute_result"
    }
   ],
   "source": [
    "example_area = np.zeros(4)\n",
    "\n",
    "for i in range(4):\n",
    "    j = (i + 1) % 4\n",
    "    k = (i + 2) % 4\n",
    "    l = (i + 3) % 4\n",
    "\n",
    "    vector0 = example_point[l] - example_point[j]\n",
    "    vector1 = example_point[k] - example_point[j]\n",
    "    example_area[i] = np.linalg.norm(np.cross(vector0, vector1)) / 2\n",
    "\n",
    "max_area = example_area.argmax()\n",
    "\n",
    "example_area, max_area"
   ]
  },
  {
   "cell_type": "code",
   "execution_count": null,
   "metadata": {},
   "outputs": [],
   "source": []
  },
  {
   "cell_type": "code",
   "execution_count": 32,
   "metadata": {},
   "outputs": [
    {
     "data": {
      "text/plain": [
       "9.803539633080236e-06"
      ]
     },
     "execution_count": 32,
     "metadata": {},
     "output_type": "execute_result"
    }
   ],
   "source": [
    "j = (max_area + 1) % 4\n",
    "k = (max_area + 2) % 4\n",
    "l = (max_area + 3) % 4\n",
    "\n",
    "example_normal = np.cross(example_point[l] - example_point[j], example_point[k] - example_point[j])\n",
    "example_normal = example_normal / np.linalg.norm(example_normal)\n",
    "\n",
    "example_distance = np.dot(example_point[max_area] - example_point[j], example_normal)\n",
    "example_distance"
   ]
  },
  {
   "cell_type": "code",
   "execution_count": 33,
   "metadata": {},
   "outputs": [
    {
     "data": {
      "text/plain": [
       "-9.803539633080458e-06"
      ]
     },
     "execution_count": 33,
     "metadata": {},
     "output_type": "execute_result"
    }
   ],
   "source": [
    "example_new_point = example_point[max_area] - 2 * example_normal * example_distance\n",
    "np.dot(example_new_point - example_point[j], example_normal)"
   ]
  },
  {
   "cell_type": "code",
   "execution_count": 34,
   "metadata": {},
   "outputs": [
    {
     "data": {
      "text/plain": [
       "pyvista_ndarray([   0,    2,    3, ..., 7428, 7429, 7430])"
      ]
     },
     "execution_count": 34,
     "metadata": {},
     "output_type": "execute_result"
    }
   ],
   "source": [
    "surface_index = full_mesh.surface_indices()\n",
    "surface_index"
   ]
  },
  {
   "cell_type": "code",
   "execution_count": 35,
   "metadata": {},
   "outputs": [
    {
     "name": "stdout",
     "output_type": "stream",
     "text": [
      "20\n"
     ]
    }
   ],
   "source": [
    "import numpy as np\n",
    "index0 = np.array([10, 0, 20, 30])\n",
    "area0  = np.array([1, 2, 3, 4])\n",
    "surface0 = np.array([10, 30, 40, 50])\n",
    "\n",
    "# area0の値が大きい順にインデックスをソートする\n",
    "sorted_indices = np.argsort(area0)[::-1]\n",
    "\n",
    "# ソートしたインデックスの中で、surface0に含まれない最初のものを探す\n",
    "for index in sorted_indices:\n",
    "    if index0[index] not in surface0:\n",
    "        result = index0[index]\n",
    "        break\n",
    "\n",
    "print(result)\n"
   ]
  },
  {
   "cell_type": "code",
   "execution_count": 40,
   "metadata": {},
   "outputs": [
    {
     "name": "stdout",
     "output_type": "stream",
     "text": [
      "157\n",
      "Warning: relaxation is not enough\n"
     ]
    }
   ],
   "source": [
    "import numpy as np\n",
    "import pyvista as pv\n",
    "\n",
    "def process_mesh(filename, relaxation=1.0, overwrite=False, itaration=10):\n",
    "    full_mesh = pv.read(filename)\n",
    "    surface_index = full_mesh.surface_indices()\n",
    "    all_positive_mesh  = full_mesh.copy()\n",
    "    all_positive_cell  = all_positive_mesh.cells.reshape(-1, 5)[:, 1:]\n",
    "    all_positive_point = all_positive_mesh.points.copy()\n",
    "\n",
    "    for hoge in range(itaration):\n",
    "        count = 0\n",
    "        for index in all_positive_cell:\n",
    "            point = all_positive_point[index]\n",
    "            vectors = point[1:] - point[0]\n",
    "            volume = (np.dot(vectors[0], np.cross(vectors[1], vectors[2]))) / 6\n",
    "\n",
    "            if volume > 0:\n",
    "                continue\n",
    "\n",
    "            count += 1\n",
    "            bool_array = [i in surface_index for i in index]\n",
    "            # print(bool_array, sum(bool_array))\n",
    "\n",
    "            area = np.zeros(4)\n",
    "            for i in range(4):\n",
    "                j = (i + 1) % 4\n",
    "                k = (i + 2) % 4\n",
    "                l = (i + 3) % 4\n",
    "\n",
    "                vector0 = point[l] - point[j]\n",
    "                vector1 = point[k] - point[j]\n",
    "\n",
    "                area[i] = np.linalg.norm(np.cross(vector0, vector1))\n",
    "\n",
    "            sorted_indices = np.argsort(area)[::-1]\n",
    "\n",
    "            for i in sorted_indices:\n",
    "                if index[i] not in surface_index:\n",
    "                    max_area = i\n",
    "\n",
    "            j = (max_area + 1) % 4\n",
    "            k = (max_area + 2) % 4\n",
    "            l = (max_area + 3) % 4\n",
    "\n",
    "            normal = np.cross(point[l] - point[j], point[k] - point[j])\n",
    "            normal = normal / np.linalg.norm(normal)\n",
    "\n",
    "            distance = np.dot(point[max_area] - point[j], normal)\n",
    "            new_point = point[max_area] - (1 + relaxation) * normal * distance\n",
    "\n",
    "            all_positive_point[index[max_area]] = new_point\n",
    "\n",
    "        print(count)\n",
    "        if count == 0:\n",
    "            break\n",
    "\n",
    "        if hoge == itaration - 1:\n",
    "            print('Warning: relaxation is not enough')\n",
    "\n",
    "    if overwrite:\n",
    "        all_positive_mesh.points = all_positive_point\n",
    "    return all_positive_mesh\n",
    "\n",
    "# all_positive_mesh = process_mesh('../data/random/Tetra_linspace0.vtu', 1.0, True)\n",
    "all_positive_mesh = process_mesh('../data/random/Tetra_linspace0.vtu', 0.0, True, 1)\n"
   ]
  },
  {
   "cell_type": "code",
   "execution_count": 41,
   "metadata": {},
   "outputs": [
    {
     "data": {
      "image/png": "[encoded data removed]",
      "text/plain": [
       "<Figure size 1200x200 with 1 Axes>"
      ]
     },
     "metadata": {},
     "output_type": "display_data"
    }
   ],
   "source": [
    "positive_volumes = calculate_volume(all_positive_mesh)\n",
    "\n",
    "plt.figure(figsize=(12, 2))\n",
    "plt.hist(positive_volumes*1e12, bins=200)\n",
    "plt.show()\n"
   ]
  },
  {
   "cell_type": "code",
   "execution_count": null,
   "metadata": {},
   "outputs": [],
   "source": []
  },
  {
   "cell_type": "code",
   "execution_count": 42,
   "metadata": {},
   "outputs": [
    {
     "data": {
      "text/plain": [
       "-1.174969409961646e-13"
      ]
     },
     "execution_count": 42,
     "metadata": {},
     "output_type": "execute_result"
    }
   ],
   "source": [
    "positive_volumes.min()"
   ]
  },
  {
   "cell_type": "code",
   "execution_count": 44,
   "metadata": {},
   "outputs": [
    {
     "name": "stdout",
     "output_type": "stream",
     "text": [
      "Processing 0\n",
      "222\n",
      "410\n",
      "814\n",
      "1407\n",
      "2175\n",
      "3498\n",
      "4877\n",
      "6416\n",
      "7798\n",
      "8942\n",
      "Warning: relaxation is not enough\n",
      "-3.246546735150938e-08\n",
      "Processing 1\n",
      "422\n",
      "854\n",
      "1698\n",
      "2573\n",
      "3597\n",
      "4647\n",
      "5602\n",
      "6785\n",
      "7804\n",
      "8804\n",
      "Warning: relaxation is not enough\n",
      "-8.882597057890962e-08\n",
      "Processing 2\n",
      "723\n",
      "1096\n",
      "1753\n",
      "2592\n"
     ]
    },
    {
     "ename": "KeyboardInterrupt",
     "evalue": "",
     "output_type": "error",
     "traceback": [
      "\u001b[0;31m---------------------------------------------------------------------------\u001b[0m",
      "\u001b[0;31mKeyboardInterrupt\u001b[0m                         Traceback (most recent call last)",
      "Cell \u001b[0;32mIn[44], line 3\u001b[0m\n\u001b[1;32m      1\u001b[0m \u001b[38;5;28;01mfor\u001b[39;00m i \u001b[38;5;129;01min\u001b[39;00m \u001b[38;5;28mrange\u001b[39m(\u001b[38;5;241m100\u001b[39m):\n\u001b[1;32m      2\u001b[0m     \u001b[38;5;28mprint\u001b[39m(\u001b[38;5;124mf\u001b[39m\u001b[38;5;124m\"\u001b[39m\u001b[38;5;124mProcessing \u001b[39m\u001b[38;5;132;01m{\u001b[39;00mi\u001b[38;5;132;01m}\u001b[39;00m\u001b[38;5;124m\"\u001b[39m)\n\u001b[0;32m----> 3\u001b[0m     all_positive_mesh \u001b[38;5;241m=\u001b[39m \u001b[43mprocess_mesh\u001b[49m\u001b[43m(\u001b[49m\u001b[38;5;124;43mf\u001b[39;49m\u001b[38;5;124;43m'\u001b[39;49m\u001b[38;5;124;43m../data/random/Tetra_linspace\u001b[39;49m\u001b[38;5;132;43;01m{\u001b[39;49;00m\u001b[43mi\u001b[49m\u001b[38;5;132;43;01m}\u001b[39;49;00m\u001b[38;5;124;43m.vtu\u001b[39;49m\u001b[38;5;124;43m'\u001b[39;49m\u001b[43m,\u001b[49m\u001b[43m \u001b[49m\u001b[38;5;241;43m1.0\u001b[39;49m\u001b[43m,\u001b[49m\u001b[43m \u001b[49m\u001b[38;5;28;43;01mTrue\u001b[39;49;00m\u001b[43m,\u001b[49m\u001b[43m \u001b[49m\u001b[38;5;241;43m10\u001b[39;49m\u001b[43m)\u001b[49m\n\u001b[1;32m      4\u001b[0m     \u001b[38;5;66;03m# all_positive_mesh.save(f'../data/random/Tetra_linspace{i}.vtu')\u001b[39;00m\n\u001b[1;32m      5\u001b[0m     positive_volumes \u001b[38;5;241m=\u001b[39m calculate_volume(all_positive_mesh)\n",
      "Cell \u001b[0;32mIn[40], line 14\u001b[0m, in \u001b[0;36mprocess_mesh\u001b[0;34m(filename, relaxation, overwrite, itaration)\u001b[0m\n\u001b[1;32m     12\u001b[0m count \u001b[38;5;241m=\u001b[39m \u001b[38;5;241m0\u001b[39m\n\u001b[1;32m     13\u001b[0m \u001b[38;5;28;01mfor\u001b[39;00m index \u001b[38;5;129;01min\u001b[39;00m all_positive_cell:\n\u001b[0;32m---> 14\u001b[0m     point \u001b[38;5;241m=\u001b[39m \u001b[43mall_positive_point\u001b[49m\u001b[43m[\u001b[49m\u001b[43mindex\u001b[49m\u001b[43m]\u001b[49m\n\u001b[1;32m     15\u001b[0m     vectors \u001b[38;5;241m=\u001b[39m point[\u001b[38;5;241m1\u001b[39m:] \u001b[38;5;241m-\u001b[39m point[\u001b[38;5;241m0\u001b[39m]\n\u001b[1;32m     16\u001b[0m     volume \u001b[38;5;241m=\u001b[39m (np\u001b[38;5;241m.\u001b[39mdot(vectors[\u001b[38;5;241m0\u001b[39m], np\u001b[38;5;241m.\u001b[39mcross(vectors[\u001b[38;5;241m1\u001b[39m], vectors[\u001b[38;5;241m2\u001b[39m]))) \u001b[38;5;241m/\u001b[39m \u001b[38;5;241m6\u001b[39m\n",
      "File \u001b[0;32m~/Library/Python/3.9/lib/python/site-packages/pyvista/core/pyvista_ndarray.py:82\u001b[0m, in \u001b[0;36mpyvista_ndarray.__array_finalize__\u001b[0;34m(self, obj)\u001b[0m\n\u001b[1;32m     74\u001b[0m \u001b[38;5;66;03m# this is necessary to ensure that views/slices of pyvista_ndarray\u001b[39;00m\n\u001b[1;32m     75\u001b[0m \u001b[38;5;66;03m# objects stay associated with those of their parents.\u001b[39;00m\n\u001b[1;32m     76\u001b[0m \u001b[38;5;66;03m#\u001b[39;00m\n\u001b[0;32m   (...)\u001b[0m\n\u001b[1;32m     79\u001b[0m \u001b[38;5;66;03m# convention, but here we just map those over to the appropriate\u001b[39;00m\n\u001b[1;32m     80\u001b[0m \u001b[38;5;66;03m# attributes of this class\u001b[39;00m\n\u001b[1;32m     81\u001b[0m _vtk\u001b[38;5;241m.\u001b[39mVTKArray\u001b[38;5;241m.\u001b[39m__array_finalize__(\u001b[38;5;28mself\u001b[39m, obj)\n\u001b[0;32m---> 82\u001b[0m \u001b[38;5;28;01mif\u001b[39;00m \u001b[43mnp\u001b[49m\u001b[38;5;241;43m.\u001b[39;49m\u001b[43mshares_memory\u001b[49m\u001b[43m(\u001b[49m\u001b[38;5;28;43mself\u001b[39;49m\u001b[43m,\u001b[49m\u001b[43m \u001b[49m\u001b[43mobj\u001b[49m\u001b[43m)\u001b[49m:\n\u001b[1;32m     83\u001b[0m     \u001b[38;5;28mself\u001b[39m\u001b[38;5;241m.\u001b[39mdataset \u001b[38;5;241m=\u001b[39m \u001b[38;5;28mgetattr\u001b[39m(obj, \u001b[38;5;124m'\u001b[39m\u001b[38;5;124mdataset\u001b[39m\u001b[38;5;124m'\u001b[39m, \u001b[38;5;28;01mNone\u001b[39;00m)\n\u001b[1;32m     84\u001b[0m     \u001b[38;5;28mself\u001b[39m\u001b[38;5;241m.\u001b[39massociation \u001b[38;5;241m=\u001b[39m \u001b[38;5;28mgetattr\u001b[39m(obj, \u001b[38;5;124m'\u001b[39m\u001b[38;5;124massociation\u001b[39m\u001b[38;5;124m'\u001b[39m, FieldAssociation\u001b[38;5;241m.\u001b[39mNONE)\n",
      "\u001b[0;31mKeyboardInterrupt\u001b[0m: "
     ]
    }
   ],
   "source": [
    "for i in range(100):\n",
    "    print(f\"Processing {i}\")\n",
    "    all_positive_mesh = process_mesh(f'../data/random/Tetra_linspace{i}.vtu', 1.0, True, 10)\n",
    "    # all_positive_mesh.save(f'../data/random/Tetra_linspace{i}.vtu')\n",
    "    positive_volumes = calculate_volume(all_positive_mesh)\n",
    "    print(positive_volumes.min())\n"
   ]
  },
  {
   "cell_type": "markdown",
   "metadata": {},
   "source": [
    "memo\n",
    "\n",
    "[2, 15, 23, 41, 53, 60, ]"
   ]
  },
  {
   "cell_type": "code",
   "execution_count": 128,
   "metadata": {},
   "outputs": [
    {
     "name": "stdout",
     "output_type": "stream",
     "text": [
      "7\n",
      "7\n",
      "7\n",
      "8\n",
      "5\n",
      "2\n",
      "2\n",
      "2\n",
      "2\n",
      "2\n",
      "Warning: relaxation is not enough\n"
     ]
    }
   ],
   "source": [
    "all_positive_mesh = process_mesh(f'../data/random/Tetra_linspace{53}.vtu', 1.0, False)\n"
   ]
  },
  {
   "cell_type": "code",
   "execution_count": null,
   "metadata": {},
   "outputs": [],
   "source": []
  },
  {
   "cell_type": "code",
   "execution_count": null,
   "metadata": {},
   "outputs": [],
   "source": []
  },
  {
   "cell_type": "code",
   "execution_count": null,
   "metadata": {},
   "outputs": [],
   "source": []
  },
  {
   "cell_type": "code",
   "execution_count": null,
   "metadata": {},
   "outputs": [],
   "source": []
  },
  {
   "cell_type": "code",
   "execution_count": null,
   "metadata": {},
   "outputs": [],
   "source": []
  },
  {
   "cell_type": "code",
   "execution_count": null,
   "metadata": {},
   "outputs": [],
   "source": []
  },
  {
   "cell_type": "code",
   "execution_count": null,
   "metadata": {},
   "outputs": [],
   "source": []
  },
  {
   "cell_type": "code",
   "execution_count": null,
   "metadata": {},
   "outputs": [],
   "source": []
  },
  {
   "cell_type": "markdown",
   "metadata": {},
   "source": [
    "## 以下のアルゴリズムはエッジを反転させる結果，STARでエラーになります．実行しないでください．"
   ]
  },
  {
   "cell_type": "code",
   "execution_count": 54,
   "metadata": {},
   "outputs": [],
   "source": [
    "# def flip_cells(mesh, cells_to_flip):\n",
    "#     # Get the cells from the mesh\n",
    "#     cells = np.array(mesh.cells.tolist()).reshape(-1, 5)\n",
    "\n",
    "#     # Flip the cells\n",
    "#     for cell in cells_to_flip:\n",
    "#         # Get the points of the tetrahedron\n",
    "#         points = cells[cell]\n",
    "\n",
    "#         # Reverse the order of the points\n",
    "#         cells[cell] = points[[0, 1, 3, 2, 4]]\n",
    "\n",
    "#     # Update the cells of the mesh\n",
    "#     mesh.cells = cells.reshape(-1, 1)\n",
    "\n",
    "#     return mesh\n",
    "\n",
    "# full_mesh = flip_cells(full_mesh, minus_volume_tetra)\n",
    "# minus_volume0 = calculate_volume(full_mesh) < 0\n",
    "# minus_volume0.sum()"
   ]
  },
  {
   "cell_type": "code",
   "execution_count": null,
   "metadata": {},
   "outputs": [],
   "source": []
  },
  {
   "cell_type": "code",
   "execution_count": 55,
   "metadata": {},
   "outputs": [],
   "source": [
    "# output_span = 10\n",
    "\n",
    "# for i in range(100):\n",
    "#     full_mesh = pv.read(f'../data/random/Tetra_linspace{i}.vtu')\n",
    "#     volumes = calculate_volume(full_mesh)\n",
    "#     minus_volume_tetra = np.where(np.array(volumes) < 0)[0]\n",
    "\n",
    "#     if i % output_span == 0:\n",
    "#         print(f\"itaration {i}, minus_volume_tetra: {minus_volume_tetra.shape}\")\n",
    "\n",
    "#     full_mesh = flip_cells(full_mesh, minus_volume_tetra)\n",
    "#     volumes = calculate_volume(full_mesh)\n",
    "\n",
    "#     # pv.save_meshio(f'../data/random/Tetra_linspace{i}.vtu', full_mesh, binary=False)\n",
    "#     pv.save_meshio(f'../data/random/Tetra_linspace{i}.vtu', full_mesh, binary=True)\n",
    "    "
   ]
  },
  {
   "cell_type": "code",
   "execution_count": null,
   "metadata": {},
   "outputs": [],
   "source": []
  }
 ],
 "metadata": {
  "kernelspec": {
   "display_name": "Python 3",
   "language": "python",
   "name": "python3"
  },
  "language_info": {
   "codemirror_mode": {
    "name": "ipython",
    "version": 3
   },
   "file_extension": ".py",
   "mimetype": "text/x-python",
   "name": "python",
   "nbconvert_exporter": "python",
   "pygments_lexer": "ipython3",
   "version": "3.9.6"
  }
 },
 "nbformat": 4,
 "nbformat_minor": 2
}
