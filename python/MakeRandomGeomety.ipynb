{
 "cells": [
  {
   "cell_type": "markdown",
   "metadata": {},
   "source": [
    "# 乱数を使って保持器を作る"
   ]
  },
  {
   "cell_type": "code",
   "execution_count": 1,
   "metadata": {},
   "outputs": [],
   "source": [
    "import numpy as np\n",
    "import pandas as pd"
   ]
  },
  {
   "cell_type": "code",
   "execution_count": 2,
   "metadata": {},
   "outputs": [
    {
     "data": {
      "text/plain": [
       "array([[ 0.58801745,  0.13338574,  0.32624599,  0.7469644 ,  0.62251933,\n",
       "        -0.32575929,  0.31669614, -0.0504524 , -0.03440628,  0.13686617],\n",
       "       [ 0.04801452,  0.48475784,  0.25367924,  0.04055834,  0.14795441,\n",
       "         0.11122478,  0.49802636, -0.06838609,  0.1043559 , -0.28469858]])"
      ]
     },
     "execution_count": 2,
     "metadata": {},
     "output_type": "execute_result"
    }
   ],
   "source": [
    "np.random.seed(0)\n",
    "params = np.random.randn(100, 10) / 3\n",
    "params[params<-1] = -1\n",
    "params[params>1] = 1\n",
    "params[:2]"
   ]
  },
  {
   "cell_type": "code",
   "execution_count": 3,
   "metadata": {},
   "outputs": [
    {
     "data": {
      "text/plain": [
       "(0.919785038007194, -1.0)"
      ]
     },
     "execution_count": 3,
     "metadata": {},
     "output_type": "execute_result"
    }
   ],
   "source": [
    "params.max(), params.min()"
   ]
  },
  {
   "cell_type": "code",
   "execution_count": 4,
   "metadata": {},
   "outputs": [
    {
     "data": {
      "text/plain": [
       "(0.0026, 0.0026)"
      ]
     },
     "execution_count": 4,
     "metadata": {},
     "output_type": "execute_result"
    }
   ],
   "source": [
    "r0 = lambda dr: 2.35e-3 + dr\n",
    "r1 = lambda dr: 2.85e-3 + dr\n",
    "\n",
    "r0(0.25e-3), r1(-0.25e-3)"
   ]
  },
  {
   "cell_type": "code",
   "execution_count": 5,
   "metadata": {},
   "outputs": [
    {
     "data": {
      "text/plain": [
       "(0.2846060161200868,\n",
       " 0.7137738940849623,\n",
       " 2.1778135578020037,\n",
       " 2.9786354702544657)"
      ]
     },
     "execution_count": 5,
     "metadata": {},
     "output_type": "execute_result"
    }
   ],
   "source": [
    "r0s = r0(params[:, 0] * 0.2e-3)\n",
    "r1s = r1(params[:, 1] * 0.2e-3)\n",
    "drs = r1s - r0s\n",
    "\n",
    "drs.min() * 1e3, drs.max() * 1e3, r0s.min() * 1e3, r1s.max() * 1e3\n"
   ]
  },
  {
   "cell_type": "code",
   "execution_count": 6,
   "metadata": {},
   "outputs": [
    {
     "data": {
      "text/plain": [
       "(1.0835944465122629,\n",
       " 0.7796290513731874,\n",
       " 2.2839570076014386,\n",
       " 1.9517731231850382)"
      ]
     },
     "execution_count": 6,
     "metadata": {},
     "output_type": "execute_result"
    }
   ],
   "source": [
    "h0 = lambda dh: 0.93e-3 + dh\n",
    "h1 = lambda dh: 2.10e-3 + dh\n",
    "\n",
    "h0s = h0(params[:, 2] * 0.2e-3)\n",
    "h1s = h1(params[:, 3] * 0.2e-3)\n",
    "\n",
    "h0s.max() * 1e3, h0s.min() * 1e3, h1s.max() * 1e3, h1s.min() * 1e3"
   ]
  },
  {
   "cell_type": "code",
   "execution_count": 7,
   "metadata": {},
   "outputs": [
    {
     "data": {
      "text/plain": [
       "(0.2898741350854526, 0.11136092540010864)"
      ]
     },
     "execution_count": 7,
     "metadata": {},
     "output_type": "execute_result"
    }
   ],
   "source": [
    "bevel = lambda r: 0.1 * drs * r\n",
    "\n",
    "bevels = bevel(params[:, 4]+2)\n",
    "\n",
    "(bevels / drs).max(), (bevels / drs).min()"
   ]
  },
  {
   "cell_type": "code",
   "execution_count": 8,
   "metadata": {},
   "outputs": [
    {
     "data": {
      "text/plain": [
       "(0.8240551484982418, 0.8258041512265145)"
      ]
     },
     "execution_count": 8,
     "metadata": {},
     "output_type": "execute_result"
    }
   ],
   "source": [
    "pocket_r = lambda dr: 0.825e-3 + dr\n",
    "\n",
    "pocket_rs = pocket_r(params[:, 5] * 1e-6)\n",
    "pocket_rs.min() * 1e3, pocket_rs.max() * 1e3"
   ]
  },
  {
   "cell_type": "code",
   "execution_count": 9,
   "metadata": {},
   "outputs": [
    {
     "data": {
      "text/plain": [
       "(1.6842388412190585, 1.7141119401432245)"
      ]
     },
     "execution_count": 9,
     "metadata": {},
     "output_type": "execute_result"
    }
   ],
   "source": [
    "neck_x = lambda dx: 1.70e-3 + dx\n",
    "\n",
    "neck_xs = neck_x(params[:, 6] * 20e-6)\n",
    "neck_xs.min() * 1e3, neck_xs.max() * 1e3"
   ]
  },
  {
   "cell_type": "code",
   "execution_count": 10,
   "metadata": {},
   "outputs": [
    {
     "data": {
      "text/plain": [
       "(1.1817354855520694, 1.2150448233153213)"
      ]
     },
     "execution_count": 10,
     "metadata": {},
     "output_type": "execute_result"
    }
   ],
   "source": [
    "neck_r = lambda dr: 1.20e-3 + dr\n",
    "\n",
    "neck_rs = neck_r(params[:, 7] * 20e-6)\n",
    "neck_rs.min() * 1e3, neck_rs.max() * 1e3\n"
   ]
  },
  {
   "cell_type": "code",
   "execution_count": 11,
   "metadata": {},
   "outputs": [
    {
     "data": {
      "text/plain": [
       "(2.37101376982578, 2.5364808195922715)"
      ]
     },
     "execution_count": 11,
     "metadata": {},
     "output_type": "execute_result"
    }
   ],
   "source": [
    "neck_h = lambda dh: 2.45e-3 + dh\n",
    "\n",
    "neck_hs = neck_h(params[:, 8] * 100e-6)\n",
    "neck_hs.min() * 1e3, neck_hs.max() * 1e3\n"
   ]
  },
  {
   "cell_type": "code",
   "execution_count": 12,
   "metadata": {},
   "outputs": [
    {
     "data": {
      "text/plain": [
       "(0.028458986531231186, 0.12664880375765164)"
      ]
     },
     "execution_count": 12,
     "metadata": {},
     "output_type": "execute_result"
    }
   ],
   "source": [
    "neck_dh = lambda r: (neck_hs - h1s) * r * 0.1\n",
    "\n",
    "neck_dhs = neck_dh(params[:, 9]+2)\n",
    "neck_dhs.min() * 1e3, neck_dhs.max() * 1e3\n"
   ]
  },
  {
   "cell_type": "code",
   "execution_count": 13,
   "metadata": {},
   "outputs": [],
   "source": [
    "df = pd.DataFrame({\n",
    "    'r0': r0s,\n",
    "    'r1': r1s,\n",
    "    'h0': h0s,\n",
    "    'h1': h1s,\n",
    "    'bevel': bevels,\n",
    "    'pocket_r': pocket_rs,\n",
    "    'neck_x': neck_xs,\n",
    "    'neck_r': neck_rs,\n",
    "    'neck_h': neck_hs,\n",
    "    'neck_dh': neck_dhs\n",
    "})\n",
    "\n",
    "df.to_csv('../data/random/random_params.csv', index=False)\n"
   ]
  },
  {
   "cell_type": "code",
   "execution_count": 14,
   "metadata": {},
   "outputs": [
    {
     "data": {
      "text/plain": [
       "'\"data/Tetra.vtu,data/face_and_edge_index.xml,data/random/Tetra_linspace0.vtu\" '"
      ]
     },
     "execution_count": 14,
     "metadata": {},
     "output_type": "execute_result"
    }
   ],
   "source": [
    "# cargo run --release \"data/Tetra.vtu,data/face_and_edge_index.xml,data/Tetra_linspace.vtu\" \"2.345e-3,2.850e-3,0.93e-3,2.10e-3,0.10e-3,0.825e-3,1.70e-3,1.20e-3,2.45e-3,0.152e-3\" \"100\"\n",
    "\n",
    "command_args0 = lambda i: f\"\\\"data/Tetra.vtu,data/face_and_edge_index.xml,data/random/Tetra_linspace{i}.vtu\\\" \"\n",
    "command_args0(0)\n"
   ]
  },
  {
   "cell_type": "code",
   "execution_count": 15,
   "metadata": {},
   "outputs": [
    {
     "data": {
      "text/plain": [
       "'\"0.0024755433798037503,0.002760149395923837,0.0008453010001009512,0.002164626447210534,4.579193726579163e-05,0.0008256478737285498,0.0016972425401282683,0.0011950169679237283,0.002514098067549346,8.71409208377013e-05\" \"1000\"'"
      ]
     },
     "execution_count": 15,
     "metadata": {},
     "output_type": "execute_result"
    }
   ],
   "source": [
    "command_args1 = lambda i: f'\\\"{r0s[i]},{r1s[i]},{h0s[i]},{h1s[i]},{bevels[i]},{pocket_rs[i]},{neck_xs[i]},{neck_rs[i]},{neck_hs[i]},{neck_dhs[i]}\\\" \\\"1000\\\"'\n",
    "command_args1(10)\n",
    "\n",
    "# '../data/Tetra_linspace10.vtu 0.0024755433798037503 0.002760149395923837 0.0008453010001009512 0.002164626447210534 4.579193726579163e-05 0.0008256478737285498 0.0016972425401282683 0.0011950169679237283 0.002514098067549346 0.0001742818416754026 1000'"
   ]
  },
  {
   "cell_type": "code",
   "execution_count": 16,
   "metadata": {},
   "outputs": [
    {
     "name": "stderr",
     "output_type": "stream",
     "text": [
      "\u001b[1m\u001b[32m    Finished\u001b[0m release [optimized] target(s) in 0.24s\n",
      "\u001b[1m\u001b[32m     Running\u001b[0m `target/release/mophing data/Tetra.vtu,data/face_and_edge_index.xml,data/random/Tetra_linspace10.vtu 0.0024755433798037503,0.002760149395923837,0.0008453010001009512,0.002164626447210534,4.579193726579163e-05,0.0008256478737285498,0.0016972425401282683,0.0011950169679237283,0.002514098067549346,8.71409208377013e-05 1000`\n"
     ]
    },
    {
     "name": "stdout",
     "output_type": "stream",
     "text": [
      "[[\"data/Tetra.vtu\", \"data/face_and_edge_index.xml\", \"data/random/Tetra_linspace10.vtu\"], [\"0.0024755433798037503\", \"0.002760149395923837\", \"0.0008453010001009512\", \"0.002164626447210534\", \"4.579193726579163e-05\", \"0.0008256478737285498\", \"0.0016972425401282683\", \"0.0011950169679237283\", \"0.002514098067549346\", \"8.71409208377013e-05\"], [\"1000\"]]\n",
      "iteration: 1, quality: 0.010937042\n",
      "iteration: 2, quality: 0.0065268707\n",
      "iteration: 4, quality: 0.0032315673\n",
      "iteration: 8, quality: 0.001217883\n",
      "iteration: 16, quality: 0.0002577934\n",
      "iteration: 32, quality: 2.4710514e-5\n",
      "iteration: 64, quality: 1.2650395e-6\n",
      "iteration: 128, quality: 5.3103466e-10\n",
      "iteration: 1, quality: 0.028009864\n",
      "iteration: 2, quality: 0.0149004115\n",
      "iteration: 4, quality: 0.006564352\n",
      "iteration: 8, quality: 0.0019724276\n",
      "iteration: 16, quality: 0.0003320252\n",
      "iteration: 32, quality: 2.5860802e-5\n",
      "iteration: 64, quality: 4.788802e-7\n",
      "iteration: 128, quality: 0.0\n",
      "The new file has been created: data/random/Tetra_linspace10.vtu\n"
     ]
    }
   ],
   "source": [
    "import subprocess\n",
    "\n",
    "command = \"cd ../; cargo run --release \"\n",
    "result = subprocess.run(command + command_args0(10) + command_args1(10), shell=True)\n"
   ]
  },
  {
   "cell_type": "code",
   "execution_count": 37,
   "metadata": {},
   "outputs": [
    {
     "name": "stdout",
     "output_type": "stream",
     "text": [
      "Done 0\n",
      "Done 10\n",
      "Done 20\n",
      "Done 30\n",
      "Done 40\n",
      "Done 50\n",
      "Done 60\n",
      "Done 70\n",
      "Done 80\n",
      "Done 90\n"
     ]
    }
   ],
   "source": [
    "output_span = 10\n",
    "\n",
    "for i in range(len(params)):\n",
    "    subprocess.run(command + command_args0(i) + command_args1(i), shell=True, capture_output=True, text=True)\n",
    "    \n",
    "    if i % output_span == 0:\n",
    "        print(f\"Done {i}\")\n"
   ]
  },
  {
   "cell_type": "markdown",
   "metadata": {},
   "source": [
    "## 体積が負のメッシュを可視化\n",
    "\n"
   ]
  },
  {
   "cell_type": "code",
   "execution_count": 47,
   "metadata": {},
   "outputs": [],
   "source": [
    "import numpy as np\n",
    "from matplotlib import pyplot as plt\n",
    "import pyvista as pv\n"
   ]
  },
  {
   "cell_type": "code",
   "execution_count": 48,
   "metadata": {},
   "outputs": [
    {
     "data": {
      "text/plain": [
       "(7431, 3)"
      ]
     },
     "execution_count": 48,
     "metadata": {},
     "output_type": "execute_result"
    }
   ],
   "source": [
    "# ファイル名を指定してデータを読み込む\n",
    "full_mesh = pv.read('../data/Tetra_linspace.vtu')\n",
    "# full_mesh = pv.read('../data/random/Tetra_linspace1.vtu')\n",
    "full_points = np.array(full_mesh.points.tolist()) \n",
    "full_points.shape\n"
   ]
  },
  {
   "cell_type": "code",
   "execution_count": 49,
   "metadata": {},
   "outputs": [
    {
     "data": {
      "image/png": "[encoded data removed]",
      "text/plain": [
       "<Figure size 1200x200 with 1 Axes>"
      ]
     },
     "metadata": {},
     "output_type": "display_data"
    }
   ],
   "source": [
    "def calculate_volume(mesh):\n",
    "    # Get the cells from the mesh\n",
    "    cells = mesh.cells.reshape(-1, 5)[:, 1:]\n",
    "\n",
    "    # Calculate the volume of each tetrahedron\n",
    "    volumes = np.zeros(len(cells))\n",
    "    # for cell in cells:\n",
    "    for i in range(len(cells)):\n",
    "        cell = cells[i]\n",
    "        # Get the points of the tetrahedron\n",
    "        points = np.array(mesh.points[cell])\n",
    "\n",
    "        # Calculate the vectors formed by the points\n",
    "        vectors = points[1:] - points[0]\n",
    "\n",
    "        # Calculate the volume using the cross product\n",
    "        volumes[i] = (np.dot(vectors[0], np.cross(vectors[1], vectors[2]))) / 6\n",
    "\n",
    "    return volumes\n",
    "\n",
    "volumes = calculate_volume(full_mesh)\n",
    "\n",
    "plt.figure(figsize=(12, 2))\n",
    "plt.hist(volumes, bins=100)\n",
    "plt.show()\n"
   ]
  },
  {
   "cell_type": "code",
   "execution_count": 50,
   "metadata": {},
   "outputs": [
    {
     "data": {
      "text/plain": [
       "((35054, 4), (34,), 33167)"
      ]
     },
     "execution_count": 50,
     "metadata": {},
     "output_type": "execute_result"
    }
   ],
   "source": [
    "minus_volume_tetra = np.where(np.array(volumes) < 0)[0]\n",
    "cells0 = np.array(full_mesh.cells.tolist()).reshape(-1, 5)[:, 1:]\n",
    "\n",
    "cells0.shape, minus_volume_tetra.shape, minus_volume_tetra.max()\n"
   ]
  },
  {
   "cell_type": "code",
   "execution_count": 51,
   "metadata": {},
   "outputs": [
    {
     "data": {
      "text/plain": [
       "(133, 3)"
      ]
     },
     "execution_count": 51,
     "metadata": {},
     "output_type": "execute_result"
    }
   ],
   "source": [
    "minus_volume_index = cells0[minus_volume_tetra].flatten()\n",
    "minus_volume_index = np.unique(minus_volume_index)\n",
    "\n",
    "full_points = np.array(full_mesh.points.tolist())\n",
    "minus_points = full_points[minus_volume_index]\n",
    "minus_points.shape\n"
   ]
  },
  {
   "cell_type": "code",
   "execution_count": 52,
   "metadata": {},
   "outputs": [
    {
     "data": {
      "image/png": "[encoded data removed]",
      "text/plain": [
       "<Figure size 1200x300 with 2 Axes>"
      ]
     },
     "metadata": {},
     "output_type": "display_data"
    }
   ],
   "source": [
    "fig,ax = plt.subplots(1, 2, figsize=(12, 3))\n",
    "\n",
    "for i in [0,1]:\n",
    "    ax[i].plot(full_points[:,0], full_points[:,1+i], '.')\n",
    "    ax[i].plot(minus_points[:,0], minus_points[:,1+i], '.')\n",
    "    ax[i].axis('equal')\n",
    "plt.show()"
   ]
  },
  {
   "cell_type": "code",
   "execution_count": 53,
   "metadata": {},
   "outputs": [
    {
     "data": {
      "text/plain": [
       "34"
      ]
     },
     "execution_count": 53,
     "metadata": {},
     "output_type": "execute_result"
    }
   ],
   "source": [
    "minus_volume0 = calculate_volume(full_mesh) < 0\n",
    "minus_volume0.sum()\n"
   ]
  },
  {
   "cell_type": "markdown",
   "metadata": {},
   "source": [
    "## 以下のアルゴリズムはエッジを反転させる結果，STARでエラーになります．実行しないでください．"
   ]
  },
  {
   "cell_type": "code",
   "execution_count": 54,
   "metadata": {},
   "outputs": [],
   "source": [
    "# def flip_cells(mesh, cells_to_flip):\n",
    "#     # Get the cells from the mesh\n",
    "#     cells = np.array(mesh.cells.tolist()).reshape(-1, 5)\n",
    "\n",
    "#     # Flip the cells\n",
    "#     for cell in cells_to_flip:\n",
    "#         # Get the points of the tetrahedron\n",
    "#         points = cells[cell]\n",
    "\n",
    "#         # Reverse the order of the points\n",
    "#         cells[cell] = points[[0, 1, 3, 2, 4]]\n",
    "\n",
    "#     # Update the cells of the mesh\n",
    "#     mesh.cells = cells.reshape(-1, 1)\n",
    "\n",
    "#     return mesh\n",
    "\n",
    "# full_mesh = flip_cells(full_mesh, minus_volume_tetra)\n",
    "# minus_volume0 = calculate_volume(full_mesh) < 0\n",
    "# minus_volume0.sum()"
   ]
  },
  {
   "cell_type": "code",
   "execution_count": null,
   "metadata": {},
   "outputs": [],
   "source": []
  },
  {
   "cell_type": "code",
   "execution_count": 55,
   "metadata": {},
   "outputs": [],
   "source": [
    "# output_span = 10\n",
    "\n",
    "# for i in range(100):\n",
    "#     full_mesh = pv.read(f'../data/random/Tetra_linspace{i}.vtu')\n",
    "#     volumes = calculate_volume(full_mesh)\n",
    "#     minus_volume_tetra = np.where(np.array(volumes) < 0)[0]\n",
    "\n",
    "#     if i % output_span == 0:\n",
    "#         print(f\"itaration {i}, minus_volume_tetra: {minus_volume_tetra.shape}\")\n",
    "\n",
    "#     full_mesh = flip_cells(full_mesh, minus_volume_tetra)\n",
    "#     volumes = calculate_volume(full_mesh)\n",
    "\n",
    "#     # pv.save_meshio(f'../data/random/Tetra_linspace{i}.vtu', full_mesh, binary=False)\n",
    "#     pv.save_meshio(f'../data/random/Tetra_linspace{i}.vtu', full_mesh, binary=True)\n",
    "    "
   ]
  },
  {
   "cell_type": "code",
   "execution_count": null,
   "metadata": {},
   "outputs": [],
   "source": []
  }
 ],
 "metadata": {
  "kernelspec": {
   "display_name": "Python 3",
   "language": "python",
   "name": "python3"
  },
  "language_info": {
   "codemirror_mode": {
    "name": "ipython",
    "version": 3
   },
   "file_extension": ".py",
   "mimetype": "text/x-python",
   "name": "python",
   "nbconvert_exporter": "python",
   "pygments_lexer": "ipython3",
   "version": "3.9.6"
  }
 },
 "nbformat": 4,
 "nbformat_minor": 2
}
