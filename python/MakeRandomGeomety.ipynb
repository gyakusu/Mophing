{
 "cells": [
  {
   "cell_type": "markdown",
   "metadata": {},
   "source": [
    "# 乱数を使って保持器を作る"
   ]
  },
  {
   "cell_type": "code",
   "execution_count": 1,
   "metadata": {},
   "outputs": [],
   "source": [
    "import numpy as np\n",
    "import pandas as pd"
   ]
  },
  {
   "cell_type": "code",
   "execution_count": 2,
   "metadata": {},
   "outputs": [
    {
     "data": {
      "text/plain": [
       "array([[ 0.58801745,  0.13338574,  0.32624599,  0.7469644 ,  0.62251933,\n",
       "        -0.32575929,  0.31669614, -0.0504524 , -0.03440628,  0.13686617],\n",
       "       [ 0.04801452,  0.48475784,  0.25367924,  0.04055834,  0.14795441,\n",
       "         0.11122478,  0.49802636, -0.06838609,  0.1043559 , -0.28469858]])"
      ]
     },
     "execution_count": 2,
     "metadata": {},
     "output_type": "execute_result"
    }
   ],
   "source": [
    "np.random.seed(0)\n",
    "params = np.random.randn(100, 10) / 3\n",
    "params[params<-1] = -1\n",
    "params[params>1] = 1\n",
    "params[:2]"
   ]
  },
  {
   "cell_type": "code",
   "execution_count": 3,
   "metadata": {},
   "outputs": [
    {
     "data": {
      "text/plain": [
       "(0.919785038007194, -1.0)"
      ]
     },
     "execution_count": 3,
     "metadata": {},
     "output_type": "execute_result"
    }
   ],
   "source": [
    "params.max(), params.min()"
   ]
  },
  {
   "cell_type": "code",
   "execution_count": 4,
   "metadata": {},
   "outputs": [
    {
     "data": {
      "text/plain": [
       "(0.0026, 0.0026)"
      ]
     },
     "execution_count": 4,
     "metadata": {},
     "output_type": "execute_result"
    }
   ],
   "source": [
    "r0 = lambda dr: 2.35e-3 + dr\n",
    "r1 = lambda dr: 2.85e-3 + dr\n",
    "\n",
    "r0(0.25e-3), r1(-0.25e-3)"
   ]
  },
  {
   "cell_type": "code",
   "execution_count": 5,
   "metadata": {},
   "outputs": [
    {
     "data": {
      "text/plain": [
       "(0.2846060161200868,\n",
       " 0.7137738940849623,\n",
       " 2.1778135578020037,\n",
       " 2.9786354702544657)"
      ]
     },
     "execution_count": 5,
     "metadata": {},
     "output_type": "execute_result"
    }
   ],
   "source": [
    "r0s = r0(params[:, 0] * 0.2e-3)\n",
    "r1s = r1(params[:, 1] * 0.2e-3)\n",
    "drs = r1s - r0s\n",
    "\n",
    "drs.min() * 1e3, drs.max() * 1e3, r0s.min() * 1e3, r1s.max() * 1e3\n"
   ]
  },
  {
   "cell_type": "code",
   "execution_count": 6,
   "metadata": {},
   "outputs": [
    {
     "data": {
      "text/plain": [
       "(1.0835944465122629,\n",
       " 0.7796290513731874,\n",
       " 2.2839570076014386,\n",
       " 1.9517731231850382)"
      ]
     },
     "execution_count": 6,
     "metadata": {},
     "output_type": "execute_result"
    }
   ],
   "source": [
    "h0 = lambda dh: 0.93e-3 + dh\n",
    "h1 = lambda dh: 2.10e-3 + dh\n",
    "\n",
    "h0s = h0(params[:, 2] * 0.2e-3)\n",
    "h1s = h1(params[:, 3] * 0.2e-3)\n",
    "\n",
    "h0s.max() * 1e3, h0s.min() * 1e3, h1s.max() * 1e3, h1s.min() * 1e3"
   ]
  },
  {
   "cell_type": "code",
   "execution_count": 7,
   "metadata": {},
   "outputs": [
    {
     "data": {
      "text/plain": [
       "(0.2898741350854526, 0.11136092540010864)"
      ]
     },
     "execution_count": 7,
     "metadata": {},
     "output_type": "execute_result"
    }
   ],
   "source": [
    "bevel = lambda r: 0.1 * drs * r\n",
    "\n",
    "bevels = bevel(params[:, 4]+2)\n",
    "\n",
    "(bevels / drs).max(), (bevels / drs).min()"
   ]
  },
  {
   "cell_type": "code",
   "execution_count": 8,
   "metadata": {},
   "outputs": [
    {
     "data": {
      "text/plain": [
       "(0.8240551484982418, 0.8258041512265145)"
      ]
     },
     "execution_count": 8,
     "metadata": {},
     "output_type": "execute_result"
    }
   ],
   "source": [
    "pocket_r = lambda dr: 0.825e-3 + dr\n",
    "\n",
    "pocket_rs = pocket_r(params[:, 5] * 1e-6)\n",
    "pocket_rs.min() * 1e3, pocket_rs.max() * 1e3"
   ]
  },
  {
   "cell_type": "code",
   "execution_count": 9,
   "metadata": {},
   "outputs": [
    {
     "data": {
      "text/plain": [
       "(1.6842388412190585, 1.7141119401432245)"
      ]
     },
     "execution_count": 9,
     "metadata": {},
     "output_type": "execute_result"
    }
   ],
   "source": [
    "neck_x = lambda dx: 1.70e-3 + dx\n",
    "\n",
    "neck_xs = neck_x(params[:, 6] * 20e-6)\n",
    "neck_xs.min() * 1e3, neck_xs.max() * 1e3"
   ]
  },
  {
   "cell_type": "code",
   "execution_count": 10,
   "metadata": {},
   "outputs": [
    {
     "data": {
      "text/plain": [
       "(1.1817354855520694, 1.2150448233153213)"
      ]
     },
     "execution_count": 10,
     "metadata": {},
     "output_type": "execute_result"
    }
   ],
   "source": [
    "neck_r = lambda dr: 1.20e-3 + dr\n",
    "\n",
    "neck_rs = neck_r(params[:, 7] * 20e-6)\n",
    "neck_rs.min() * 1e3, neck_rs.max() * 1e3\n"
   ]
  },
  {
   "cell_type": "code",
   "execution_count": 11,
   "metadata": {},
   "outputs": [
    {
     "data": {
      "text/plain": [
       "(2.37101376982578, 2.5364808195922715)"
      ]
     },
     "execution_count": 11,
     "metadata": {},
     "output_type": "execute_result"
    }
   ],
   "source": [
    "neck_h = lambda dh: 2.45e-3 + dh\n",
    "\n",
    "neck_hs = neck_h(params[:, 8] * 100e-6)\n",
    "neck_hs.min() * 1e3, neck_hs.max() * 1e3\n"
   ]
  },
  {
   "cell_type": "code",
   "execution_count": 12,
   "metadata": {},
   "outputs": [
    {
     "data": {
      "text/plain": [
       "(0.028458986531231186, 0.12664880375765164)"
      ]
     },
     "execution_count": 12,
     "metadata": {},
     "output_type": "execute_result"
    }
   ],
   "source": [
    "neck_dh = lambda r: (neck_hs - h1s) * r * 0.1\n",
    "\n",
    "neck_dhs = neck_dh(params[:, 9]+2)\n",
    "neck_dhs.min() * 1e3, neck_dhs.max() * 1e3\n"
   ]
  },
  {
   "cell_type": "code",
   "execution_count": 13,
   "metadata": {},
   "outputs": [],
   "source": [
    "df = pd.DataFrame({\n",
    "    'r0': r0s,\n",
    "    'r1': r1s,\n",
    "    'h0': h0s,\n",
    "    'h1': h1s,\n",
    "    'bevel': bevels,\n",
    "    'pocket_r': pocket_rs,\n",
    "    'neck_x': neck_xs,\n",
    "    'neck_r': neck_rs,\n",
    "    'neck_h': neck_hs,\n",
    "    'neck_dh': neck_dhs\n",
    "})\n",
    "\n",
    "df.to_csv('../data/random/random_params.csv', index=False)\n"
   ]
  },
  {
   "cell_type": "code",
   "execution_count": 14,
   "metadata": {},
   "outputs": [
    {
     "data": {
      "text/plain": [
       "'\"data/Tetra.vtu,data/face_and_edge_index.xml,data/random/Tetra_linspace0.vtu\" '"
      ]
     },
     "execution_count": 14,
     "metadata": {},
     "output_type": "execute_result"
    }
   ],
   "source": [
    "# cargo run --release \"data/Tetra.vtu,data/face_and_edge_index.xml,data/Tetra_linspace.vtu\" \"2.345e-3,2.850e-3,0.93e-3,2.10e-3,0.10e-3,0.825e-3,1.70e-3,1.20e-3,2.45e-3,0.152e-3\" \"100\"\n",
    "\n",
    "command_args0 = lambda i: f\"\\\"data/Tetra.vtu,data/face_and_edge_index.xml,data/random/Tetra_linspace{i}.vtu\\\" \"\n",
    "command_args0(0)\n"
   ]
  },
  {
   "cell_type": "code",
   "execution_count": 15,
   "metadata": {},
   "outputs": [
    {
     "data": {
      "text/plain": [
       "'\"0.0024755433798037503,0.002760149395923837,0.0008453010001009512,0.002164626447210534,4.579193726579163e-05,0.0008256478737285498,0.0016972425401282683,0.0011950169679237283,0.002514098067549346,8.71409208377013e-05\" \"1000\"'"
      ]
     },
     "execution_count": 15,
     "metadata": {},
     "output_type": "execute_result"
    }
   ],
   "source": [
    "command_args1 = lambda i: f'\\\"{r0s[i]},{r1s[i]},{h0s[i]},{h1s[i]},{bevels[i]},{pocket_rs[i]},{neck_xs[i]},{neck_rs[i]},{neck_hs[i]},{neck_dhs[i]}\\\" \\\"1000\\\"'\n",
    "command_args1(10)\n",
    "\n",
    "# '../data/Tetra_linspace10.vtu 0.0024755433798037503 0.002760149395923837 0.0008453010001009512 0.002164626447210534 4.579193726579163e-05 0.0008256478737285498 0.0016972425401282683 0.0011950169679237283 0.002514098067549346 0.0001742818416754026 1000'"
   ]
  },
  {
   "cell_type": "code",
   "execution_count": 16,
   "metadata": {},
   "outputs": [
    {
     "name": "stderr",
     "output_type": "stream",
     "text": [
      "\u001b[1m\u001b[32m    Finished\u001b[0m release [optimized] target(s) in 0.28s\n",
      "\u001b[1m\u001b[32m     Running\u001b[0m `target/release/mophing data/Tetra.vtu,data/face_and_edge_index.xml,data/random/Tetra_linspace0.vtu 0.0024676034897311776,0.0028766771472244815,0.0009952491989403827,0.0022493928799467637,0.00010728035741904383,0.0008246742407067079,0.0017063339227835039,0.001198990951944682,0.002446559371606881,4.213184053562646e-05 1000`\n"
     ]
    },
    {
     "name": "stdout",
     "output_type": "stream",
     "text": [
      "[[\"data/Tetra.vtu\", \"data/face_and_edge_index.xml\", \"data/random/Tetra_linspace0.vtu\"], [\"0.0024676034897311776\", \"0.0028766771472244815\", \"0.0009952491989403827\", \"0.0022493928799467637\", \"0.00010728035741904383\", \"0.0008246742407067079\", \"0.0017063339227835039\", \"0.001198990951944682\", \"0.002446559371606881\", \"4.213184053562646e-05\"], [\"1000\"]]\n"
     ]
    },
    {
     "name": "stderr",
     "output_type": "stream",
     "text": [
      "thread 'main' panicked at src/main.rs:24:46:\n",
      "index out of bounds: the len is 1 but the index is 1\n",
      "note: run with `RUST_BACKTRACE=1` environment variable to display a backtrace\n"
     ]
    },
    {
     "ename": "KeyboardInterrupt",
     "evalue": "",
     "output_type": "error",
     "traceback": [
      "\u001b[0;31m---------------------------------------------------------------------------\u001b[0m",
      "\u001b[0;31mKeyboardInterrupt\u001b[0m                         Traceback (most recent call last)",
      "Cell \u001b[0;32mIn[16], line 4\u001b[0m\n\u001b[1;32m      1\u001b[0m \u001b[38;5;28;01mimport\u001b[39;00m \u001b[38;5;21;01msubprocess\u001b[39;00m\n\u001b[1;32m      3\u001b[0m command \u001b[38;5;241m=\u001b[39m \u001b[38;5;124m\"\u001b[39m\u001b[38;5;124mcd ../; cargo run --release \u001b[39m\u001b[38;5;124m\"\u001b[39m\n\u001b[0;32m----> 4\u001b[0m result \u001b[38;5;241m=\u001b[39m \u001b[43msubprocess\u001b[49m\u001b[38;5;241;43m.\u001b[39;49m\u001b[43mrun\u001b[49m\u001b[43m(\u001b[49m\u001b[43mcommand\u001b[49m\u001b[43m \u001b[49m\u001b[38;5;241;43m+\u001b[39;49m\u001b[43m \u001b[49m\u001b[43mcommand_args0\u001b[49m\u001b[43m(\u001b[49m\u001b[38;5;241;43m0\u001b[39;49m\u001b[43m)\u001b[49m\u001b[43m \u001b[49m\u001b[38;5;241;43m+\u001b[39;49m\u001b[43m \u001b[49m\u001b[43mcommand_args1\u001b[49m\u001b[43m(\u001b[49m\u001b[38;5;241;43m0\u001b[39;49m\u001b[43m)\u001b[49m\u001b[43m,\u001b[49m\u001b[43m \u001b[49m\u001b[43mshell\u001b[49m\u001b[38;5;241;43m=\u001b[39;49m\u001b[38;5;28;43;01mTrue\u001b[39;49;00m\u001b[43m)\u001b[49m\n",
      "File \u001b[0;32m/Library/Developer/CommandLineTools/Library/Frameworks/Python3.framework/Versions/3.9/lib/python3.9/subprocess.py:507\u001b[0m, in \u001b[0;36mrun\u001b[0;34m(input, capture_output, timeout, check, *popenargs, **kwargs)\u001b[0m\n\u001b[1;32m    505\u001b[0m \u001b[38;5;28;01mwith\u001b[39;00m Popen(\u001b[38;5;241m*\u001b[39mpopenargs, \u001b[38;5;241m*\u001b[39m\u001b[38;5;241m*\u001b[39mkwargs) \u001b[38;5;28;01mas\u001b[39;00m process:\n\u001b[1;32m    506\u001b[0m     \u001b[38;5;28;01mtry\u001b[39;00m:\n\u001b[0;32m--> 507\u001b[0m         stdout, stderr \u001b[38;5;241m=\u001b[39m \u001b[43mprocess\u001b[49m\u001b[38;5;241;43m.\u001b[39;49m\u001b[43mcommunicate\u001b[49m\u001b[43m(\u001b[49m\u001b[38;5;28;43minput\u001b[39;49m\u001b[43m,\u001b[49m\u001b[43m \u001b[49m\u001b[43mtimeout\u001b[49m\u001b[38;5;241;43m=\u001b[39;49m\u001b[43mtimeout\u001b[49m\u001b[43m)\u001b[49m\n\u001b[1;32m    508\u001b[0m     \u001b[38;5;28;01mexcept\u001b[39;00m TimeoutExpired \u001b[38;5;28;01mas\u001b[39;00m exc:\n\u001b[1;32m    509\u001b[0m         process\u001b[38;5;241m.\u001b[39mkill()\n",
      "File \u001b[0;32m/Library/Developer/CommandLineTools/Library/Frameworks/Python3.framework/Versions/3.9/lib/python3.9/subprocess.py:1126\u001b[0m, in \u001b[0;36mPopen.communicate\u001b[0;34m(self, input, timeout)\u001b[0m\n\u001b[1;32m   1124\u001b[0m         stderr \u001b[38;5;241m=\u001b[39m \u001b[38;5;28mself\u001b[39m\u001b[38;5;241m.\u001b[39mstderr\u001b[38;5;241m.\u001b[39mread()\n\u001b[1;32m   1125\u001b[0m         \u001b[38;5;28mself\u001b[39m\u001b[38;5;241m.\u001b[39mstderr\u001b[38;5;241m.\u001b[39mclose()\n\u001b[0;32m-> 1126\u001b[0m     \u001b[38;5;28;43mself\u001b[39;49m\u001b[38;5;241;43m.\u001b[39;49m\u001b[43mwait\u001b[49m\u001b[43m(\u001b[49m\u001b[43m)\u001b[49m\n\u001b[1;32m   1127\u001b[0m \u001b[38;5;28;01melse\u001b[39;00m:\n\u001b[1;32m   1128\u001b[0m     \u001b[38;5;28;01mif\u001b[39;00m timeout \u001b[38;5;129;01mis\u001b[39;00m \u001b[38;5;129;01mnot\u001b[39;00m \u001b[38;5;28;01mNone\u001b[39;00m:\n",
      "File \u001b[0;32m/Library/Developer/CommandLineTools/Library/Frameworks/Python3.framework/Versions/3.9/lib/python3.9/subprocess.py:1189\u001b[0m, in \u001b[0;36mPopen.wait\u001b[0;34m(self, timeout)\u001b[0m\n\u001b[1;32m   1187\u001b[0m     endtime \u001b[38;5;241m=\u001b[39m _time() \u001b[38;5;241m+\u001b[39m timeout\n\u001b[1;32m   1188\u001b[0m \u001b[38;5;28;01mtry\u001b[39;00m:\n\u001b[0;32m-> 1189\u001b[0m     \u001b[38;5;28;01mreturn\u001b[39;00m \u001b[38;5;28;43mself\u001b[39;49m\u001b[38;5;241;43m.\u001b[39;49m\u001b[43m_wait\u001b[49m\u001b[43m(\u001b[49m\u001b[43mtimeout\u001b[49m\u001b[38;5;241;43m=\u001b[39;49m\u001b[43mtimeout\u001b[49m\u001b[43m)\u001b[49m\n\u001b[1;32m   1190\u001b[0m \u001b[38;5;28;01mexcept\u001b[39;00m \u001b[38;5;167;01mKeyboardInterrupt\u001b[39;00m:\n\u001b[1;32m   1191\u001b[0m     \u001b[38;5;66;03m# https://bugs.python.org/issue25942\u001b[39;00m\n\u001b[1;32m   1192\u001b[0m     \u001b[38;5;66;03m# The first keyboard interrupt waits briefly for the child to\u001b[39;00m\n\u001b[1;32m   1193\u001b[0m     \u001b[38;5;66;03m# exit under the common assumption that it also received the ^C\u001b[39;00m\n\u001b[1;32m   1194\u001b[0m     \u001b[38;5;66;03m# generated SIGINT and will exit rapidly.\u001b[39;00m\n\u001b[1;32m   1195\u001b[0m     \u001b[38;5;28;01mif\u001b[39;00m timeout \u001b[38;5;129;01mis\u001b[39;00m \u001b[38;5;129;01mnot\u001b[39;00m \u001b[38;5;28;01mNone\u001b[39;00m:\n",
      "File \u001b[0;32m/Library/Developer/CommandLineTools/Library/Frameworks/Python3.framework/Versions/3.9/lib/python3.9/subprocess.py:1917\u001b[0m, in \u001b[0;36mPopen._wait\u001b[0;34m(self, timeout)\u001b[0m\n\u001b[1;32m   1915\u001b[0m \u001b[38;5;28;01mif\u001b[39;00m \u001b[38;5;28mself\u001b[39m\u001b[38;5;241m.\u001b[39mreturncode \u001b[38;5;129;01mis\u001b[39;00m \u001b[38;5;129;01mnot\u001b[39;00m \u001b[38;5;28;01mNone\u001b[39;00m:\n\u001b[1;32m   1916\u001b[0m     \u001b[38;5;28;01mbreak\u001b[39;00m  \u001b[38;5;66;03m# Another thread waited.\u001b[39;00m\n\u001b[0;32m-> 1917\u001b[0m (pid, sts) \u001b[38;5;241m=\u001b[39m \u001b[38;5;28;43mself\u001b[39;49m\u001b[38;5;241;43m.\u001b[39;49m\u001b[43m_try_wait\u001b[49m\u001b[43m(\u001b[49m\u001b[38;5;241;43m0\u001b[39;49m\u001b[43m)\u001b[49m\n\u001b[1;32m   1918\u001b[0m \u001b[38;5;66;03m# Check the pid and loop as waitpid has been known to\u001b[39;00m\n\u001b[1;32m   1919\u001b[0m \u001b[38;5;66;03m# return 0 even without WNOHANG in odd situations.\u001b[39;00m\n\u001b[1;32m   1920\u001b[0m \u001b[38;5;66;03m# http://bugs.python.org/issue14396.\u001b[39;00m\n\u001b[1;32m   1921\u001b[0m \u001b[38;5;28;01mif\u001b[39;00m pid \u001b[38;5;241m==\u001b[39m \u001b[38;5;28mself\u001b[39m\u001b[38;5;241m.\u001b[39mpid:\n",
      "File \u001b[0;32m/Library/Developer/CommandLineTools/Library/Frameworks/Python3.framework/Versions/3.9/lib/python3.9/subprocess.py:1875\u001b[0m, in \u001b[0;36mPopen._try_wait\u001b[0;34m(self, wait_flags)\u001b[0m\n\u001b[1;32m   1873\u001b[0m \u001b[38;5;250m\u001b[39m\u001b[38;5;124;03m\"\"\"All callers to this function MUST hold self._waitpid_lock.\"\"\"\u001b[39;00m\n\u001b[1;32m   1874\u001b[0m \u001b[38;5;28;01mtry\u001b[39;00m:\n\u001b[0;32m-> 1875\u001b[0m     (pid, sts) \u001b[38;5;241m=\u001b[39m \u001b[43mos\u001b[49m\u001b[38;5;241;43m.\u001b[39;49m\u001b[43mwaitpid\u001b[49m\u001b[43m(\u001b[49m\u001b[38;5;28;43mself\u001b[39;49m\u001b[38;5;241;43m.\u001b[39;49m\u001b[43mpid\u001b[49m\u001b[43m,\u001b[49m\u001b[43m \u001b[49m\u001b[43mwait_flags\u001b[49m\u001b[43m)\u001b[49m\n\u001b[1;32m   1876\u001b[0m \u001b[38;5;28;01mexcept\u001b[39;00m \u001b[38;5;167;01mChildProcessError\u001b[39;00m:\n\u001b[1;32m   1877\u001b[0m     \u001b[38;5;66;03m# This happens if SIGCLD is set to be ignored or waiting\u001b[39;00m\n\u001b[1;32m   1878\u001b[0m     \u001b[38;5;66;03m# for child processes has otherwise been disabled for our\u001b[39;00m\n\u001b[1;32m   1879\u001b[0m     \u001b[38;5;66;03m# process.  This child is dead, we can't get the status.\u001b[39;00m\n\u001b[1;32m   1880\u001b[0m     pid \u001b[38;5;241m=\u001b[39m \u001b[38;5;28mself\u001b[39m\u001b[38;5;241m.\u001b[39mpid\n",
      "\u001b[0;31mKeyboardInterrupt\u001b[0m: "
     ]
    }
   ],
   "source": [
    "import subprocess\n",
    "\n",
    "command = \"cd ../; cargo run --release \"\n",
    "result = subprocess.run(command + command_args0(0) + command_args1(0), shell=True)\n"
   ]
  },
  {
   "cell_type": "code",
   "execution_count": null,
   "metadata": {},
   "outputs": [
    {
     "name": "stdout",
     "output_type": "stream",
     "text": [
      "Done 0\n"
     ]
    },
    {
     "ename": "KeyboardInterrupt",
     "evalue": "",
     "output_type": "error",
     "traceback": [
      "\u001b[0;31m---------------------------------------------------------------------------\u001b[0m",
      "\u001b[0;31mKeyboardInterrupt\u001b[0m                         Traceback (most recent call last)",
      "Cell \u001b[0;32mIn[40], line 4\u001b[0m\n\u001b[1;32m      1\u001b[0m output_span \u001b[38;5;241m=\u001b[39m \u001b[38;5;241m10\u001b[39m\n\u001b[1;32m      3\u001b[0m \u001b[38;5;28;01mfor\u001b[39;00m i \u001b[38;5;129;01min\u001b[39;00m \u001b[38;5;28mrange\u001b[39m(\u001b[38;5;28mlen\u001b[39m(params)):\n\u001b[0;32m----> 4\u001b[0m     \u001b[43msubprocess\u001b[49m\u001b[38;5;241;43m.\u001b[39;49m\u001b[43mrun\u001b[49m\u001b[43m(\u001b[49m\u001b[43mcommand\u001b[49m\u001b[43m \u001b[49m\u001b[38;5;241;43m+\u001b[39;49m\u001b[43m \u001b[49m\u001b[43mcommand_args0\u001b[49m\u001b[43m(\u001b[49m\u001b[43mi\u001b[49m\u001b[43m)\u001b[49m\u001b[43m \u001b[49m\u001b[38;5;241;43m+\u001b[39;49m\u001b[43m \u001b[49m\u001b[43mcommand_args1\u001b[49m\u001b[43m(\u001b[49m\u001b[43mi\u001b[49m\u001b[43m)\u001b[49m\u001b[43m,\u001b[49m\u001b[43m \u001b[49m\u001b[43mshell\u001b[49m\u001b[38;5;241;43m=\u001b[39;49m\u001b[38;5;28;43;01mTrue\u001b[39;49;00m\u001b[43m,\u001b[49m\u001b[43m \u001b[49m\u001b[43mcapture_output\u001b[49m\u001b[38;5;241;43m=\u001b[39;49m\u001b[38;5;28;43;01mTrue\u001b[39;49;00m\u001b[43m,\u001b[49m\u001b[43m \u001b[49m\u001b[43mtext\u001b[49m\u001b[38;5;241;43m=\u001b[39;49m\u001b[38;5;28;43;01mTrue\u001b[39;49;00m\u001b[43m)\u001b[49m\n\u001b[1;32m      6\u001b[0m     \u001b[38;5;28;01mif\u001b[39;00m i \u001b[38;5;241m%\u001b[39m output_span \u001b[38;5;241m==\u001b[39m \u001b[38;5;241m0\u001b[39m:\n\u001b[1;32m      7\u001b[0m         \u001b[38;5;28mprint\u001b[39m(\u001b[38;5;124mf\u001b[39m\u001b[38;5;124m\"\u001b[39m\u001b[38;5;124mDone \u001b[39m\u001b[38;5;132;01m{\u001b[39;00mi\u001b[38;5;132;01m}\u001b[39;00m\u001b[38;5;124m\"\u001b[39m)\n",
      "File \u001b[0;32m/Library/Developer/CommandLineTools/Library/Frameworks/Python3.framework/Versions/3.9/lib/python3.9/subprocess.py:507\u001b[0m, in \u001b[0;36mrun\u001b[0;34m(input, capture_output, timeout, check, *popenargs, **kwargs)\u001b[0m\n\u001b[1;32m    505\u001b[0m \u001b[38;5;28;01mwith\u001b[39;00m Popen(\u001b[38;5;241m*\u001b[39mpopenargs, \u001b[38;5;241m*\u001b[39m\u001b[38;5;241m*\u001b[39mkwargs) \u001b[38;5;28;01mas\u001b[39;00m process:\n\u001b[1;32m    506\u001b[0m     \u001b[38;5;28;01mtry\u001b[39;00m:\n\u001b[0;32m--> 507\u001b[0m         stdout, stderr \u001b[38;5;241m=\u001b[39m \u001b[43mprocess\u001b[49m\u001b[38;5;241;43m.\u001b[39;49m\u001b[43mcommunicate\u001b[49m\u001b[43m(\u001b[49m\u001b[38;5;28;43minput\u001b[39;49m\u001b[43m,\u001b[49m\u001b[43m \u001b[49m\u001b[43mtimeout\u001b[49m\u001b[38;5;241;43m=\u001b[39;49m\u001b[43mtimeout\u001b[49m\u001b[43m)\u001b[49m\n\u001b[1;32m    508\u001b[0m     \u001b[38;5;28;01mexcept\u001b[39;00m TimeoutExpired \u001b[38;5;28;01mas\u001b[39;00m exc:\n\u001b[1;32m    509\u001b[0m         process\u001b[38;5;241m.\u001b[39mkill()\n",
      "File \u001b[0;32m/Library/Developer/CommandLineTools/Library/Frameworks/Python3.framework/Versions/3.9/lib/python3.9/subprocess.py:1134\u001b[0m, in \u001b[0;36mPopen.communicate\u001b[0;34m(self, input, timeout)\u001b[0m\n\u001b[1;32m   1131\u001b[0m     endtime \u001b[38;5;241m=\u001b[39m \u001b[38;5;28;01mNone\u001b[39;00m\n\u001b[1;32m   1133\u001b[0m \u001b[38;5;28;01mtry\u001b[39;00m:\n\u001b[0;32m-> 1134\u001b[0m     stdout, stderr \u001b[38;5;241m=\u001b[39m \u001b[38;5;28;43mself\u001b[39;49m\u001b[38;5;241;43m.\u001b[39;49m\u001b[43m_communicate\u001b[49m\u001b[43m(\u001b[49m\u001b[38;5;28;43minput\u001b[39;49m\u001b[43m,\u001b[49m\u001b[43m \u001b[49m\u001b[43mendtime\u001b[49m\u001b[43m,\u001b[49m\u001b[43m \u001b[49m\u001b[43mtimeout\u001b[49m\u001b[43m)\u001b[49m\n\u001b[1;32m   1135\u001b[0m \u001b[38;5;28;01mexcept\u001b[39;00m \u001b[38;5;167;01mKeyboardInterrupt\u001b[39;00m:\n\u001b[1;32m   1136\u001b[0m     \u001b[38;5;66;03m# https://bugs.python.org/issue25942\u001b[39;00m\n\u001b[1;32m   1137\u001b[0m     \u001b[38;5;66;03m# See the detailed comment in .wait().\u001b[39;00m\n\u001b[1;32m   1138\u001b[0m     \u001b[38;5;28;01mif\u001b[39;00m timeout \u001b[38;5;129;01mis\u001b[39;00m \u001b[38;5;129;01mnot\u001b[39;00m \u001b[38;5;28;01mNone\u001b[39;00m:\n",
      "File \u001b[0;32m/Library/Developer/CommandLineTools/Library/Frameworks/Python3.framework/Versions/3.9/lib/python3.9/subprocess.py:1979\u001b[0m, in \u001b[0;36mPopen._communicate\u001b[0;34m(self, input, endtime, orig_timeout)\u001b[0m\n\u001b[1;32m   1972\u001b[0m     \u001b[38;5;28mself\u001b[39m\u001b[38;5;241m.\u001b[39m_check_timeout(endtime, orig_timeout,\n\u001b[1;32m   1973\u001b[0m                         stdout, stderr,\n\u001b[1;32m   1974\u001b[0m                         skip_check_and_raise\u001b[38;5;241m=\u001b[39m\u001b[38;5;28;01mTrue\u001b[39;00m)\n\u001b[1;32m   1975\u001b[0m     \u001b[38;5;28;01mraise\u001b[39;00m \u001b[38;5;167;01mRuntimeError\u001b[39;00m(  \u001b[38;5;66;03m# Impossible :)\u001b[39;00m\n\u001b[1;32m   1976\u001b[0m         \u001b[38;5;124m'\u001b[39m\u001b[38;5;124m_check_timeout(..., skip_check_and_raise=True) \u001b[39m\u001b[38;5;124m'\u001b[39m\n\u001b[1;32m   1977\u001b[0m         \u001b[38;5;124m'\u001b[39m\u001b[38;5;124mfailed to raise TimeoutExpired.\u001b[39m\u001b[38;5;124m'\u001b[39m)\n\u001b[0;32m-> 1979\u001b[0m ready \u001b[38;5;241m=\u001b[39m \u001b[43mselector\u001b[49m\u001b[38;5;241;43m.\u001b[39;49m\u001b[43mselect\u001b[49m\u001b[43m(\u001b[49m\u001b[43mtimeout\u001b[49m\u001b[43m)\u001b[49m\n\u001b[1;32m   1980\u001b[0m \u001b[38;5;28mself\u001b[39m\u001b[38;5;241m.\u001b[39m_check_timeout(endtime, orig_timeout, stdout, stderr)\n\u001b[1;32m   1982\u001b[0m \u001b[38;5;66;03m# XXX Rewrite these to use non-blocking I/O on the file\u001b[39;00m\n\u001b[1;32m   1983\u001b[0m \u001b[38;5;66;03m# objects; they are no longer using C stdio!\u001b[39;00m\n",
      "File \u001b[0;32m/Library/Developer/CommandLineTools/Library/Frameworks/Python3.framework/Versions/3.9/lib/python3.9/selectors.py:416\u001b[0m, in \u001b[0;36m_PollLikeSelector.select\u001b[0;34m(self, timeout)\u001b[0m\n\u001b[1;32m    414\u001b[0m ready \u001b[38;5;241m=\u001b[39m []\n\u001b[1;32m    415\u001b[0m \u001b[38;5;28;01mtry\u001b[39;00m:\n\u001b[0;32m--> 416\u001b[0m     fd_event_list \u001b[38;5;241m=\u001b[39m \u001b[38;5;28;43mself\u001b[39;49m\u001b[38;5;241;43m.\u001b[39;49m\u001b[43m_selector\u001b[49m\u001b[38;5;241;43m.\u001b[39;49m\u001b[43mpoll\u001b[49m\u001b[43m(\u001b[49m\u001b[43mtimeout\u001b[49m\u001b[43m)\u001b[49m\n\u001b[1;32m    417\u001b[0m \u001b[38;5;28;01mexcept\u001b[39;00m \u001b[38;5;167;01mInterruptedError\u001b[39;00m:\n\u001b[1;32m    418\u001b[0m     \u001b[38;5;28;01mreturn\u001b[39;00m ready\n",
      "\u001b[0;31mKeyboardInterrupt\u001b[0m: "
     ]
    }
   ],
   "source": [
    "output_span = 10\n",
    "\n",
    "for i in range(len(params)):\n",
    "    subprocess.run(command + command_args0(i) + command_args1(i), shell=True, capture_output=True, text=True)\n",
    "    \n",
    "    if i % output_span == 0:\n",
    "        print(f\"Done {i}\")\n"
   ]
  },
  {
   "cell_type": "markdown",
   "metadata": {},
   "source": [
    "## 体積が負のメッシュを可視化\n",
    "\n"
   ]
  },
  {
   "cell_type": "code",
   "execution_count": 1,
   "metadata": {},
   "outputs": [],
   "source": [
    "import numpy as np\n",
    "from matplotlib import pyplot as plt\n",
    "import pyvista as pv\n"
   ]
  },
  {
   "cell_type": "code",
   "execution_count": 2,
   "metadata": {},
   "outputs": [
    {
     "data": {
      "text/plain": [
       "(66723, 3)"
      ]
     },
     "execution_count": 2,
     "metadata": {},
     "output_type": "execute_result"
    }
   ],
   "source": [
    "# ファイル名を指定してデータを読み込む\n",
    "full_mesh = pv.read('../data/Tetra_smoothed.vtu')\n",
    "# full_mesh = pv.read('../data/random/Tetra_linspace0.vtu')\n",
    "# full_mesh = pv.read('../data/Tetra_smoothed.vtu')\n",
    "full_points = np.array(full_mesh.points.tolist()) \n",
    "full_points.shape\n"
   ]
  },
  {
   "cell_type": "code",
   "execution_count": 3,
   "metadata": {},
   "outputs": [],
   "source": [
    "def calculate_volume(mesh):\n",
    "    # Get the cells from the mesh\n",
    "    cells = mesh.cells.reshape(-1, 5)[:, 1:]\n",
    "\n",
    "    # Calculate the volume of each tetrahedron\n",
    "    volumes = np.zeros(len(cells))\n",
    "    # for cell in cells:\n",
    "    for i in range(len(cells)):\n",
    "        cell = cells[i]\n",
    "        # Get the points of the tetrahedron\n",
    "        points = np.array(mesh.points[cell])\n",
    "\n",
    "        # Calculate the vectors formed by the points\n",
    "        vectors = points[1:] - points[0]\n",
    "\n",
    "        # Calculate the volume using the cross product\n",
    "        volumes[i] = (np.dot(vectors[0], np.cross(vectors[1], vectors[2]))) / 6\n",
    "\n",
    "    return volumes\n",
    "\n",
    "volumes = calculate_volume(full_mesh)\n",
    "\n"
   ]
  },
  {
   "cell_type": "code",
   "execution_count": 4,
   "metadata": {},
   "outputs": [
    {
     "data": {
      "image/png": "[encoded data removed]",
      "text/plain": [
       "<Figure size 1200x200 with 1 Axes>"
      ]
     },
     "metadata": {},
     "output_type": "display_data"
    },
    {
     "data": {
      "text/plain": [
       "(3.0833846648462503e-14, -1.6081394390322448e-13, 1.4929857119113283e-12)"
      ]
     },
     "execution_count": 4,
     "metadata": {},
     "output_type": "execute_result"
    }
   ],
   "source": [
    "plt.figure(figsize=(12, 2))\n",
    "plt.hist(volumes[volumes<1e-15], bins=1000)\n",
    "plt.xlim([-1e-15,1e-15])\n",
    "plt.show()\n",
    "\n",
    "volumes.mean(), volumes.min(), volumes.max()"
   ]
  },
  {
   "cell_type": "code",
   "execution_count": 5,
   "metadata": {},
   "outputs": [
    {
     "data": {
      "text/plain": [
       "((295008, 4), (221,), 294569)"
      ]
     },
     "execution_count": 5,
     "metadata": {},
     "output_type": "execute_result"
    }
   ],
   "source": [
    "minus_volume_tetra = np.where(np.array(volumes) < 0)[0]\n",
    "cells0 = np.array(full_mesh.cells.tolist()).reshape(-1, 5)[:, 1:]\n",
    "\n",
    "cells0.shape, minus_volume_tetra.shape, minus_volume_tetra.max()\n"
   ]
  },
  {
   "cell_type": "code",
   "execution_count": 6,
   "metadata": {},
   "outputs": [
    {
     "data": {
      "text/plain": [
       "array([   916,   3267,   7407,   7512,   8919,   8957,  14278,  16394,\n",
       "        16466,  20535,  23386,  32755,  38602,  39328,  44454,  50368,\n",
       "        50676,  51133,  53818,  57291,  57310,  58669,  63917,  64481,\n",
       "        64630,  64978,  67142,  67252,  69380,  72512,  75359,  75528,\n",
       "        75539,  76584,  83519,  84236,  90006,  90296,  93052,  93835,\n",
       "        96389,  97834,  98863,  99861, 102738, 103079, 104476, 104745,\n",
       "       105519, 106464, 107191, 109202, 109268, 110274, 111061, 111706,\n",
       "       113633, 113978, 115238, 118108, 119745, 120409, 121417, 121933,\n",
       "       122109, 126398, 127473, 127786, 128731, 130029, 130702, 130968,\n",
       "       132978, 133943, 137099, 137744, 139053, 140495, 143128, 143586,\n",
       "       144138, 144414, 145120, 147880, 148051, 148402, 148801, 149104,\n",
       "       151943, 155237, 155948, 156033, 156873, 158024, 159521, 159813,\n",
       "       160021, 160942, 161274, 162622, 163951, 167845, 170064, 172397,\n",
       "       175300, 181242, 181576, 183506, 183602, 184794, 186582, 187539,\n",
       "       188035, 188733, 189039, 189574, 190100, 191453, 192302, 192473,\n",
       "       193421, 195261, 197013, 197797, 198522, 198668, 200795, 200818,\n",
       "       207120, 207658, 207910, 208930, 208981, 212380, 212381, 214549,\n",
       "       214573, 215397, 216082, 216238, 218197, 218573, 218583, 221497,\n",
       "       222022, 224050, 224603, 225507, 225910, 226256, 226261, 226906,\n",
       "       226972, 227352, 228579, 228983, 229094, 230506, 231464, 235079,\n",
       "       235761, 236826, 237007, 237970, 241857, 244480, 246480, 247006,\n",
       "       247322, 248418, 248434, 249104, 250498, 250837, 251024, 251224,\n",
       "       251245, 251517, 251634, 253428, 254703, 257268, 257591, 258412,\n",
       "       258444, 258641, 259248, 259949, 260761, 261087, 261769, 262007,\n",
       "       262519, 262752, 262883, 265298, 268364, 269118, 270194, 270582,\n",
       "       270882, 271040, 272142, 273231, 275217, 281045, 281485, 283872,\n",
       "       283874, 286444, 286825, 288142, 289033, 290214, 290279, 290857,\n",
       "       291549, 292390, 293093, 294092, 294569])"
      ]
     },
     "execution_count": 6,
     "metadata": {},
     "output_type": "execute_result"
    }
   ],
   "source": [
    "minus_volume_tetra"
   ]
  },
  {
   "cell_type": "code",
   "execution_count": 7,
   "metadata": {},
   "outputs": [],
   "source": [
    "# minus_volume_index = cells0[minus_volume_tetra].flatten()\n",
    "# minus_volume_index = np.unique(minus_volume_index)\n",
    "\n",
    "# full_points = np.array(full_mesh.points.tolist())\n",
    "# minus_points = full_points[minus_volume_index]\n",
    "# minus_points.shape\n"
   ]
  },
  {
   "cell_type": "code",
   "execution_count": 8,
   "metadata": {},
   "outputs": [],
   "source": [
    "surface_index = full_mesh.surface_indices()\n",
    "minus_volume_index = cells0[minus_volume_tetra]\n",
    "\n",
    "all_surface = []\n",
    "\n",
    "for index in cells0:\n",
    "    bool_array = [i in surface_index for i in index]\n",
    "\n",
    "    if sum(bool_array) == 4:\n",
    "        all_surface.append(index)\n",
    "\n",
    "all_surface = np.array(all_surface).flatten()\n",
    "all_surface = np.unique(all_surface)\n",
    "\n",
    "all_points = full_points[all_surface]\n",
    "\n",
    "minus_surface = []\n",
    "\n",
    "# for index in cells0:\n",
    "for index in minus_volume_index:\n",
    "    bool_array = [i in surface_index for i in index]\n",
    "\n",
    "    if sum(bool_array) == 4:\n",
    "        minus_surface.append(index)\n",
    "\n",
    "minus_surface = np.array(minus_surface).flatten()\n",
    "minus_surface = np.unique(minus_surface)\n",
    "minus_surface = np.zeros(full_points.shape, dtype=bool) if minus_surface.shape[0]==0 else minus_surface"
   ]
  },
  {
   "cell_type": "code",
   "execution_count": 9,
   "metadata": {},
   "outputs": [
    {
     "data": {
      "text/plain": [
       "(66723, 3)"
      ]
     },
     "execution_count": 9,
     "metadata": {},
     "output_type": "execute_result"
    }
   ],
   "source": [
    "minus_surface.shape"
   ]
  },
  {
   "cell_type": "code",
   "execution_count": 10,
   "metadata": {},
   "outputs": [
    {
     "data": {
      "text/plain": [
       "((0,), (66723, 3), (39585, 3))"
      ]
     },
     "execution_count": 10,
     "metadata": {},
     "output_type": "execute_result"
    }
   ],
   "source": [
    "minus_points = full_points[minus_surface]\n",
    "surface_points = full_points[surface_index]\n",
    "\n",
    "minus_points.shape, minus_surface.shape, surface_points.shape"
   ]
  },
  {
   "cell_type": "code",
   "execution_count": null,
   "metadata": {},
   "outputs": [],
   "source": []
  },
  {
   "cell_type": "code",
   "execution_count": 11,
   "metadata": {},
   "outputs": [
    {
     "data": {
      "image/png": "[encoded data removed]",
      "text/plain": [
       "<Figure size 1200x300 with 2 Axes>"
      ]
     },
     "metadata": {},
     "output_type": "display_data"
    }
   ],
   "source": [
    "fig,ax = plt.subplots(1, 2, figsize=(12, 3))\n",
    "\n",
    "for i in [0,1]:\n",
    "    ax[i].plot(surface_points[:,0], surface_points[:,1+i], '.')\n",
    "    ax[i].plot(all_points[:,0], all_points[:,1+i], '.')\n",
    "    # ax[i].plot(minus_points[:,0], minus_points[:,1+i], '.')\n",
    "    ax[i].axis('equal')\n",
    "plt.show()"
   ]
  },
  {
   "cell_type": "code",
   "execution_count": null,
   "metadata": {},
   "outputs": [],
   "source": []
  },
  {
   "cell_type": "code",
   "execution_count": 12,
   "metadata": {},
   "outputs": [
    {
     "data": {
      "image/png": "[encoded data removed]",
      "text/plain": [
       "<Figure size 800x200 with 1 Axes>"
      ]
     },
     "metadata": {},
     "output_type": "display_data"
    }
   ],
   "source": [
    "import matplotlib.pyplot as plt\n",
    "\n",
    "# 各点の接続情報を持つ配列を作成する\n",
    "point_connections = [[] for _ in range(len(full_points))]\n",
    "for i, cell in enumerate(cells0):\n",
    "    if i in minus_volume_tetra:\n",
    "        for j in cell:\n",
    "            point_connections[j].append(i)\n",
    "\n",
    "# 各点から繋がっているセルの数を数える\n",
    "connected_cell_counts = np.array([len(connections) for connections in point_connections])\n",
    "\n",
    "# ヒストグラムを作成する\n",
    "plt.figure(figsize=(8, 2))\n",
    "plt.hist(connected_cell_counts) #, bins=range(max(connected_cell_counts)+2))\n",
    "plt.xlabel('Number of connected cells per point')\n",
    "plt.ylabel('Frequency')\n",
    "plt.title('Histogram of connected negative cells per point')\n",
    "plt.ylim(0, 200)\n",
    "plt.show()"
   ]
  },
  {
   "cell_type": "code",
   "execution_count": 13,
   "metadata": {},
   "outputs": [
    {
     "data": {
      "text/plain": [
       "((66723,), 3, (295008, 4))"
      ]
     },
     "execution_count": 13,
     "metadata": {},
     "output_type": "execute_result"
    }
   ],
   "source": [
    "connected_cell_counts.shape, connected_cell_counts.max(), cells0.shape"
   ]
  },
  {
   "cell_type": "code",
   "execution_count": 14,
   "metadata": {},
   "outputs": [
    {
     "data": {
      "text/plain": [
       "array([   26,   166,   276,   277,   600,   817,   939,  1051,  1610,\n",
       "        1704,  1810,  1832,  1833,  1897,  2026,  2109,  2210,  2211,\n",
       "        2356,  2388,  2389,  2523,  2528,  2534,  2617,  2915,  3412,\n",
       "        3568,  3759,  3777,  3939,  4125,  4127,  4145,  4491,  4511,\n",
       "        4673,  5089,  5293,  5634,  5866,  6187,  6458,  6979,  7152,\n",
       "        7689,  8227,  8486,  8648,  9060,  9371,  9781,  9832,  9839,\n",
       "       10207, 10404, 10675, 10831, 11014, 11251, 11325, 11424, 11918,\n",
       "       11926, 12026, 12035, 12037, 12223, 12225, 12227, 12273, 12274,\n",
       "       12549, 12644, 12661, 13091, 13093, 13149, 13150, 13268, 13283,\n",
       "       13467, 13866, 14092, 14340, 14341, 14515, 14742, 14747, 15094,\n",
       "       15098, 15132, 15135, 15154, 15285, 15413, 15672, 15791, 15813,\n",
       "       15818, 16307, 16377, 16406, 16412, 16475, 16510, 16511, 16888,\n",
       "       16988, 17028, 17044, 17045, 17127, 17148, 17153, 17154, 17255,\n",
       "       17649, 17692, 17809, 17949, 18326, 18383, 18400, 18401, 18427,\n",
       "       18640, 18894, 19058, 19755, 20020, 20021, 20281, 20347, 20456,\n",
       "       21000, 21001, 21094, 21154, 21179, 21185, 21711, 21767, 21827,\n",
       "       21877, 22049, 22285, 22287, 22441, 22569, 22800, 23122, 23172,\n",
       "       23231, 23238, 23272, 23305, 23371, 23391, 23496, 23732, 23744,\n",
       "       23746, 23850, 23972, 24003, 24161, 24276, 24334, 24353, 24584,\n",
       "       24678, 24737, 24739, 24745, 24749, 24765, 24767, 24840, 24931,\n",
       "       24935, 25104, 25108, 25171, 25301, 25374, 25375, 25391, 25397,\n",
       "       25500, 25510, 25583, 25655, 25656, 25699, 25778, 25780, 25813,\n",
       "       25814, 25822, 25859, 25914, 26060, 26065, 26093, 26144, 26253,\n",
       "       26270, 26438, 26461, 26546, 26560, 26631, 26675, 26696, 26888,\n",
       "       27028, 27107, 27130, 27131, 27170, 27331, 27379, 27411, 27473,\n",
       "       27650, 27716, 27758, 27828, 28009, 28010, 28064, 28065, 28136,\n",
       "       28147, 28256, 28284, 28339, 28476, 28481, 28629, 28706, 28821,\n",
       "       28847, 28848, 28926, 29010, 29022, 29059, 29124, 29206, 29250,\n",
       "       29303, 29412, 29668, 29712, 29822, 29842, 29884, 29908, 29925,\n",
       "       30092, 30332, 30412, 30459, 30564, 30593, 30617, 30729, 30802,\n",
       "       30815, 30932, 31018, 31069, 31181, 31186, 31187, 31282, 31285,\n",
       "       31659, 31886, 31972, 32016, 32029, 32035, 32134, 32240, 32390,\n",
       "       32404, 32410, 32522, 32526, 32532, 32560, 32573, 32622, 32773,\n",
       "       32830, 32831, 33022, 33028, 33030, 33281, 33354, 33485, 33670,\n",
       "       33689, 33729, 34002, 34097, 34211, 34214, 34283, 34383, 34412,\n",
       "       34413, 34440, 34446, 34880, 34884, 34943, 34961, 34963, 34977,\n",
       "       35029, 35077, 35080, 35096, 35098, 35115, 35157, 35244, 35294,\n",
       "       35405, 35487, 35838, 35963, 35965, 35972, 35989, 36017, 36040,\n",
       "       36041, 36052, 36072, 36144, 36145, 36219, 36328, 36409, 36532,\n",
       "       36729, 36812, 36813, 36819, 36880, 36888, 36889, 36896, 36911,\n",
       "       36917, 36929, 36935, 36936, 36943, 36970, 37042, 37114, 37182,\n",
       "       37367, 37368, 37566, 37588, 37711, 37712, 37754, 37760, 37761,\n",
       "       37976, 38046, 38047, 38121, 38428, 38560, 38774, 38840, 38851,\n",
       "       38932, 39005, 39038, 39234, 39283, 39284, 39372, 39380, 39486,\n",
       "       39546, 39601, 39685, 40093, 40318, 40366, 40384, 40479, 40800,\n",
       "       41108, 41177, 41276, 41408, 41579, 41600, 41827, 41991, 42065,\n",
       "       42071, 42149, 42199, 42286, 42521, 42636, 42640, 42668, 42671,\n",
       "       42721, 42851, 42903, 43136, 43167, 43171, 43285, 43455, 43466,\n",
       "       43472, 43559, 43760, 43761, 43849, 43890, 43895, 43936, 43959,\n",
       "       44189, 44191, 44204, 44215, 44220, 44399, 44400, 44419, 44536,\n",
       "       44537, 44627, 44664, 44667, 44743, 44751, 44919, 44925, 44940,\n",
       "       44952, 44996, 45083, 45097, 45099, 45114, 45168, 45194, 45213,\n",
       "       45371, 45411, 45577, 45578, 45614, 45694, 45816, 45829, 45884,\n",
       "       45901, 45953, 46145, 46147, 46213, 46337, 46342, 46383, 46384,\n",
       "       46391, 46515, 46524, 46553, 47085, 47089, 47260, 47265, 47292,\n",
       "       47507, 47518, 47642, 47764, 47769, 47798, 47941, 47992, 47998,\n",
       "       47999, 48000, 48019, 48078, 48230, 48231, 48241, 48324, 48461,\n",
       "       48497, 48615, 48658, 48780, 48810, 49117, 49118, 49147, 49151,\n",
       "       49287, 49507, 49593, 49603, 49604, 49725, 49878, 50152, 50154,\n",
       "       50474, 50477, 50482, 50508, 50807, 50808, 50814, 50958, 50976,\n",
       "       51073, 51135, 51171, 51450, 51452, 51635, 51738, 51824, 51934,\n",
       "       51961, 51978, 51989, 52029, 52103, 52248, 52250, 52270, 52314,\n",
       "       52317, 52433, 52576, 52638, 52641, 52655, 52658, 52702, 52705,\n",
       "       52728, 52731, 52734, 52856, 52862, 52884, 52887, 53245, 53284,\n",
       "       53326, 53339, 53361, 53364, 53367, 53368, 53453, 53456, 53598,\n",
       "       53599, 53603, 53605, 53685, 53687, 53819, 53823, 53830, 53855,\n",
       "       53856, 53946, 53968, 54096, 54191, 54197, 54258, 54261, 54435,\n",
       "       54579, 54663, 54934, 55261, 55263, 55376, 55488, 55490, 55506,\n",
       "       55527, 55594, 55625, 55650, 55825, 55847, 55848, 55926, 55955,\n",
       "       56055, 56056, 56122, 56152, 56288, 56672, 56898, 56933, 56937,\n",
       "       56944, 56952, 57051, 57087, 57090, 57189, 57198, 57208, 57247,\n",
       "       57258, 57270, 57271, 57371, 57454, 57455, 57495, 57513, 57560,\n",
       "       57599, 57602, 57637, 57684, 57743, 57852, 57950, 58030, 58067,\n",
       "       58069, 58070, 58074, 58113, 58120, 58191, 58206, 58208, 58210,\n",
       "       58308, 58310, 58316, 58318, 58340, 58388, 58389, 58461, 58527,\n",
       "       58546, 58557, 58558, 58594, 58595, 58598, 58617, 58646, 58647,\n",
       "       58652, 58716, 58790, 58797, 58798, 58819, 58824, 58877, 58898,\n",
       "       58901, 59016, 59049, 59081, 59138, 59144, 59160, 59301, 59344,\n",
       "       59348, 59415, 59772, 59800, 59803, 59862, 59921, 59996, 59998,\n",
       "       60092, 60097, 60215, 60216, 60217, 60408, 60409, 60447, 60485,\n",
       "       60531, 60571, 60578, 60715, 60748, 60796, 60807, 60808, 60856,\n",
       "       60889, 60891, 60919, 61129, 61130, 61146, 61155, 61186, 61247,\n",
       "       61273, 61335, 61337, 61380, 61537, 61585, 61613, 61615, 61683,\n",
       "       61728, 61729, 61842, 61946, 61980, 62059, 62077, 62111, 62150,\n",
       "       62333, 62359, 62484, 62489, 62563, 62728, 62816, 62889, 62908,\n",
       "       62921, 63239, 63263, 63264, 63575, 63873, 64042, 64043, 64097,\n",
       "       64133, 64314, 64322, 64326, 64579, 64760, 64765, 64874, 64880,\n",
       "       64954, 65060, 65120, 65138, 65220, 65221, 65222, 65256, 65360,\n",
       "       65427, 65566, 65622, 65642, 65658, 65660, 65681, 65726, 65746,\n",
       "       65783, 65835, 65837, 65852, 65875, 65916, 65943, 65977, 66016,\n",
       "       66035, 66058, 66071, 66150, 66151, 66226, 66257, 66293, 66325,\n",
       "       66451, 66469, 66482, 66514, 66564, 66583, 66606, 66627])"
      ]
     },
     "execution_count": 14,
     "metadata": {},
     "output_type": "execute_result"
    }
   ],
   "source": [
    "num_1 = np.arange(len(connected_cell_counts))[connected_cell_counts==1]\n",
    "num_1"
   ]
  },
  {
   "cell_type": "code",
   "execution_count": 15,
   "metadata": {},
   "outputs": [
    {
     "data": {
      "image/png": "[encoded data removed]",
      "text/plain": [
       "<Figure size 800x200 with 1 Axes>"
      ]
     },
     "metadata": {},
     "output_type": "display_data"
    }
   ],
   "source": [
    "import matplotlib.pyplot as plt\n",
    "\n",
    "# 各点の接続情報を持つ配列を作成する\n",
    "point_connections1 = [[] for _ in range(len(full_points))]\n",
    "for i, cell in enumerate(cells0):\n",
    "    for j in cell:\n",
    "        if j in num_1:\n",
    "            point_connections1[j].append(i)\n",
    "\n",
    "# 各点から繋がっているセルの数を数える\n",
    "connected_cell_counts1 = np.array([len(connections) for connections in point_connections1])\n",
    "\n",
    "# ヒストグラムを作成する\n",
    "plt.figure(figsize=(8, 2))\n",
    "plt.hist(connected_cell_counts1) #, bins=range(max(connected_cell_counts)+2))\n",
    "plt.xlabel('Number of connected cells per point')\n",
    "plt.ylabel('Frequency')\n",
    "plt.title('Histogram of connected cells per point')\n",
    "plt.ylim(0, 60)\n",
    "plt.show()"
   ]
  },
  {
   "cell_type": "code",
   "execution_count": 16,
   "metadata": {},
   "outputs": [
    {
     "data": {
      "text/plain": [
       "(916,\n",
       " array([ 26, 166, 276, 277]),\n",
       " array([[3.15076504e-05, 3.42660327e-03, 2.00845581e-03],\n",
       "        [2.56667972e-05, 3.41830146e-03, 2.01145187e-03],\n",
       "        [2.26662869e-05, 3.44261667e-03, 2.01028632e-03],\n",
       "        [1.88009381e-05, 3.42469965e-03, 2.01448938e-03]]))"
      ]
     },
     "execution_count": 16,
     "metadata": {},
     "output_type": "execute_result"
    }
   ],
   "source": [
    "example_tetra = minus_volume_tetra[0]\n",
    "example_index = cells0[example_tetra]\n",
    "example_point = full_points[example_index]\n",
    "\n",
    "example_tetra, example_index, example_point"
   ]
  },
  {
   "cell_type": "code",
   "execution_count": 17,
   "metadata": {},
   "outputs": [
    {
     "data": {
      "text/plain": [
       "(array([8.47559289e-11, 1.21923494e-10, 5.21627719e-11, 8.95914442e-11]), 1)"
      ]
     },
     "execution_count": 17,
     "metadata": {},
     "output_type": "execute_result"
    }
   ],
   "source": [
    "example_area = np.zeros(4)\n",
    "\n",
    "for i in range(4):\n",
    "    j = (i + 1) % 4\n",
    "    k = (i + 2) % 4\n",
    "    l = (i + 3) % 4\n",
    "\n",
    "    vector0 = example_point[l] - example_point[j]\n",
    "    vector1 = example_point[k] - example_point[j]\n",
    "    example_area[i] = np.linalg.norm(np.cross(vector0, vector1)) / 2\n",
    "\n",
    "max_area = example_area.argmax()\n",
    "\n",
    "example_area, max_area"
   ]
  },
  {
   "cell_type": "code",
   "execution_count": null,
   "metadata": {},
   "outputs": [],
   "source": []
  },
  {
   "cell_type": "code",
   "execution_count": 18,
   "metadata": {},
   "outputs": [
    {
     "data": {
      "text/plain": [
       "7.151551791093082e-07"
      ]
     },
     "execution_count": 18,
     "metadata": {},
     "output_type": "execute_result"
    }
   ],
   "source": [
    "j = (max_area + 1) % 4\n",
    "k = (max_area + 2) % 4\n",
    "l = (max_area + 3) % 4\n",
    "\n",
    "example_normal = np.cross(example_point[l] - example_point[j], example_point[k] - example_point[j])\n",
    "example_normal = example_normal / np.linalg.norm(example_normal)\n",
    "\n",
    "example_distance = np.dot(example_point[max_area] - example_point[j], example_normal)\n",
    "example_distance"
   ]
  },
  {
   "cell_type": "code",
   "execution_count": 19,
   "metadata": {},
   "outputs": [
    {
     "data": {
      "text/plain": [
       "-7.151551791093095e-07"
      ]
     },
     "execution_count": 19,
     "metadata": {},
     "output_type": "execute_result"
    }
   ],
   "source": [
    "example_new_point = example_point[max_area] - 2 * example_normal * example_distance\n",
    "np.dot(example_new_point - example_point[j], example_normal)"
   ]
  },
  {
   "cell_type": "code",
   "execution_count": 20,
   "metadata": {},
   "outputs": [
    {
     "data": {
      "text/plain": [
       "pyvista_ndarray([    0,     1,     2, ..., 66720, 66719, 66722])"
      ]
     },
     "execution_count": 20,
     "metadata": {},
     "output_type": "execute_result"
    }
   ],
   "source": [
    "surface_index = full_mesh.surface_indices()\n",
    "surface_index"
   ]
  },
  {
   "cell_type": "code",
   "execution_count": 21,
   "metadata": {},
   "outputs": [
    {
     "name": "stdout",
     "output_type": "stream",
     "text": [
      "20\n"
     ]
    }
   ],
   "source": [
    "import numpy as np\n",
    "index0 = np.array([10, 0, 20, 30])\n",
    "area0  = np.array([1, 2, 3, 4])\n",
    "surface0 = np.array([10, 30, 40, 50])\n",
    "\n",
    "# area0の値が大きい順にインデックスをソートする\n",
    "sorted_indices = np.argsort(area0)[::-1]\n",
    "\n",
    "# ソートしたインデックスの中で、surface0に含まれない最初のものを探す\n",
    "for index in sorted_indices:\n",
    "    if index0[index] not in surface0:\n",
    "        result = index0[index]\n",
    "        break\n",
    "\n",
    "print(result)\n"
   ]
  },
  {
   "cell_type": "code",
   "execution_count": 46,
   "metadata": {},
   "outputs": [
    {
     "ename": "FileNotFoundError",
     "evalue": "File (/Users/gyakusu/Morphing/data/random/Tetra_linspace0.vtu) not found",
     "output_type": "error",
     "traceback": [
      "\u001b[0;31m---------------------------------------------------------------------------\u001b[0m",
      "\u001b[0;31mFileNotFoundError\u001b[0m                         Traceback (most recent call last)",
      "Cell \u001b[0;32mIn[46], line 66\u001b[0m\n\u001b[1;32m     63\u001b[0m     \u001b[38;5;28;01mreturn\u001b[39;00m all_positive_mesh\n\u001b[1;32m     65\u001b[0m \u001b[38;5;66;03m# all_positive_mesh = process_mesh('../data/random/Tetra_linspace0.vtu', 1.0, True)\u001b[39;00m\n\u001b[0;32m---> 66\u001b[0m all_positive_mesh \u001b[38;5;241m=\u001b[39m \u001b[43mprocess_mesh\u001b[49m\u001b[43m(\u001b[49m\u001b[38;5;124;43m'\u001b[39;49m\u001b[38;5;124;43m../data/random/Tetra_linspace0.vtu\u001b[39;49m\u001b[38;5;124;43m'\u001b[39;49m\u001b[43m,\u001b[49m\u001b[43m \u001b[49m\u001b[38;5;241;43m0.0\u001b[39;49m\u001b[43m,\u001b[49m\u001b[43m \u001b[49m\u001b[38;5;28;43;01mTrue\u001b[39;49;00m\u001b[43m,\u001b[49m\u001b[43m \u001b[49m\u001b[38;5;241;43m1\u001b[39;49m\u001b[43m)\u001b[49m\n",
      "Cell \u001b[0;32mIn[46], line 5\u001b[0m, in \u001b[0;36mprocess_mesh\u001b[0;34m(filename, relaxation, overwrite, itaration)\u001b[0m\n\u001b[1;32m      4\u001b[0m \u001b[38;5;28;01mdef\u001b[39;00m \u001b[38;5;21mprocess_mesh\u001b[39m(filename, relaxation\u001b[38;5;241m=\u001b[39m\u001b[38;5;241m1.0\u001b[39m, overwrite\u001b[38;5;241m=\u001b[39m\u001b[38;5;28;01mFalse\u001b[39;00m, itaration\u001b[38;5;241m=\u001b[39m\u001b[38;5;241m10\u001b[39m):\n\u001b[0;32m----> 5\u001b[0m     full_mesh \u001b[38;5;241m=\u001b[39m \u001b[43mpv\u001b[49m\u001b[38;5;241;43m.\u001b[39;49m\u001b[43mread\u001b[49m\u001b[43m(\u001b[49m\u001b[43mfilename\u001b[49m\u001b[43m)\u001b[49m\n\u001b[1;32m      6\u001b[0m     surface_index \u001b[38;5;241m=\u001b[39m full_mesh\u001b[38;5;241m.\u001b[39msurface_indices()\n\u001b[1;32m      7\u001b[0m     all_positive_mesh  \u001b[38;5;241m=\u001b[39m full_mesh\u001b[38;5;241m.\u001b[39mcopy()\n",
      "File \u001b[0;32m~/Library/Python/3.9/lib/python/site-packages/pyvista/core/utilities/fileio.py:174\u001b[0m, in \u001b[0;36mread\u001b[0;34m(filename, force_ext, file_format, progress_bar)\u001b[0m\n\u001b[1;32m    172\u001b[0m filename \u001b[38;5;241m=\u001b[39m os\u001b[38;5;241m.\u001b[39mpath\u001b[38;5;241m.\u001b[39mabspath(os\u001b[38;5;241m.\u001b[39mpath\u001b[38;5;241m.\u001b[39mexpanduser(\u001b[38;5;28mstr\u001b[39m(filename)))\n\u001b[1;32m    173\u001b[0m \u001b[38;5;28;01mif\u001b[39;00m \u001b[38;5;129;01mnot\u001b[39;00m os\u001b[38;5;241m.\u001b[39mpath\u001b[38;5;241m.\u001b[39misfile(filename):\n\u001b[0;32m--> 174\u001b[0m     \u001b[38;5;28;01mraise\u001b[39;00m \u001b[38;5;167;01mFileNotFoundError\u001b[39;00m(\u001b[38;5;124mf\u001b[39m\u001b[38;5;124m'\u001b[39m\u001b[38;5;124mFile (\u001b[39m\u001b[38;5;132;01m{\u001b[39;00mfilename\u001b[38;5;132;01m}\u001b[39;00m\u001b[38;5;124m) not found\u001b[39m\u001b[38;5;124m'\u001b[39m)\n\u001b[1;32m    176\u001b[0m \u001b[38;5;66;03m# Read file using meshio.read if file_format is present\u001b[39;00m\n\u001b[1;32m    177\u001b[0m \u001b[38;5;28;01mif\u001b[39;00m file_format:\n",
      "\u001b[0;31mFileNotFoundError\u001b[0m: File (/Users/gyakusu/Morphing/data/random/Tetra_linspace0.vtu) not found"
     ]
    }
   ],
   "source": [
    "import numpy as np\n",
    "import pyvista as pv\n",
    "\n",
    "def process_mesh(filename, relaxation=1.0, overwrite=False, itaration=10):\n",
    "    full_mesh = pv.read(filename)\n",
    "    surface_index = full_mesh.surface_indices()\n",
    "    all_positive_mesh  = full_mesh.copy()\n",
    "    all_positive_cell  = all_positive_mesh.cells.reshape(-1, 5)[:, 1:]\n",
    "    all_positive_point = all_positive_mesh.points.copy()\n",
    "\n",
    "    for hoge in range(itaration):\n",
    "        count = 0\n",
    "        for index in all_positive_cell:\n",
    "            point = all_positive_point[index]\n",
    "            vectors = point[1:] - point[0]\n",
    "            volume = (np.dot(vectors[0], np.cross(vectors[1], vectors[2]))) / 6\n",
    "\n",
    "            if volume > 0:\n",
    "                continue\n",
    "\n",
    "            count += 1\n",
    "            bool_array = [i in surface_index for i in index]\n",
    "            # print(bool_array, sum(bool_array))\n",
    "\n",
    "            area = np.zeros(4)\n",
    "            for i in range(4):\n",
    "                j = (i + 1) % 4\n",
    "                k = (i + 2) % 4\n",
    "                l = (i + 3) % 4\n",
    "\n",
    "                vector0 = point[l] - point[j]\n",
    "                vector1 = point[k] - point[j]\n",
    "\n",
    "                area[i] = np.linalg.norm(np.cross(vector0, vector1))\n",
    "\n",
    "            sorted_indices = np.argsort(area)[::-1]\n",
    "\n",
    "            for i in sorted_indices:\n",
    "                if index[i] not in surface_index:\n",
    "                    max_area = i\n",
    "\n",
    "            j = (max_area + 1) % 4\n",
    "            k = (max_area + 2) % 4\n",
    "            l = (max_area + 3) % 4\n",
    "\n",
    "            normal = np.cross(point[l] - point[j], point[k] - point[j])\n",
    "            normal = normal / np.linalg.norm(normal)\n",
    "\n",
    "            distance = np.dot(point[max_area] - point[j], normal)\n",
    "            new_point = point[max_area] - (1 + relaxation) * normal * distance\n",
    "\n",
    "            all_positive_point[index[max_area]] = new_point\n",
    "\n",
    "        print(count)\n",
    "        if count == 0:\n",
    "            break\n",
    "\n",
    "        if hoge == itaration - 1:\n",
    "            print('Warning: relaxation is not enough')\n",
    "\n",
    "    if overwrite:\n",
    "        all_positive_mesh.points = all_positive_point\n",
    "    return all_positive_mesh\n",
    "\n",
    "# all_positive_mesh = process_mesh('../data/random/Tetra_linspace0.vtu', 1.0, True)\n",
    "all_positive_mesh = process_mesh('../data/random/Tetra_linspace0.vtu', 0.0, True, 1)\n"
   ]
  },
  {
   "cell_type": "code",
   "execution_count": 47,
   "metadata": {},
   "outputs": [
    {
     "ename": "NameError",
     "evalue": "name 'all_positive_mesh' is not defined",
     "output_type": "error",
     "traceback": [
      "\u001b[0;31m---------------------------------------------------------------------------\u001b[0m",
      "\u001b[0;31mNameError\u001b[0m                                 Traceback (most recent call last)",
      "Cell \u001b[0;32mIn[47], line 1\u001b[0m\n\u001b[0;32m----> 1\u001b[0m positive_volumes \u001b[38;5;241m=\u001b[39m calculate_volume(\u001b[43mall_positive_mesh\u001b[49m)\n\u001b[1;32m      3\u001b[0m plt\u001b[38;5;241m.\u001b[39mfigure(figsize\u001b[38;5;241m=\u001b[39m(\u001b[38;5;241m12\u001b[39m, \u001b[38;5;241m2\u001b[39m))\n\u001b[1;32m      4\u001b[0m plt\u001b[38;5;241m.\u001b[39mhist(positive_volumes\u001b[38;5;241m*\u001b[39m\u001b[38;5;241m1e12\u001b[39m, bins\u001b[38;5;241m=\u001b[39m\u001b[38;5;241m200\u001b[39m)\n",
      "\u001b[0;31mNameError\u001b[0m: name 'all_positive_mesh' is not defined"
     ]
    }
   ],
   "source": [
    "positive_volumes = calculate_volume(all_positive_mesh)\n",
    "\n",
    "plt.figure(figsize=(12, 2))\n",
    "plt.hist(positive_volumes*1e12, bins=200)\n",
    "plt.show()\n"
   ]
  },
  {
   "cell_type": "code",
   "execution_count": null,
   "metadata": {},
   "outputs": [],
   "source": []
  },
  {
   "cell_type": "code",
   "execution_count": 48,
   "metadata": {},
   "outputs": [
    {
     "ename": "NameError",
     "evalue": "name 'positive_volumes' is not defined",
     "output_type": "error",
     "traceback": [
      "\u001b[0;31m---------------------------------------------------------------------------\u001b[0m",
      "\u001b[0;31mNameError\u001b[0m                                 Traceback (most recent call last)",
      "Cell \u001b[0;32mIn[48], line 1\u001b[0m\n\u001b[0;32m----> 1\u001b[0m \u001b[43mpositive_volumes\u001b[49m\u001b[38;5;241m.\u001b[39mmin()\n",
      "\u001b[0;31mNameError\u001b[0m: name 'positive_volumes' is not defined"
     ]
    }
   ],
   "source": [
    "positive_volumes.min()"
   ]
  },
  {
   "cell_type": "code",
   "execution_count": 49,
   "metadata": {},
   "outputs": [
    {
     "name": "stdout",
     "output_type": "stream",
     "text": [
      "Processing 0\n"
     ]
    },
    {
     "ename": "FileNotFoundError",
     "evalue": "File (/Users/gyakusu/Morphing/data/random/Tetra_linspace0.vtu) not found",
     "output_type": "error",
     "traceback": [
      "\u001b[0;31m---------------------------------------------------------------------------\u001b[0m",
      "\u001b[0;31mFileNotFoundError\u001b[0m                         Traceback (most recent call last)",
      "Cell \u001b[0;32mIn[49], line 3\u001b[0m\n\u001b[1;32m      1\u001b[0m \u001b[38;5;28;01mfor\u001b[39;00m i \u001b[38;5;129;01min\u001b[39;00m \u001b[38;5;28mrange\u001b[39m(\u001b[38;5;241m100\u001b[39m):\n\u001b[1;32m      2\u001b[0m     \u001b[38;5;28mprint\u001b[39m(\u001b[38;5;124mf\u001b[39m\u001b[38;5;124m\"\u001b[39m\u001b[38;5;124mProcessing \u001b[39m\u001b[38;5;132;01m{\u001b[39;00mi\u001b[38;5;132;01m}\u001b[39;00m\u001b[38;5;124m\"\u001b[39m)\n\u001b[0;32m----> 3\u001b[0m     all_positive_mesh \u001b[38;5;241m=\u001b[39m \u001b[43mprocess_mesh\u001b[49m\u001b[43m(\u001b[49m\u001b[38;5;124;43mf\u001b[39;49m\u001b[38;5;124;43m'\u001b[39;49m\u001b[38;5;124;43m../data/random/Tetra_linspace\u001b[39;49m\u001b[38;5;132;43;01m{\u001b[39;49;00m\u001b[43mi\u001b[49m\u001b[38;5;132;43;01m}\u001b[39;49;00m\u001b[38;5;124;43m.vtu\u001b[39;49m\u001b[38;5;124;43m'\u001b[39;49m\u001b[43m,\u001b[49m\u001b[43m \u001b[49m\u001b[38;5;241;43m1.0\u001b[39;49m\u001b[43m,\u001b[49m\u001b[43m \u001b[49m\u001b[38;5;28;43;01mTrue\u001b[39;49;00m\u001b[43m,\u001b[49m\u001b[43m \u001b[49m\u001b[38;5;241;43m10\u001b[39;49m\u001b[43m)\u001b[49m\n\u001b[1;32m      4\u001b[0m     \u001b[38;5;66;03m# all_positive_mesh.save(f'../data/random/Tetra_linspace{i}.vtu')\u001b[39;00m\n\u001b[1;32m      5\u001b[0m     positive_volumes \u001b[38;5;241m=\u001b[39m calculate_volume(all_positive_mesh)\n",
      "Cell \u001b[0;32mIn[46], line 5\u001b[0m, in \u001b[0;36mprocess_mesh\u001b[0;34m(filename, relaxation, overwrite, itaration)\u001b[0m\n\u001b[1;32m      4\u001b[0m \u001b[38;5;28;01mdef\u001b[39;00m \u001b[38;5;21mprocess_mesh\u001b[39m(filename, relaxation\u001b[38;5;241m=\u001b[39m\u001b[38;5;241m1.0\u001b[39m, overwrite\u001b[38;5;241m=\u001b[39m\u001b[38;5;28;01mFalse\u001b[39;00m, itaration\u001b[38;5;241m=\u001b[39m\u001b[38;5;241m10\u001b[39m):\n\u001b[0;32m----> 5\u001b[0m     full_mesh \u001b[38;5;241m=\u001b[39m \u001b[43mpv\u001b[49m\u001b[38;5;241;43m.\u001b[39;49m\u001b[43mread\u001b[49m\u001b[43m(\u001b[49m\u001b[43mfilename\u001b[49m\u001b[43m)\u001b[49m\n\u001b[1;32m      6\u001b[0m     surface_index \u001b[38;5;241m=\u001b[39m full_mesh\u001b[38;5;241m.\u001b[39msurface_indices()\n\u001b[1;32m      7\u001b[0m     all_positive_mesh  \u001b[38;5;241m=\u001b[39m full_mesh\u001b[38;5;241m.\u001b[39mcopy()\n",
      "File \u001b[0;32m~/Library/Python/3.9/lib/python/site-packages/pyvista/core/utilities/fileio.py:174\u001b[0m, in \u001b[0;36mread\u001b[0;34m(filename, force_ext, file_format, progress_bar)\u001b[0m\n\u001b[1;32m    172\u001b[0m filename \u001b[38;5;241m=\u001b[39m os\u001b[38;5;241m.\u001b[39mpath\u001b[38;5;241m.\u001b[39mabspath(os\u001b[38;5;241m.\u001b[39mpath\u001b[38;5;241m.\u001b[39mexpanduser(\u001b[38;5;28mstr\u001b[39m(filename)))\n\u001b[1;32m    173\u001b[0m \u001b[38;5;28;01mif\u001b[39;00m \u001b[38;5;129;01mnot\u001b[39;00m os\u001b[38;5;241m.\u001b[39mpath\u001b[38;5;241m.\u001b[39misfile(filename):\n\u001b[0;32m--> 174\u001b[0m     \u001b[38;5;28;01mraise\u001b[39;00m \u001b[38;5;167;01mFileNotFoundError\u001b[39;00m(\u001b[38;5;124mf\u001b[39m\u001b[38;5;124m'\u001b[39m\u001b[38;5;124mFile (\u001b[39m\u001b[38;5;132;01m{\u001b[39;00mfilename\u001b[38;5;132;01m}\u001b[39;00m\u001b[38;5;124m) not found\u001b[39m\u001b[38;5;124m'\u001b[39m)\n\u001b[1;32m    176\u001b[0m \u001b[38;5;66;03m# Read file using meshio.read if file_format is present\u001b[39;00m\n\u001b[1;32m    177\u001b[0m \u001b[38;5;28;01mif\u001b[39;00m file_format:\n",
      "\u001b[0;31mFileNotFoundError\u001b[0m: File (/Users/gyakusu/Morphing/data/random/Tetra_linspace0.vtu) not found"
     ]
    }
   ],
   "source": [
    "for i in range(100):\n",
    "    print(f\"Processing {i}\")\n",
    "    all_positive_mesh = process_mesh(f'../data/random/Tetra_linspace{i}.vtu', 1.0, True, 10)\n",
    "    # all_positive_mesh.save(f'../data/random/Tetra_linspace{i}.vtu')\n",
    "    positive_volumes = calculate_volume(all_positive_mesh)\n",
    "    print(positive_volumes.min())\n"
   ]
  },
  {
   "cell_type": "markdown",
   "metadata": {},
   "source": [
    "memo\n",
    "\n",
    "[2, 15, 23, 41, 53, 60, ]"
   ]
  },
  {
   "cell_type": "code",
   "execution_count": 50,
   "metadata": {},
   "outputs": [
    {
     "ename": "FileNotFoundError",
     "evalue": "File (/Users/gyakusu/Morphing/data/random/Tetra_linspace53.vtu) not found",
     "output_type": "error",
     "traceback": [
      "\u001b[0;31m---------------------------------------------------------------------------\u001b[0m",
      "\u001b[0;31mFileNotFoundError\u001b[0m                         Traceback (most recent call last)",
      "Cell \u001b[0;32mIn[50], line 1\u001b[0m\n\u001b[0;32m----> 1\u001b[0m all_positive_mesh \u001b[38;5;241m=\u001b[39m \u001b[43mprocess_mesh\u001b[49m\u001b[43m(\u001b[49m\u001b[38;5;124;43mf\u001b[39;49m\u001b[38;5;124;43m'\u001b[39;49m\u001b[38;5;124;43m../data/random/Tetra_linspace\u001b[39;49m\u001b[38;5;132;43;01m{\u001b[39;49;00m\u001b[38;5;241;43m53\u001b[39;49m\u001b[38;5;132;43;01m}\u001b[39;49;00m\u001b[38;5;124;43m.vtu\u001b[39;49m\u001b[38;5;124;43m'\u001b[39;49m\u001b[43m,\u001b[49m\u001b[43m \u001b[49m\u001b[38;5;241;43m1.0\u001b[39;49m\u001b[43m,\u001b[49m\u001b[43m \u001b[49m\u001b[38;5;28;43;01mFalse\u001b[39;49;00m\u001b[43m)\u001b[49m\n",
      "Cell \u001b[0;32mIn[46], line 5\u001b[0m, in \u001b[0;36mprocess_mesh\u001b[0;34m(filename, relaxation, overwrite, itaration)\u001b[0m\n\u001b[1;32m      4\u001b[0m \u001b[38;5;28;01mdef\u001b[39;00m \u001b[38;5;21mprocess_mesh\u001b[39m(filename, relaxation\u001b[38;5;241m=\u001b[39m\u001b[38;5;241m1.0\u001b[39m, overwrite\u001b[38;5;241m=\u001b[39m\u001b[38;5;28;01mFalse\u001b[39;00m, itaration\u001b[38;5;241m=\u001b[39m\u001b[38;5;241m10\u001b[39m):\n\u001b[0;32m----> 5\u001b[0m     full_mesh \u001b[38;5;241m=\u001b[39m \u001b[43mpv\u001b[49m\u001b[38;5;241;43m.\u001b[39;49m\u001b[43mread\u001b[49m\u001b[43m(\u001b[49m\u001b[43mfilename\u001b[49m\u001b[43m)\u001b[49m\n\u001b[1;32m      6\u001b[0m     surface_index \u001b[38;5;241m=\u001b[39m full_mesh\u001b[38;5;241m.\u001b[39msurface_indices()\n\u001b[1;32m      7\u001b[0m     all_positive_mesh  \u001b[38;5;241m=\u001b[39m full_mesh\u001b[38;5;241m.\u001b[39mcopy()\n",
      "File \u001b[0;32m~/Library/Python/3.9/lib/python/site-packages/pyvista/core/utilities/fileio.py:174\u001b[0m, in \u001b[0;36mread\u001b[0;34m(filename, force_ext, file_format, progress_bar)\u001b[0m\n\u001b[1;32m    172\u001b[0m filename \u001b[38;5;241m=\u001b[39m os\u001b[38;5;241m.\u001b[39mpath\u001b[38;5;241m.\u001b[39mabspath(os\u001b[38;5;241m.\u001b[39mpath\u001b[38;5;241m.\u001b[39mexpanduser(\u001b[38;5;28mstr\u001b[39m(filename)))\n\u001b[1;32m    173\u001b[0m \u001b[38;5;28;01mif\u001b[39;00m \u001b[38;5;129;01mnot\u001b[39;00m os\u001b[38;5;241m.\u001b[39mpath\u001b[38;5;241m.\u001b[39misfile(filename):\n\u001b[0;32m--> 174\u001b[0m     \u001b[38;5;28;01mraise\u001b[39;00m \u001b[38;5;167;01mFileNotFoundError\u001b[39;00m(\u001b[38;5;124mf\u001b[39m\u001b[38;5;124m'\u001b[39m\u001b[38;5;124mFile (\u001b[39m\u001b[38;5;132;01m{\u001b[39;00mfilename\u001b[38;5;132;01m}\u001b[39;00m\u001b[38;5;124m) not found\u001b[39m\u001b[38;5;124m'\u001b[39m)\n\u001b[1;32m    176\u001b[0m \u001b[38;5;66;03m# Read file using meshio.read if file_format is present\u001b[39;00m\n\u001b[1;32m    177\u001b[0m \u001b[38;5;28;01mif\u001b[39;00m file_format:\n",
      "\u001b[0;31mFileNotFoundError\u001b[0m: File (/Users/gyakusu/Morphing/data/random/Tetra_linspace53.vtu) not found"
     ]
    }
   ],
   "source": [
    "all_positive_mesh = process_mesh(f'../data/random/Tetra_linspace{53}.vtu', 1.0, False)\n"
   ]
  },
  {
   "cell_type": "code",
   "execution_count": null,
   "metadata": {},
   "outputs": [],
   "source": []
  },
  {
   "cell_type": "code",
   "execution_count": null,
   "metadata": {},
   "outputs": [],
   "source": []
  },
  {
   "cell_type": "code",
   "execution_count": null,
   "metadata": {},
   "outputs": [],
   "source": []
  },
  {
   "cell_type": "code",
   "execution_count": null,
   "metadata": {},
   "outputs": [],
   "source": []
  },
  {
   "cell_type": "code",
   "execution_count": null,
   "metadata": {},
   "outputs": [],
   "source": []
  },
  {
   "cell_type": "code",
   "execution_count": null,
   "metadata": {},
   "outputs": [],
   "source": []
  },
  {
   "cell_type": "code",
   "execution_count": null,
   "metadata": {},
   "outputs": [],
   "source": []
  },
  {
   "cell_type": "code",
   "execution_count": null,
   "metadata": {},
   "outputs": [],
   "source": []
  },
  {
   "cell_type": "markdown",
   "metadata": {},
   "source": [
    "## 以下のアルゴリズムはエッジを反転させる結果，STARでエラーになります．実行しないでください．"
   ]
  },
  {
   "cell_type": "code",
   "execution_count": 54,
   "metadata": {},
   "outputs": [],
   "source": [
    "# def flip_cells(mesh, cells_to_flip):\n",
    "#     # Get the cells from the mesh\n",
    "#     cells = np.array(mesh.cells.tolist()).reshape(-1, 5)\n",
    "\n",
    "#     # Flip the cells\n",
    "#     for cell in cells_to_flip:\n",
    "#         # Get the points of the tetrahedron\n",
    "#         points = cells[cell]\n",
    "\n",
    "#         # Reverse the order of the points\n",
    "#         cells[cell] = points[[0, 1, 3, 2, 4]]\n",
    "\n",
    "#     # Update the cells of the mesh\n",
    "#     mesh.cells = cells.reshape(-1, 1)\n",
    "\n",
    "#     return mesh\n",
    "\n",
    "# full_mesh = flip_cells(full_mesh, minus_volume_tetra)\n",
    "# minus_volume0 = calculate_volume(full_mesh) < 0\n",
    "# minus_volume0.sum()"
   ]
  },
  {
   "cell_type": "code",
   "execution_count": null,
   "metadata": {},
   "outputs": [],
   "source": []
  },
  {
   "cell_type": "code",
   "execution_count": 55,
   "metadata": {},
   "outputs": [],
   "source": [
    "# output_span = 10\n",
    "\n",
    "# for i in range(100):\n",
    "#     full_mesh = pv.read(f'../data/random/Tetra_linspace{i}.vtu')\n",
    "#     volumes = calculate_volume(full_mesh)\n",
    "#     minus_volume_tetra = np.where(np.array(volumes) < 0)[0]\n",
    "\n",
    "#     if i % output_span == 0:\n",
    "#         print(f\"itaration {i}, minus_volume_tetra: {minus_volume_tetra.shape}\")\n",
    "\n",
    "#     full_mesh = flip_cells(full_mesh, minus_volume_tetra)\n",
    "#     volumes = calculate_volume(full_mesh)\n",
    "\n",
    "#     # pv.save_meshio(f'../data/random/Tetra_linspace{i}.vtu', full_mesh, binary=False)\n",
    "#     pv.save_meshio(f'../data/random/Tetra_linspace{i}.vtu', full_mesh, binary=True)\n",
    "    "
   ]
  },
  {
   "cell_type": "code",
   "execution_count": null,
   "metadata": {},
   "outputs": [],
   "source": []
  }
 ],
 "metadata": {
  "kernelspec": {
   "display_name": "Python 3",
   "language": "python",
   "name": "python3"
  },
  "language_info": {
   "codemirror_mode": {
    "name": "ipython",
    "version": 3
   },
   "file_extension": ".py",
   "mimetype": "text/x-python",
   "name": "python",
   "nbconvert_exporter": "python",
   "pygments_lexer": "ipython3",
   "version": "3.9.6"
  }
 },
 "nbformat": 4,
 "nbformat_minor": 2
}
