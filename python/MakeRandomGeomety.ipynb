{
 "cells": [
  {
   "cell_type": "markdown",
   "metadata": {},
   "source": [
    "# 乱数を使って保持器を作る"
   ]
  },
  {
   "cell_type": "code",
   "execution_count": 18,
   "metadata": {},
   "outputs": [],
   "source": [
    "import numpy as np\n",
    "import pandas as pd"
   ]
  },
  {
   "cell_type": "code",
   "execution_count": 19,
   "metadata": {},
   "outputs": [
    {
     "data": {
      "text/plain": [
       "array([[ 0.58801745,  0.13338574,  0.32624599,  0.7469644 ,  0.62251933,\n",
       "        -0.32575929,  0.31669614, -0.0504524 , -0.03440628,  0.13686617],\n",
       "       [ 0.04801452,  0.48475784,  0.25367924,  0.04055834,  0.14795441,\n",
       "         0.11122478,  0.49802636, -0.06838609,  0.1043559 , -0.28469858]])"
      ]
     },
     "execution_count": 19,
     "metadata": {},
     "output_type": "execute_result"
    }
   ],
   "source": [
    "np.random.seed(0)\n",
    "params = np.random.randn(20, 10) / 3\n",
    "params[params<-1] = -1\n",
    "params[params>1] = 1\n",
    "params[:2]"
   ]
  },
  {
   "cell_type": "code",
   "execution_count": 20,
   "metadata": {},
   "outputs": [
    {
     "data": {
      "text/plain": [
       "(0.794381591621314, -0.8509966052780262)"
      ]
     },
     "execution_count": 20,
     "metadata": {},
     "output_type": "execute_result"
    }
   ],
   "source": [
    "params.max(), params.min()"
   ]
  },
  {
   "cell_type": "code",
   "execution_count": 21,
   "metadata": {},
   "outputs": [
    {
     "data": {
      "text/plain": [
       "(0.0026, 0.0026)"
      ]
     },
     "execution_count": 21,
     "metadata": {},
     "output_type": "execute_result"
    }
   ],
   "source": [
    "r0 = lambda dr: 2.35e-3 + dr\n",
    "r1 = lambda dr: 2.85e-3 + dr\n",
    "\n",
    "r0(0.25e-3), r1(-0.25e-3)"
   ]
  },
  {
   "cell_type": "code",
   "execution_count": 22,
   "metadata": {},
   "outputs": [
    {
     "data": {
      "text/plain": [
       "(0.2846060161200868, 0.7137738940849623, 2.179800678944395, 2.9786354702544657)"
      ]
     },
     "execution_count": 22,
     "metadata": {},
     "output_type": "execute_result"
    }
   ],
   "source": [
    "r0s = r0(params[:, 0] * 0.2e-3)\n",
    "r1s = r1(params[:, 1] * 0.2e-3)\n",
    "drs = r1s - r0s\n",
    "\n",
    "drs.min() * 1e3, drs.max() * 1e3, r0s.min() * 1e3, r1s.max() * 1e3\n"
   ]
  },
  {
   "cell_type": "code",
   "execution_count": 23,
   "metadata": {},
   "outputs": [
    {
     "data": {
      "text/plain": [
       "(1.00596004563622, 0.8162486539583326, 2.2493928799467637, 1.9517731231850382)"
      ]
     },
     "execution_count": 23,
     "metadata": {},
     "output_type": "execute_result"
    }
   ],
   "source": [
    "h0 = lambda dh: 0.93e-3 + dh\n",
    "h1 = lambda dh: 2.10e-3 + dh\n",
    "\n",
    "h0s = h0(params[:, 2] * 0.2e-3)\n",
    "h1s = h1(params[:, 3] * 0.2e-3)\n",
    "\n",
    "h0s.max() * 1e3, h0s.min() * 1e3, h1s.max() * 1e3, h1s.min() * 1e3"
   ]
  },
  {
   "cell_type": "code",
   "execution_count": 24,
   "metadata": {},
   "outputs": [
    {
     "data": {
      "text/plain": [
       "(0.27943815916213144, 0.15915214937232774)"
      ]
     },
     "execution_count": 24,
     "metadata": {},
     "output_type": "execute_result"
    }
   ],
   "source": [
    "bevel = lambda r: 0.1 * drs * r\n",
    "\n",
    "bevels = bevel(params[:, 4]+2)\n",
    "\n",
    "(bevels / drs).max(), (bevels / drs).min()"
   ]
  },
  {
   "cell_type": "code",
   "execution_count": 25,
   "metadata": {},
   "outputs": [
    {
     "data": {
      "text/plain": [
       "(0.8244659807814644, 0.8256478737285498)"
      ]
     },
     "execution_count": 25,
     "metadata": {},
     "output_type": "execute_result"
    }
   ],
   "source": [
    "pocket_r = lambda dr: 0.825e-3 + dr\n",
    "\n",
    "pocket_rs = pocket_r(params[:, 5] * 1e-6)\n",
    "pocket_rs.min() * 1e3, pocket_rs.max() * 1e3"
   ]
  },
  {
   "cell_type": "code",
   "execution_count": 26,
   "metadata": {},
   "outputs": [
    {
     "data": {
      "text/plain": [
       "(1.6891320110202264, 1.7099605271543838)"
      ]
     },
     "execution_count": 26,
     "metadata": {},
     "output_type": "execute_result"
    }
   ],
   "source": [
    "neck_x = lambda dx: 1.70e-3 + dx\n",
    "\n",
    "neck_xs = neck_x(params[:, 6] * 20e-6)\n",
    "neck_xs.min() * 1e3, neck_xs.max() * 1e3"
   ]
  },
  {
   "cell_type": "code",
   "execution_count": 27,
   "metadata": {},
   "outputs": [
    {
     "data": {
      "text/plain": [
       "(1.1897015260214825, 1.2123284248565287)"
      ]
     },
     "execution_count": 27,
     "metadata": {},
     "output_type": "execute_result"
    }
   ],
   "source": [
    "neck_r = lambda dr: 1.20e-3 + dr\n",
    "\n",
    "neck_rs = neck_r(params[:, 7] * 20e-6)\n",
    "neck_rs.min() * 1e3, neck_rs.max() * 1e3\n"
   ]
  },
  {
   "cell_type": "code",
   "execution_count": 28,
   "metadata": {},
   "outputs": [
    {
     "data": {
      "text/plain": [
       "(2.3962034050814016, 2.522107864976023)"
      ]
     },
     "execution_count": 28,
     "metadata": {},
     "output_type": "execute_result"
    }
   ],
   "source": [
    "neck_h = lambda dh: 2.45e-3 + dh\n",
    "\n",
    "neck_hs = neck_h(params[:, 8] * 100e-6)\n",
    "neck_hs.min() * 1e3, neck_hs.max() * 1e3\n"
   ]
  },
  {
   "cell_type": "code",
   "execution_count": 29,
   "metadata": {},
   "outputs": [
    {
     "data": {
      "text/plain": [
       "(0.03205210368709177, 0.12227076184407988)"
      ]
     },
     "execution_count": 29,
     "metadata": {},
     "output_type": "execute_result"
    }
   ],
   "source": [
    "neck_dh = lambda r: (neck_hs - h1s) * r * 0.1\n",
    "\n",
    "neck_dhs = neck_dh(params[:, 9]+2)\n",
    "neck_dhs.min() * 1e3, neck_dhs.max() * 1e3\n"
   ]
  },
  {
   "cell_type": "code",
   "execution_count": 30,
   "metadata": {},
   "outputs": [],
   "source": [
    "df = pd.DataFrame({\n",
    "    'r0': r0s,\n",
    "    'r1': r1s,\n",
    "    'h0': h0s,\n",
    "    'h1': h1s,\n",
    "    'bevel': bevels,\n",
    "    'pocket_r': pocket_rs,\n",
    "    'neck_x': neck_xs,\n",
    "    'neck_r': neck_rs,\n",
    "    'neck_h': neck_hs,\n",
    "    'neck_dh': neck_dhs\n",
    "})\n",
    "\n",
    "df.to_csv('../data/random/random_params.csv', index=False)\n"
   ]
  },
  {
   "cell_type": "code",
   "execution_count": 38,
   "metadata": {},
   "outputs": [
    {
     "data": {
      "text/plain": [
       "'\"data/Tetra.vtu,data/face_and_edge_index.xml,data/Tetra_linspace0.vtu\" '"
      ]
     },
     "execution_count": 38,
     "metadata": {},
     "output_type": "execute_result"
    }
   ],
   "source": [
    "# cargo run --release \"data/Tetra.vtu,data/face_and_edge_index.xml,data/Tetra_linspace.vtu\" \"2.345e-3,2.850e-3,0.93e-3,2.10e-3,0.10e-3,0.825e-3,1.70e-3,1.20e-3,2.45e-3,0.152e-3\" \"100\"\n",
    "\n",
    "command_args0 = lambda i: f\"\\\"data/Tetra.vtu,data/face_and_edge_index.xml,data/Tetra_linspace{i}.vtu\\\" \"\n",
    "command_args0(0)\n"
   ]
  },
  {
   "cell_type": "code",
   "execution_count": 41,
   "metadata": {},
   "outputs": [
    {
     "data": {
      "text/plain": [
       "'\"0.0024755433798037503,0.002760149395923837,0.0008453010001009512,0.002164626447210534,4.579193726579163e-05,0.0008256478737285498,0.0016972425401282683,0.0011950169679237283,0.002514098067549346,8.71409208377013e-05\" \"1000\"'"
      ]
     },
     "execution_count": 41,
     "metadata": {},
     "output_type": "execute_result"
    }
   ],
   "source": [
    "command_args1 = lambda i: f'\\\"{r0s[i]},{r1s[i]},{h0s[i]},{h1s[i]},{bevels[i]},{pocket_rs[i]},{neck_xs[i]},{neck_rs[i]},{neck_hs[i]},{neck_dhs[i]}\\\" \\\"1000\\\"'\n",
    "command_args1(10)\n",
    "\n",
    "# '../data/Tetra_linspace10.vtu 0.0024755433798037503 0.002760149395923837 0.0008453010001009512 0.002164626447210534 4.579193726579163e-05 0.0008256478737285498 0.0016972425401282683 0.0011950169679237283 0.002514098067549346 0.0001742818416754026 1000'"
   ]
  },
  {
   "cell_type": "code",
   "execution_count": 42,
   "metadata": {},
   "outputs": [
    {
     "name": "stderr",
     "output_type": "stream",
     "text": [
      "\u001b[1m\u001b[32m   Compiling\u001b[0m mophing v0.1.0 (/Users/gyakusu/Morphing)\n",
      "\u001b[1m\u001b[32m    Finished\u001b[0m release [optimized] target(s) in 1.19s\n",
      "\u001b[1m\u001b[32m     Running\u001b[0m `target/release/mophing data/Tetra.vtu,data/face_and_edge_index.xml,data/Tetra_linspace10.vtu 0.0024755433798037503,0.002760149395923837,0.0008453010001009512,0.002164626447210534,4.579193726579163e-05,0.0008256478737285498,0.0016972425401282683,0.0011950169679237283,0.002514098067549346,8.71409208377013e-05 1000`\n"
     ]
    },
    {
     "name": "stdout",
     "output_type": "stream",
     "text": [
      "[[\"data/Tetra.vtu\", \"data/face_and_edge_index.xml\", \"data/Tetra_linspace10.vtu\"], [\"0.0024755433798037503\", \"0.002760149395923837\", \"0.0008453010001009512\", \"0.002164626447210534\", \"4.579193726579163e-05\", \"0.0008256478737285498\", \"0.0016972425401282683\", \"0.0011950169679237283\", \"0.002514098067549346\", \"8.71409208377013e-05\"], [\"1000\"]]\n",
      "The new file has been created: data/Tetra_linspace10.vtu\n"
     ]
    },
    {
     "data": {
      "text/plain": [
       "CompletedProcess(args='cd ../; cargo run --release \"data/Tetra.vtu,data/face_and_edge_index.xml,data/Tetra_linspace10.vtu\" \"0.0024755433798037503,0.002760149395923837,0.0008453010001009512,0.002164626447210534,4.579193726579163e-05,0.0008256478737285498,0.0016972425401282683,0.0011950169679237283,0.002514098067549346,8.71409208377013e-05\" \"1000\"', returncode=0)"
      ]
     },
     "execution_count": 42,
     "metadata": {},
     "output_type": "execute_result"
    }
   ],
   "source": [
    "import subprocess\n",
    "\n",
    "command = \"cd ../; cargo run --release \"\n",
    "subprocess.run(command + command_args0(10) + command_args1(10), shell=True)\n"
   ]
  },
  {
   "cell_type": "code",
   "execution_count": 43,
   "metadata": {},
   "outputs": [
    {
     "name": "stderr",
     "output_type": "stream",
     "text": [
      "\u001b[1m\u001b[32m    Finished\u001b[0m release [optimized] target(s) in 0.13s\n",
      "\u001b[1m\u001b[32m     Running\u001b[0m `target/release/mophing data/Tetra.vtu,data/face_and_edge_index.xml,data/Tetra_linspace0.vtu 0.0024676034897311776,0.0028766771472244815,0.0009952491989403827,0.0022493928799467637,0.00010728035741904383,0.0008246742407067079,0.0017063339227835039,0.001198990951944682,0.002446559371606881,4.213184053562646e-05 1000`\n"
     ]
    },
    {
     "name": "stdout",
     "output_type": "stream",
     "text": [
      "[[\"data/Tetra.vtu\", \"data/face_and_edge_index.xml\", \"data/Tetra_linspace0.vtu\"], [\"0.0024676034897311776\", \"0.0028766771472244815\", \"0.0009952491989403827\", \"0.0022493928799467637\", \"0.00010728035741904383\", \"0.0008246742407067079\", \"0.0017063339227835039\", \"0.001198990951944682\", \"0.002446559371606881\", \"4.213184053562646e-05\"], [\"1000\"]]\n",
      "The new file has been created: data/Tetra_linspace0.vtu\n",
      "Done 0\n",
      "[[\"data/Tetra.vtu\", \"data/face_and_edge_index.xml\", \"data/Tetra_linspace1.vtu\"], [\"0.0023596029047440585\", \"0.002946951567130865\", \"0.0009807358483431329\", \"0.0021081116677661885\", \"0.00012615981501188495\", \"0.0008251112247757914\", \"0.001709960527154384\", \"0.0011986322782415611\", \"0.00246043559005503\", \"6.043417242840259e-05\"], [\"1000\"]]\n"
     ]
    },
    {
     "name": "stderr",
     "output_type": "stream",
     "text": [
      "\u001b[1m\u001b[32m    Finished\u001b[0m release [optimized] target(s) in 0.04s\n",
      "\u001b[1m\u001b[32m     Running\u001b[0m `target/release/mophing data/Tetra.vtu,data/face_and_edge_index.xml,data/Tetra_linspace1.vtu 0.0023596029047440585,0.002946951567130865,0.0009807358483431329,0.0021081116677661885,0.00012615981501188495,0.0008251112247757914,0.001709960527154384,0.0011986322782415611,0.00246043559005503,6.043417242840259e-05 1000`\n"
     ]
    },
    {
     "name": "stdout",
     "output_type": "stream",
     "text": [
      "The new file has been created: data/Tetra_linspace1.vtu\n",
      "Done 1\n",
      "[[\"data/Tetra.vtu\", \"data/face_and_edge_index.xml\", \"data/Tetra_linspace2.vtu\"], [\"0.002179800678944395\", \"0.0028935745730293574\", \"0.000987629079923967\", \"0.0020505223319729035\", \"0.0001967578320363586\", \"0.0008245152114418004\", \"0.0017003050567820095\", \"0.0011987521076664944\", \"0.0025010926404786154\", \"0.00011218237617646054\"], [\"1000\"]]\n"
     ]
    },
    {
     "name": "stderr",
     "output_type": "stream",
     "text": [
      "\u001b[1m\u001b[32m    Finished\u001b[0m release [optimized] target(s) in 0.03s\n",
      "\u001b[1m\u001b[32m     Running\u001b[0m `target/release/mophing data/Tetra.vtu,data/face_and_edge_index.xml,data/Tetra_linspace2.vtu 0.002179800678944395,0.0028935745730293574,0.000987629079923967,0.0020505223319729035,0.0001967578320363586,0.0008245152114418004,0.0017003050567820095,0.0011987521076664944,0.0025010926404786154,0.00011218237617646054 1000`\n"
     ]
    },
    {
     "name": "stdout",
     "output_type": "stream",
     "text": [
      "The new file has been created: data/Tetra_linspace2.vtu\n",
      "Done 2\n",
      "[[\"data/Tetra.vtu\", \"data/face_and_edge_index.xml\", \"data/Tetra_linspace3.vtu\"], [\"0.0023603298283797944\", \"0.002875210834640145\", \"0.0008708142834913258\", \"0.0019679469021184046\", \"9.700508933422846e-05\", \"0.0008250521163230347\", \"0.001708201937871518\", \"0.0012080158656585626\", \"0.0024370891060864013\", \"8.910100817124932e-05\"], [\"1000\"]]\n"
     ]
    },
    {
     "name": "stderr",
     "output_type": "stream",
     "text": [
      "\u001b[1m\u001b[32m    Finished\u001b[0m release [optimized] target(s) in 0.03s\n",
      "\u001b[1m\u001b[32m     Running\u001b[0m `target/release/mophing data/Tetra.vtu,data/face_and_edge_index.xml,data/Tetra_linspace3.vtu 0.0023603298283797944,0.002875210834640145,0.0008708142834913258,0.0019679469021184046,9.700508933422846e-05,0.0008250521163230347,0.001708201937871518,0.0012080158656585626,0.0024370891060864013,8.910100817124932e-05 1000`\n"
     ]
    },
    {
     "name": "stdout",
     "output_type": "stream",
     "text": [
      "The new file has been created: data/Tetra_linspace3.vtu\n",
      "Done 3\n",
      "[[\"data/Tetra.vtu\", \"data/face_and_edge_index.xml\", \"data/Tetra_linspace4.vtu\"], [\"0.0022800964689955274\", \"0.002755332137521402\", \"0.0008162486539583326\", \"0.0022300516930154526\", \"8.697363719482765e-05\", \"0.0008248539752327963\", \"0.0016916480309330003\", \"0.0012051832690388794\", \"0.0023962034050814015\", \"3.2052103687091774e-05\"], [\"1000\"]]\n"
     ]
    },
    {
     "name": "stderr",
     "output_type": "stream",
     "text": [
      "\u001b[1m\u001b[32m    Finished\u001b[0m release [optimized] target(s) in 0.03s\n",
      "\u001b[1m\u001b[32m     Running\u001b[0m `target/release/mophing data/Tetra.vtu,data/face_and_edge_index.xml,data/Tetra_linspace4.vtu 0.0022800964689955274,0.002755332137521402,0.0008162486539583326,0.0022300516930154526,8.697363719482765e-05,0.0008248539752327963,0.0016916480309330003,0.0012051832690388794,0.0023962034050814015,3.2052103687091774e-05 1000`\n"
     ]
    },
    {
     "name": "stdout",
     "output_type": "stream",
     "text": [
      "The new file has been created: data/Tetra_linspace4.vtu\n",
      "Done 4\n",
      "[[\"data/Tetra.vtu\", \"data/face_and_edge_index.xml\", \"data/Tetra_linspace5.vtu\"], [\"0.002290302229253755\", \"0.0028757934998572842\", \"0.0008959463241620752\", \"0.0020212911877251724\", \"0.00011654823916475793\", \"0.0008251427772901768\", \"0.0017004434481492211\", \"0.0012020164793182652\", \"0.0024288559302106344\", \"7.658493150027826e-05\"], [\"1000\"]]\n"
     ]
    },
    {
     "name": "stderr",
     "output_type": "stream",
     "text": [
      "\u001b[1m\u001b[32m    Finished\u001b[0m release [optimized] target(s) in 0.03s\n",
      "\u001b[1m\u001b[32m     Running\u001b[0m `target/release/mophing data/Tetra.vtu,data/face_and_edge_index.xml,data/Tetra_linspace5.vtu 0.002290302229253755,0.0028757934998572842,0.0008959463241620752,0.0020212911877251724,0.00011654823916475793,0.0008251427772901768,0.0017004434481492211,0.0012020164793182652,0.0024288559302106344,7.658493150027826e-05 1000`\n"
     ]
    },
    {
     "name": "stdout",
     "output_type": "stream",
     "text": [
      "The new file has been created: data/Tetra_linspace5.vtu\n",
      "Done 5\n",
      "[[\"data/Tetra.vtu\", \"data/face_and_edge_index.xml\", \"data/Tetra_linspace6.vtu\"], [\"0.0023051693034816033\", \"0.002826029789230631\", \"0.0008757902478637031\", \"0.0019849144931778882\", \"0.00010725257270443437\", \"0.0008248660730212639\", \"0.0016891320110202263\", \"0.0012030852150368384\", \"0.0024197567211872253\", \"8.772138065662808e-05\"], [\"1000\"]]\n"
     ]
    },
    {
     "name": "stderr",
     "output_type": "stream",
     "text": [
      "\u001b[1m\u001b[32m    Finished\u001b[0m release [optimized] target(s) in 0.03s\n",
      "\u001b[1m\u001b[32m     Running\u001b[0m `target/release/mophing data/Tetra.vtu,data/face_and_edge_index.xml,data/Tetra_linspace6.vtu 0.0023051693034816033,0.002826029789230631,0.0008757902478637031,0.0019849144931778882,0.00010725257270443437,0.0008248660730212639,0.0016891320110202263,0.0012030852150368384,0.0024197567211872253,8.772138065662808e-05 1000`\n"
     ]
    },
    {
     "name": "stdout",
     "output_type": "stream",
     "text": [
      "The new file has been created: data/Tetra_linspace6.vtu\n",
      "Done 6\n",
      "[[\"data/Tetra.vtu\", \"data/face_and_edge_index.xml\", \"data/Tetra_linspace7.vtu\"], [\"0.0023986060374785027\", \"0.0028585988607171607\", \"0.00100596004563622\", \"0.0020176782786430897\", \"9.816770689545614e-05\", \"0.0008247717299696866\", \"0.0016941946856721206\", \"0.0011961410022349038\", \"0.0024396149155957543\", \"8.517726791099007e-05\"], [\"1000\"]]\n"
     ]
    },
    {
     "name": "stderr",
     "output_type": "stream",
     "text": [
      "\u001b[1m\u001b[32m    Finished\u001b[0m release [optimized] target(s) in 0.03s\n",
      "\u001b[1m\u001b[32m     Running\u001b[0m `target/release/mophing data/Tetra.vtu,data/face_and_edge_index.xml,data/Tetra_linspace7.vtu 0.0023986060374785027,0.0028585988607171607,0.00100596004563622,0.0020176782786430897,9.816770689545614e-05,0.0008247717299696866,0.0016941946856721206,0.0011961410022349038,0.0024396149155957543,8.517726791099007e-05 1000`\n"
     ]
    },
    {
     "name": "stdout",
     "output_type": "stream",
     "text": [
      "The new file has been created: data/Tetra_linspace7.vtu\n",
      "Done 7\n",
      "[[\"data/Tetra.vtu\", \"data/face_and_edge_index.xml\", \"data/Tetra_linspace8.vtu\"], [\"0.002272323343947776\", \"0.0029100550991302794\", \"0.0009610441626486973\", \"0.001997583754248185\", \"0.00015918320715994994\", \"0.0008256319630586768\", \"0.0017078585304743975\", \"0.0011988005010945843\", \"0.0024143082459496487\", \"9.799209367126303e-05\"], [\"1000\"]]\n"
     ]
    },
    {
     "name": "stderr",
     "output_type": "stream",
     "text": [
      "\u001b[1m\u001b[32m    Finished\u001b[0m release [optimized] target(s) in 0.03s\n",
      "\u001b[1m\u001b[32m     Running\u001b[0m `target/release/mophing data/Tetra.vtu,data/face_and_edge_index.xml,data/Tetra_linspace8.vtu 0.002272323343947776,0.0029100550991302794,0.0009610441626486973,0.001997583754248185,0.00015918320715994994,0.0008256319630586768,0.0017078585304743975,0.0011988005010945843,0.0024143082459496487,9.799209367126303e-05 1000`\n"
     ]
    },
    {
     "name": "stdout",
     "output_type": "stream",
     "text": [
      "The new file has been created: data/Tetra_linspace8.vtu\n",
      "Done 8\n"
     ]
    },
    {
     "name": "stderr",
     "output_type": "stream",
     "text": [
      "\u001b[1m\u001b[32m    Finished\u001b[0m release [optimized] target(s) in 0.04s\n",
      "\u001b[1m\u001b[32m     Running\u001b[0m `target/release/mophing data/Tetra.vtu,data/face_and_edge_index.xml,data/Tetra_linspace9.vtu 0.0023231215368684547,0.002931496338025495,0.0009438849985384574,0.002165109269098914,0.0001289017714320757,0.0008252355243893974,0.0017000700001381388,0.0012119058032927055,0.0024542304030901207,6.169834748529255e-05 1000`\n"
     ]
    },
    {
     "name": "stdout",
     "output_type": "stream",
     "text": [
      "[[\"data/Tetra.vtu\", \"data/face_and_edge_index.xml\", \"data/Tetra_linspace9.vtu\"], [\"0.0023231215368684547\", \"0.002931496338025495\", \"0.0009438849985384574\", \"0.002165109269098914\", \"0.0001289017714320757\", \"0.0008252355243893974\", \"0.0017000700001381388\", \"0.0012119058032927055\", \"0.0024542304030901207\", \"6.169834748529255e-05\"], [\"1000\"]]\n",
      "The new file has been created: data/Tetra_linspace9.vtu\n",
      "Done 9\n",
      "[[\"data/Tetra.vtu\", \"data/face_and_edge_index.xml\", \"data/Tetra_linspace10.vtu\"], [\"0.0024755433798037503\", \"0.002760149395923837\", \"0.0008453010001009512\", \"0.002164626447210534\", \"4.579193726579163e-05\", \"0.0008256478737285498\", \"0.0016972425401282683\", \"0.0011950169679237283\", \"0.002514098067549346\", \"8.71409208377013e-05\"], [\"1000\"]]\n"
     ]
    },
    {
     "name": "stderr",
     "output_type": "stream",
     "text": [
      "\u001b[1m\u001b[32m    Finished\u001b[0m release [optimized] target(s) in 0.03s\n",
      "\u001b[1m\u001b[32m     Running\u001b[0m `target/release/mophing data/Tetra.vtu,data/face_and_edge_index.xml,data/Tetra_linspace10.vtu 0.0024755433798037503,0.002760149395923837,0.0008453010001009512,0.002164626447210534,4.579193726579163e-05,0.0008256478737285498,0.0016972425401282683,0.0011950169679237283,0.002514098067549346,8.71409208377013e-05 1000`\n"
     ]
    },
    {
     "name": "stdout",
     "output_type": "stream",
     "text": [
      "The new file has been created: data/Tetra_linspace10.vtu\n",
      "Done 10\n",
      "[[\"data/Tetra.vtu\", \"data/face_and_edge_index.xml\", \"data/Tetra_linspace11.vtu\"], [\"0.0024745039306951046\", \"0.002910402977218359\", \"0.0008725849543296866\", \"0.0022273376635399355\", \"8.328572884256006e-05\", \"0.0008252674854652655\", \"0.0017063150131184915\", \"0.0011989665993793943\", \"0.0024704693123448695\", \"5.6100250714216133e-05\"], [\"1000\"]]\n"
     ]
    },
    {
     "name": "stderr",
     "output_type": "stream",
     "text": [
      "\u001b[1m\u001b[32m    Finished\u001b[0m release [optimized] target(s) in 0.03s\n",
      "\u001b[1m\u001b[32m     Running\u001b[0m `target/release/mophing data/Tetra.vtu,data/face_and_edge_index.xml,data/Tetra_linspace11.vtu 0.0024745039306951046,0.002910402977218359,0.0008725849543296866,0.0022273376635399355,8.328572884256006e-05,0.0008252674854652655,0.0017063150131184915,0.0011989665993793943,0.0024704693123448695,5.6100250714216133e-05 1000`\n"
     ]
    },
    {
     "name": "stdout",
     "output_type": "stream",
     "text": [
      "The new file has been created: data/Tetra_linspace11.vtu\n",
      "Done 11\n",
      "[[\"data/Tetra.vtu\", \"data/face_and_edge_index.xml\", \"data/Tetra_linspace12.vtu\"], [\"0.0023750950354103754\", \"0.0027767066139610538\", \"0.0009498825449470704\", \"0.002188425726445802\", \"7.102409922489302e-05\", \"0.0008249501218198907\", \"0.0016970989763218556\", \"0.0012123284248565288\", \"0.0024724098252337477\", \"6.0653909169436286e-05\"], [\"1000\"]]\n"
     ]
    },
    {
     "name": "stderr",
     "output_type": "stream",
     "text": [
      "\u001b[1m\u001b[32m    Finished\u001b[0m release [optimized] target(s) in 0.03s\n",
      "\u001b[1m\u001b[32m     Running\u001b[0m `target/release/mophing data/Tetra.vtu,data/face_and_edge_index.xml,data/Tetra_linspace12.vtu 0.0023750950354103754,0.0027767066139610538,0.0009498825449470704,0.002188425726445802,7.102409922489302e-05,0.0008249501218198907,0.0016970989763218556,0.0012123284248565288,0.0024724098252337477,6.0653909169436286e-05 1000`\n"
     ]
    },
    {
     "name": "stdout",
     "output_type": "stream",
     "text": [
      "The new file has been created: data/Tetra_linspace12.vtu\n",
      "Done 12\n",
      "[[\"data/Tetra.vtu\", \"data/face_and_edge_index.xml\", \"data/Tetra_linspace13.vtu\"], [\"0.0022986722617036456\", \"0.0028859499460861214\", \"0.0008850444892895083\", \"0.0021021220372182898\", \"0.00010500826312536092\", \"0.0008252254777649822\", \"0.0017038439387774328\", \"0.00119861134162948\", \"0.002463200223755388\", \"5.9059615062555796e-05\"], [\"1000\"]]\n"
     ]
    },
    {
     "name": "stderr",
     "output_type": "stream",
     "text": [
      "\u001b[1m\u001b[32m    Finished\u001b[0m release [optimized] target(s) in 0.03s\n",
      "\u001b[1m\u001b[32m     Running\u001b[0m `target/release/mophing data/Tetra.vtu,data/face_and_edge_index.xml,data/Tetra_linspace13.vtu 0.0022986722617036456,0.0028859499460861214,0.0008850444892895083,0.0021021220372182898,0.00010500826312536092,0.0008252254777649822,0.0017038439387774328,0.00119861134162948,0.002463200223755388,5.9059615062555796e-05 1000`\n"
     ]
    },
    {
     "name": "stdout",
     "output_type": "stream",
     "text": [
      "The new file has been created: data/Tetra_linspace13.vtu\n",
      "Done 13\n",
      "[[\"data/Tetra.vtu\", \"data/face_and_edge_index.xml\", \"data/Tetra_linspace14.vtu\"], [\"0.0022505828271529595\", \"0.0028792927800843026\", \"0.0009411115663581687\", \"0.0021423354291261404\", \"0.0001756855518940448\", \"0.0008253148264956634\", \"0.0016939145184970388\", \"0.0012074467752539722\", \"0.002406136419649616\", \"4.87013155726782e-05\"], [\"1000\"]]\n"
     ]
    },
    {
     "name": "stderr",
     "output_type": "stream",
     "text": [
      "\u001b[1m\u001b[32m    Finished\u001b[0m release [optimized] target(s) in 0.03s\n",
      "\u001b[1m\u001b[32m     Running\u001b[0m `target/release/mophing data/Tetra.vtu,data/face_and_edge_index.xml,data/Tetra_linspace14.vtu 0.0022505828271529595,0.0028792927800843026,0.0009411115663581687,0.0021423354291261404,0.0001756855518940448,0.0008253148264956634,0.0016939145184970388,0.0012074467752539722,0.002406136419649616,4.87013155726782e-05 1000`\n"
     ]
    },
    {
     "name": "stdout",
     "output_type": "stream",
     "text": [
      "The new file has been created: data/Tetra_linspace14.vtu\n",
      "Done 14\n",
      "[[\"data/Tetra.vtu\", \"data/face_and_edge_index.xml\", \"data/Tetra_linspace15.vtu\"], [\"0.0023454505596450246\", \"0.002964222848109958\", \"0.0008803496785301041\", \"0.0020449040974227324\", \"0.0001217238012315242\", \"0.0008247788405712126\", \"0.0017075109061473767\", \"0.0011928004566109105\", \"0.00241175104491963\", \"6.801562460046447e-05\"], [\"1000\"]]\n"
     ]
    },
    {
     "name": "stderr",
     "output_type": "stream",
     "text": [
      "\u001b[1m\u001b[32m    Finished\u001b[0m release [optimized] target(s) in 0.03s\n",
      "\u001b[1m\u001b[32m     Running\u001b[0m `target/release/mophing data/Tetra.vtu,data/face_and_edge_index.xml,data/Tetra_linspace15.vtu 0.0023454505596450246,0.002964222848109958,0.0008803496785301041,0.0020449040974227324,0.0001217238012315242,0.0008247788405712126,0.0017075109061473767,0.0011928004566109105,0.00241175104491963,6.801562460046447e-05 1000`\n"
     ]
    },
    {
     "name": "stdout",
     "output_type": "stream",
     "text": [
      "The new file has been created: data/Tetra_linspace15.vtu\n",
      "Done 15\n",
      "[[\"data/Tetra.vtu\", \"data/face_and_edge_index.xml\", \"data/Tetra_linspace16.vtu\"], [\"0.002316797836620513\", \"0.002978635470254466\", \"0.0009932947204617174\", \"0.0021058367494256793\", \"0.00010533288192833878\", \"0.0008252814543254672\", \"0.0016933318976840694\", \"0.0011897015260214825\", \"0.00248960099307841\", \"8.080722345543485e-05\"], [\"1000\"]]\n"
     ]
    },
    {
     "name": "stderr",
     "output_type": "stream",
     "text": [
      "\u001b[1m\u001b[32m    Finished\u001b[0m release [optimized] target(s) in 0.03s\n",
      "\u001b[1m\u001b[32m     Running\u001b[0m `target/release/mophing data/Tetra.vtu,data/face_and_edge_index.xml,data/Tetra_linspace16.vtu 0.002316797836620513,0.002978635470254466,0.0009932947204617174,0.0021058367494256793,0.00010533288192833878,0.0008252814543254672,0.0016933318976840694,0.0011897015260214825,0.00248960099307841,8.080722345543485e-05 1000`\n"
     ]
    },
    {
     "name": "stdout",
     "output_type": "stream",
     "text": [
      "The new file has been created: data/Tetra_linspace16.vtu\n",
      "Done 16\n"
     ]
    },
    {
     "name": "stderr",
     "output_type": "stream",
     "text": [
      "\u001b[1m\u001b[32m    Finished\u001b[0m release [optimized] target(s) in 0.04s\n",
      "\u001b[1m\u001b[32m     Running\u001b[0m `target/release/mophing data/Tetra.vtu,data/face_and_edge_index.xml,data/Tetra_linspace17.vtu 0.0024113905882520545,0.0028712485101962015,0.0009871220407935129,0.00205659829377999,7.611809225520898e-05,0.0008252271981727605,0.0016946439355721742,0.0011954030014816653,0.0024348155832160886,7.58638218921557e-05 1000`\n"
     ]
    },
    {
     "name": "stdout",
     "output_type": "stream",
     "text": [
      "[[\"data/Tetra.vtu\", \"data/face_and_edge_index.xml\", \"data/Tetra_linspace17.vtu\"], [\"0.0024113905882520545\", \"0.0028712485101962015\", \"0.0009871220407935129\", \"0.00205659829377999\", \"7.611809225520898e-05\", \"0.0008252271981727605\", \"0.0016946439355721742\", \"0.0011954030014816653\", \"0.0024348155832160886\", \"7.58638218921557e-05\"], [\"1000\"]]\n",
      "The new file has been created: data/Tetra_linspace17.vtu\n",
      "Done 17\n",
      "[[\"data/Tetra.vtu\", \"data/face_and_edge_index.xml\", \"data/Tetra_linspace18.vtu\"], [\"0.0023264004059164343\", \"0.0027583365804387987\", \"0.0008870921064778074\", \"0.001951773123185038\", \"9.538923760939789e-05\", \"0.0008244659807814644\", \"0.0016926374444038103\", \"0.0012003477671950731\", \"0.0024253479001202895\", \"0.00011907271514796971\"], [\"1000\"]]\n"
     ]
    },
    {
     "name": "stderr",
     "output_type": "stream",
     "text": [
      "\u001b[1m\u001b[32m    Finished\u001b[0m release [optimized] target(s) in 0.04s\n",
      "\u001b[1m\u001b[32m     Running\u001b[0m `target/release/mophing data/Tetra.vtu,data/face_and_edge_index.xml,data/Tetra_linspace18.vtu 0.0023264004059164343,0.0027583365804387987,0.0008870921064778074,0.001951773123185038,9.538923760939789e-05,0.0008244659807814644,0.0016926374444038103,0.0012003477671950731,0.0024253479001202895,0.00011907271514796971 1000`\n"
     ]
    },
    {
     "name": "stdout",
     "output_type": "stream",
     "text": [
      "The new file has been created: data/Tetra_linspace18.vtu\n",
      "Done 18\n",
      "[[\"data/Tetra.vtu\", \"data/face_and_edge_index.xml\", \"data/Tetra_linspace19.vtu\"], [\"0.00226380953935177\", \"0.0028678033912899457\", \"0.0009273811454515004\", \"0.002022127100150587\", \"0.00013133396658176577\", \"0.0008249428178895926\", \"0.0017051452703414243\", \"0.0012054900276930913\", \"0.002522107864976023\", \"0.00012227076184407988\"], [\"1000\"]]\n"
     ]
    },
    {
     "name": "stderr",
     "output_type": "stream",
     "text": [
      "\u001b[1m\u001b[32m    Finished\u001b[0m release [optimized] target(s) in 0.03s\n",
      "\u001b[1m\u001b[32m     Running\u001b[0m `target/release/mophing data/Tetra.vtu,data/face_and_edge_index.xml,data/Tetra_linspace19.vtu 0.00226380953935177,0.0028678033912899457,0.0009273811454515004,0.002022127100150587,0.00013133396658176577,0.0008249428178895926,0.0017051452703414243,0.0012054900276930913,0.002522107864976023,0.00012227076184407988 1000`\n"
     ]
    },
    {
     "name": "stdout",
     "output_type": "stream",
     "text": [
      "The new file has been created: data/Tetra_linspace19.vtu\n",
      "Done 19\n"
     ]
    }
   ],
   "source": [
    "for i in range(len(params)):\n",
    "    subprocess.run(command + command_args0(i) + command_args1(i), shell=True)\n",
    "    print(f\"Done {i}\")\n"
   ]
  },
  {
   "cell_type": "code",
   "execution_count": null,
   "metadata": {},
   "outputs": [],
   "source": []
  }
 ],
 "metadata": {
  "kernelspec": {
   "display_name": "Python 3",
   "language": "python",
   "name": "python3"
  },
  "language_info": {
   "codemirror_mode": {
    "name": "ipython",
    "version": 3
   },
   "file_extension": ".py",
   "mimetype": "text/x-python",
   "name": "python",
   "nbconvert_exporter": "python",
   "pygments_lexer": "ipython3",
   "version": "3.9.6"
  }
 },
 "nbformat": 4,
 "nbformat_minor": 2
}
