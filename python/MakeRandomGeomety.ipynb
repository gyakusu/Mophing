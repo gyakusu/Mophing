{
 "cells": [
  {
   "cell_type": "markdown",
   "metadata": {},
   "source": [
    "# 乱数を使って保持器を作る"
   ]
  },
  {
   "cell_type": "code",
   "execution_count": 1,
   "metadata": {},
   "outputs": [
    {
     "name": "stdout",
     "output_type": "stream",
     "text": [
      "🍹 Building a mixed python/rust project\n",
      "⚠️  Warning: You're building a library without activating pyo3's `extension-module` feature. See https://pyo3.rs/v0.21.2/building_and_distribution.html#linking\n",
      "🔗 Found pyo3 bindings\n",
      "🐍 Found CPython 3.12 at /Users/gyakusu/Morphing/.env/bin/python\n",
      "\u001b[1m\u001b[32m   Compiling\u001b[0m pyo3-build-config v0.21.2\n",
      "\u001b[K\u001b[1m\u001b[32m   Compiling\u001b[0m pyo3-macros-backend v0.21.23/353: pyo3-build-config              \n",
      "\u001b[K\u001b[1m\u001b[32m   Compiling\u001b[0m pyo3-ffi v0.21.2========> ] 343/353: pyo3-macros-backend, pyo3...\n",
      "\u001b[1m\u001b[32m   Compiling\u001b[0m pyo3 v0.21.2\n",
      "\u001b[K\u001b[1m\u001b[32m   Compiling\u001b[0m pyo3-macros v0.21.2=====> ] 349/353: pyo3-macros-backend         \n",
      "\u001b[K\u001b[1m\u001b[32m   Compiling\u001b[0m morphing v0.1.0 (/Users/gyakusu/Morphing)                        \n",
      "\u001b[K\u001b[1m\u001b[32m    Finished\u001b[0m dev [unoptimized + debuginfo] target(s) in 4.67s                 \n",
      "📦 Built wheel for CPython 3.12 to /var/folders/w_/pg1jg9jx7hgfsps7wys8dmfm0000gn/T/.tmp2RcMUJ/morphing-0.1.0-cp312-cp312-macosx_11_0_arm64.whl\n",
      "✏️  Setting installed package as editable\n",
      "🛠 Installed morphing-0.1.0\n"
     ]
    }
   ],
   "source": [
    "# `maturin develop` command will install the package in the current virtualenv\n",
    "!cd ../ && maturin develop"
   ]
  },
  {
   "cell_type": "code",
   "execution_count": 2,
   "metadata": {},
   "outputs": [],
   "source": [
    "from morphing.morphing import CageParameter, Brg\n"
   ]
  },
  {
   "cell_type": "code",
   "execution_count": 3,
   "metadata": {},
   "outputs": [],
   "source": [
    "import numpy as np\n",
    "import pandas as pd"
   ]
  },
  {
   "cell_type": "code",
   "execution_count": 4,
   "metadata": {},
   "outputs": [
    {
     "data": {
      "text/plain": [
       "array([[ 0.58801745,  0.13338574,  0.32624599,  0.7469644 ,  0.62251933,\n",
       "        -0.32575929,  0.31669614, -0.0504524 , -0.03440628,  0.13686617],\n",
       "       [ 0.04801452,  0.48475784,  0.25367924,  0.04055834,  0.14795441,\n",
       "         0.11122478,  0.49802636, -0.06838609,  0.1043559 , -0.28469858]])"
      ]
     },
     "execution_count": 4,
     "metadata": {},
     "output_type": "execute_result"
    }
   ],
   "source": [
    "np.random.seed(0)\n",
    "params = np.random.randn(100, 10) / 3\n",
    "params[params<-1] = -1\n",
    "params[params>1] = 1\n",
    "params[:2]"
   ]
  },
  {
   "cell_type": "code",
   "execution_count": 5,
   "metadata": {},
   "outputs": [
    {
     "data": {
      "text/plain": [
       "(0.919785038007194, -1.0)"
      ]
     },
     "execution_count": 5,
     "metadata": {},
     "output_type": "execute_result"
    }
   ],
   "source": [
    "params.max(), params.min()"
   ]
  },
  {
   "cell_type": "code",
   "execution_count": 6,
   "metadata": {},
   "outputs": [
    {
     "data": {
      "text/plain": [
       "(0.0026, 0.0026)"
      ]
     },
     "execution_count": 6,
     "metadata": {},
     "output_type": "execute_result"
    }
   ],
   "source": [
    "r0 = lambda dr: 2.35e-3 + dr\n",
    "r1 = lambda dr: 2.85e-3 + dr\n",
    "\n",
    "r0(0.25e-3), r1(-0.25e-3)"
   ]
  },
  {
   "cell_type": "code",
   "execution_count": 7,
   "metadata": {},
   "outputs": [
    {
     "data": {
      "text/plain": [
       "(0.2846060161200868,\n",
       " 0.7137738940849623,\n",
       " 2.1778135578020037,\n",
       " 2.9786354702544657)"
      ]
     },
     "execution_count": 7,
     "metadata": {},
     "output_type": "execute_result"
    }
   ],
   "source": [
    "r0s = r0(params[:, 0] * 0.2e-3)\n",
    "r1s = r1(params[:, 1] * 0.2e-3)\n",
    "drs = r1s - r0s\n",
    "\n",
    "drs.min() * 1e3, drs.max() * 1e3, r0s.min() * 1e3, r1s.max() * 1e3\n"
   ]
  },
  {
   "cell_type": "code",
   "execution_count": 8,
   "metadata": {},
   "outputs": [
    {
     "data": {
      "text/plain": [
       "(1.0835944465122629,\n",
       " 0.7796290513731874,\n",
       " 2.2839570076014386,\n",
       " 1.9517731231850382)"
      ]
     },
     "execution_count": 8,
     "metadata": {},
     "output_type": "execute_result"
    }
   ],
   "source": [
    "h0 = lambda dh: 0.93e-3 + dh\n",
    "h1 = lambda dh: 2.10e-3 + dh\n",
    "\n",
    "h0s = h0(params[:, 2] * 0.2e-3)\n",
    "h1s = h1(params[:, 3] * 0.2e-3)\n",
    "\n",
    "h0s.max() * 1e3, h0s.min() * 1e3, h1s.max() * 1e3, h1s.min() * 1e3"
   ]
  },
  {
   "cell_type": "code",
   "execution_count": 9,
   "metadata": {},
   "outputs": [
    {
     "data": {
      "text/plain": [
       "(0.2898741350854526, 0.11136092540010864)"
      ]
     },
     "execution_count": 9,
     "metadata": {},
     "output_type": "execute_result"
    }
   ],
   "source": [
    "bevel = lambda r: 0.1 * drs * r\n",
    "\n",
    "bevels = bevel(params[:, 4]+2)\n",
    "\n",
    "(bevels / drs).max(), (bevels / drs).min()"
   ]
  },
  {
   "cell_type": "code",
   "execution_count": 10,
   "metadata": {},
   "outputs": [
    {
     "data": {
      "text/plain": [
       "(0.8240551484982418, 0.8258041512265145)"
      ]
     },
     "execution_count": 10,
     "metadata": {},
     "output_type": "execute_result"
    }
   ],
   "source": [
    "pocket_r = lambda dr: 0.825e-3 + dr\n",
    "\n",
    "pocket_rs = pocket_r(params[:, 5] * 1e-6)\n",
    "pocket_rs.min() * 1e3, pocket_rs.max() * 1e3"
   ]
  },
  {
   "cell_type": "code",
   "execution_count": 11,
   "metadata": {},
   "outputs": [
    {
     "data": {
      "text/plain": [
       "(1.6842388412190585, 1.7141119401432245)"
      ]
     },
     "execution_count": 11,
     "metadata": {},
     "output_type": "execute_result"
    }
   ],
   "source": [
    "neck_x = lambda dx: 1.70e-3 + dx\n",
    "\n",
    "neck_xs = neck_x(params[:, 6] * 20e-6)\n",
    "neck_xs.min() * 1e3, neck_xs.max() * 1e3"
   ]
  },
  {
   "cell_type": "code",
   "execution_count": 12,
   "metadata": {},
   "outputs": [
    {
     "data": {
      "text/plain": [
       "(1.1817354855520694, 1.2150448233153213)"
      ]
     },
     "execution_count": 12,
     "metadata": {},
     "output_type": "execute_result"
    }
   ],
   "source": [
    "neck_r = lambda dr: 1.20e-3 + dr\n",
    "\n",
    "neck_rs = neck_r(params[:, 7] * 20e-6)\n",
    "neck_rs.min() * 1e3, neck_rs.max() * 1e3\n"
   ]
  },
  {
   "cell_type": "code",
   "execution_count": 13,
   "metadata": {},
   "outputs": [
    {
     "data": {
      "text/plain": [
       "(2.37101376982578, 2.5364808195922715)"
      ]
     },
     "execution_count": 13,
     "metadata": {},
     "output_type": "execute_result"
    }
   ],
   "source": [
    "neck_h = lambda dh: 2.45e-3 + dh\n",
    "\n",
    "neck_hs = neck_h(params[:, 8] * 100e-6)\n",
    "neck_hs.min() * 1e3, neck_hs.max() * 1e3\n"
   ]
  },
  {
   "cell_type": "code",
   "execution_count": 14,
   "metadata": {},
   "outputs": [
    {
     "data": {
      "text/plain": [
       "(0.028458986531231186, 0.12664880375765164)"
      ]
     },
     "execution_count": 14,
     "metadata": {},
     "output_type": "execute_result"
    }
   ],
   "source": [
    "neck_dh = lambda r: (neck_hs - h1s) * r * 0.1\n",
    "\n",
    "neck_dhs = neck_dh(params[:, 9]+2)\n",
    "neck_dhs.min() * 1e3, neck_dhs.max() * 1e3\n"
   ]
  },
  {
   "cell_type": "code",
   "execution_count": 15,
   "metadata": {},
   "outputs": [],
   "source": [
    "df = pd.DataFrame({\n",
    "    'r0': r0s,\n",
    "    'r1': r1s,\n",
    "    'h0': h0s,\n",
    "    'h1': h1s,\n",
    "    'bevel': bevels,\n",
    "    'pocket_r': pocket_rs,\n",
    "    'neck_x': neck_xs,\n",
    "    'neck_r': neck_rs,\n",
    "    'neck_h': neck_hs,\n",
    "    'neck_dh': neck_dhs\n",
    "})\n",
    "\n",
    "# df.to_csv('../data/random/random_params.csv', index=False)\n",
    "df.to_csv('../data/FEM/random/random_params.csv', index=False)\n"
   ]
  },
  {
   "cell_type": "code",
   "execution_count": 16,
   "metadata": {},
   "outputs": [],
   "source": [
    "cage = CageParameter(2.345e-3,2.850e-3,0.93e-3,2.10e-3,0.10e-3,0.825e-3,1.70e-3,1.20e-3,2.45e-3,0.152e-3)\n",
    "brg  = Brg(\"../data/FEM/FEM2.vtu\", \"../data/FEM/index2.xml\", cage)\n",
    "brg_std = brg.std()\n"
   ]
  },
  {
   "cell_type": "code",
   "execution_count": 17,
   "metadata": {},
   "outputs": [],
   "source": [
    "new_cage = lambda i: CageParameter(r0s[i], r1s[i], h0s[i], h1s[i], bevels[i], pocket_rs[i], neck_xs[i], neck_rs[i], neck_hs[i], neck_dhs[i])\n",
    "brg.reload_cage(new_cage(10))\n"
   ]
  },
  {
   "cell_type": "code",
   "execution_count": 18,
   "metadata": {},
   "outputs": [
    {
     "data": {
      "text/plain": [
       "array([[  644,   183,   238,   239],\n",
       "       [39380,  7560,  7717,  7834],\n",
       "       [19619,  3753,  3754,  3884],\n",
       "       [43190,  8402,  8494,  8607]])"
      ]
     },
     "execution_count": 18,
     "metadata": {},
     "output_type": "execute_result"
    }
   ],
   "source": [
    "hoge = np.array(brg.get_surface_tetra_and_triangle_as_list())\n",
    "hoge[:4]"
   ]
  },
  {
   "cell_type": "code",
   "execution_count": null,
   "metadata": {},
   "outputs": [],
   "source": [
    "# # cargo run --release \"data/Tetra_standard.vtu,data/standard_index.xml,data/Tetra_standard_Smoothed.vtu\" \"2.345e-3,2.850e-3,0.93e-3,2.10e-3,0.10e-3,0.825e-3,1.70e-3,1.20e-3,2.45e-3,0.152e-3\" \"1000,1000,5,5\"\n",
    "\n",
    "# command_args0 = lambda i: f\"\\\"data/Tetra_7431.vtu,data/index_7431.xml,data/random/Tetra_7431_{i}.vtu\\\" \"\n",
    "# command_args0 = lambda i: f\"\\\"data/FEM/FEM2.vtu,data/FEM/index2.xml,data/FEM/random/FEM_{i}.vtu\\\" \"\n",
    "# command_args0(0)\n"
   ]
  },
  {
   "cell_type": "code",
   "execution_count": null,
   "metadata": {},
   "outputs": [],
   "source": [
    "# command_args1 = lambda i: f'\\\"{r0s[i]},{r1s[i]},{h0s[i]},{h1s[i]},{bevels[i]},{pocket_rs[i]},{neck_xs[i]},{neck_rs[i]},{neck_hs[i]},{neck_dhs[i]}\\\" \\\"1000,1000,30,5\\\"'\n",
    "# command_args1(10)\n",
    "\n",
    "# # '../data/Tetra_linspace10.vtu 0.0024755433798037503 0.002760149395923837 0.0008453010001009512 0.002164626447210534 4.579193726579163e-05 0.0008256478737285498 0.0016972425401282683 0.0011950169679237283 0.002514098067549346 0.0001742818416754026 1000'"
   ]
  },
  {
   "cell_type": "code",
   "execution_count": null,
   "metadata": {},
   "outputs": [],
   "source": [
    "# import subprocess\n",
    "\n",
    "# command = \"cd ../ && cargo run --release \"\n",
    "# result = subprocess.run(command + command_args0(0) + command_args1(0), shell=True)\n"
   ]
  },
  {
   "cell_type": "code",
   "execution_count": null,
   "metadata": {},
   "outputs": [],
   "source": [
    "output_span = 10\n",
    "\n",
    "for i in range(len(params)):\n",
    "    \n",
    "    brg.reload_cage(new_cage(i))\n",
    "    \n",
    "\n",
    "        \n",
    "    brg.write_vtk_from_base(\"../data/FEM/FEM2.vtu\", f\"../data/FEM/random/FEM2_{i}.vtu\")\n",
    "    \n",
    "    if i % output_span == 0:\n",
    "        print(f\"Done {i}\")\n"
   ]
  },
  {
   "cell_type": "code",
   "execution_count": null,
   "metadata": {},
   "outputs": [],
   "source": [
    "import os\n",
    "\n",
    "file_name = lambda i: f'../data/random/Tetra_7431_{i}.vtu'\n",
    "\n",
    "j = 0\n",
    "for i in range(100):\n",
    "    is_exist = os.path.exists(file_name(i))\n",
    "    \n",
    "    if not is_exist:\n",
    "        continue\n",
    "    \n",
    "    # change file name\n",
    "    os.rename(file_name(i), file_name(j))\n",
    "    j = j + 1"
   ]
  },
  {
   "cell_type": "markdown",
   "metadata": {},
   "source": [
    "### 次は　`VTK2CGNS.ipynb` へ\n",
    "\n",
    "[VTK2CGNS.ipynb](VTK2CGNS.ipynb)"
   ]
  },
  {
   "cell_type": "markdown",
   "metadata": {},
   "source": [
    "## 体積が負のメッシュを可視化\n",
    "\n"
   ]
  },
  {
   "cell_type": "code",
   "execution_count": null,
   "metadata": {},
   "outputs": [],
   "source": [
    "import numpy as np\n",
    "from matplotlib import pyplot as plt\n",
    "import pyvista as pv\n"
   ]
  },
  {
   "cell_type": "code",
   "execution_count": null,
   "metadata": {},
   "outputs": [],
   "source": [
    "# ファイル名を指定してデータを読み込む\n",
    "full_mesh = pv.read(file_name(0))\n",
    "# full_mesh = pv.read('../data/Tetra_smoothed.vtu')\n",
    "# full_mesh = pv.read('../data/random/Tetra_linspace0.vtu')\n",
    "# full_mesh = pv.read('../data/Tetra_7431.vtu')\n",
    "full_points = np.array(full_mesh.points.tolist()) \n",
    "full_points.shape\n"
   ]
  },
  {
   "cell_type": "code",
   "execution_count": null,
   "metadata": {},
   "outputs": [],
   "source": [
    "full_points[:,0].mean(), full_points[:,1].mean(), full_points[:,2].mean()"
   ]
  },
  {
   "cell_type": "code",
   "execution_count": null,
   "metadata": {},
   "outputs": [],
   "source": [
    "def calculate_volume(mesh):\n",
    "    # Get the cells from the mesh\n",
    "    cells = mesh.cells.reshape(-1, 5)[:, 1:]\n",
    "    \n",
    "    p0 = mesh.points[cells[:, 0]]\n",
    "    p1 = mesh.points[cells[:, 1]]\n",
    "    p2 = mesh.points[cells[:, 2]]\n",
    "    p3 = mesh.points[cells[:, 3]]\n",
    "    \n",
    "    # Calculate the volume of the tetrahedron\n",
    "    v1 = p1 - p0\n",
    "    v2 = p2 - p0\n",
    "    v3 = p3 - p0\n",
    "    \n",
    "    # Calculate the volume of the tetrahedron\n",
    "    volumes = np.abs(np.einsum('ij,ij->i', v1, np.cross(v2, v3))) / 6.0\n",
    "\n",
    "    return volumes\n",
    "\n",
    "volumes = calculate_volume(full_mesh)\n",
    "\n"
   ]
  },
  {
   "cell_type": "code",
   "execution_count": null,
   "metadata": {},
   "outputs": [],
   "source": [
    "plt.figure(figsize=(12, 2))\n",
    "plt.hist(volumes[volumes<1e-13], bins=100)\n",
    "plt.xlim([-1e-18,1e-13])\n",
    "plt.show()\n",
    "\n",
    "volumes.mean(), volumes.min(), volumes.max()"
   ]
  },
  {
   "cell_type": "code",
   "execution_count": null,
   "metadata": {},
   "outputs": [],
   "source": [
    "import os"
   ]
  },
  {
   "cell_type": "code",
   "execution_count": null,
   "metadata": {},
   "outputs": [],
   "source": [
    "file_name = lambda i: f'../data/random/Tetra_standard_linspace{i}.vtu'\n",
    "\n",
    "j = 0\n",
    "for i in range(100):\n",
    "    is_exist = os.path.exists(file_name(i))\n",
    "    \n",
    "    if not is_exist:\n",
    "        continue\n",
    "    \n",
    "    # change file name\n",
    "    os.rename(file_name(i), file_name(j))\n",
    "    j = j + 1"
   ]
  },
  {
   "cell_type": "code",
   "execution_count": null,
   "metadata": {},
   "outputs": [],
   "source": [
    "for i in range(80):\n",
    "    mesh = pv.read(file_name(i))\n",
    "    volumes = calculate_volume(mesh)\n",
    "    \n",
    "    print(f\"Volume {i}: {(volumes < 0).sum()}\")"
   ]
  },
  {
   "cell_type": "code",
   "execution_count": null,
   "metadata": {},
   "outputs": [],
   "source": [
    "minus_volume_tetra"
   ]
  },
  {
   "cell_type": "code",
   "execution_count": null,
   "metadata": {},
   "outputs": [],
   "source": [
    "# minus_volume_index = cells0[minus_volume_tetra].flatten()\n",
    "# minus_volume_index = np.unique(minus_volume_index)\n",
    "\n",
    "# full_points = np.array(full_mesh.points.tolist())\n",
    "# minus_points = full_points[minus_volume_index]\n",
    "# minus_points.shape\n"
   ]
  },
  {
   "cell_type": "code",
   "execution_count": null,
   "metadata": {},
   "outputs": [],
   "source": [
    "surface_index = full_mesh.surface_indices()\n",
    "minus_volume_index = cells0[minus_volume_tetra]\n",
    "\n",
    "all_surface = []\n",
    "\n",
    "for index in cells0:\n",
    "    bool_array = [i in surface_index for i in index]\n",
    "\n",
    "    if sum(bool_array) == 4:\n",
    "        all_surface.append(index)\n",
    "\n",
    "all_surface = np.array(all_surface).flatten()\n",
    "all_surface = np.unique(all_surface)\n",
    "\n",
    "all_points = full_points[all_surface]\n",
    "\n",
    "minus_surface = []\n",
    "\n",
    "# for index in cells0:\n",
    "for index in minus_volume_index:\n",
    "    bool_array = [i in surface_index for i in index]\n",
    "\n",
    "    if sum(bool_array) == 4:\n",
    "        minus_surface.append(index)\n",
    "\n",
    "minus_surface = np.array(minus_surface).flatten()\n",
    "minus_surface = np.unique(minus_surface)\n",
    "minus_surface = np.zeros(full_points.shape, dtype=bool) if minus_surface.shape[0]==0 else minus_surface"
   ]
  },
  {
   "cell_type": "code",
   "execution_count": null,
   "metadata": {},
   "outputs": [],
   "source": [
    "minus_surface.shape"
   ]
  },
  {
   "cell_type": "code",
   "execution_count": null,
   "metadata": {},
   "outputs": [],
   "source": [
    "minus_points = full_points[minus_surface]\n",
    "surface_points = full_points[surface_index]\n",
    "\n",
    "minus_points.shape, minus_surface.shape, surface_points.shape"
   ]
  },
  {
   "cell_type": "code",
   "execution_count": null,
   "metadata": {},
   "outputs": [],
   "source": []
  },
  {
   "cell_type": "code",
   "execution_count": null,
   "metadata": {},
   "outputs": [],
   "source": [
    "fig,ax = plt.subplots(1, 2, figsize=(12, 3))\n",
    "\n",
    "for i in [0,1]:\n",
    "    ax[i].plot(surface_points[:,0], surface_points[:,1+i], '.')\n",
    "    ax[i].plot(all_points[:,0], all_points[:,1+i], '.')\n",
    "    # ax[i].plot(minus_points[:,0], minus_points[:,1+i], '.')\n",
    "    ax[i].axis('equal')\n",
    "plt.show()"
   ]
  },
  {
   "cell_type": "code",
   "execution_count": null,
   "metadata": {},
   "outputs": [],
   "source": []
  },
  {
   "cell_type": "code",
   "execution_count": null,
   "metadata": {},
   "outputs": [],
   "source": [
    "import matplotlib.pyplot as plt\n",
    "\n",
    "# 各点の接続情報を持つ配列を作成する\n",
    "point_connections = [[] for _ in range(len(full_points))]\n",
    "for i, cell in enumerate(cells0):\n",
    "    if i in minus_volume_tetra:\n",
    "        for j in cell:\n",
    "            point_connections[j].append(i)\n",
    "\n",
    "# 各点から繋がっているセルの数を数える\n",
    "connected_cell_counts = np.array([len(connections) for connections in point_connections])\n",
    "\n",
    "# ヒストグラムを作成する\n",
    "plt.figure(figsize=(8, 2))\n",
    "plt.hist(connected_cell_counts) #, bins=range(max(connected_cell_counts)+2))\n",
    "plt.xlabel('Number of connected cells per point')\n",
    "plt.ylabel('Frequency')\n",
    "plt.title('Histogram of connected negative cells per point')\n",
    "plt.ylim(0, 200)\n",
    "plt.show()"
   ]
  },
  {
   "cell_type": "code",
   "execution_count": null,
   "metadata": {},
   "outputs": [],
   "source": [
    "connected_cell_counts.shape, connected_cell_counts.max(), cells0.shape"
   ]
  },
  {
   "cell_type": "code",
   "execution_count": null,
   "metadata": {},
   "outputs": [],
   "source": [
    "num_1 = np.arange(len(connected_cell_counts))[connected_cell_counts==1]\n",
    "num_1"
   ]
  },
  {
   "cell_type": "code",
   "execution_count": null,
   "metadata": {},
   "outputs": [],
   "source": [
    "import matplotlib.pyplot as plt\n",
    "\n",
    "# 各点の接続情報を持つ配列を作成する\n",
    "point_connections1 = [[] for _ in range(len(full_points))]\n",
    "for i, cell in enumerate(cells0):\n",
    "    for j in cell:\n",
    "        if j in num_1:\n",
    "            point_connections1[j].append(i)\n",
    "\n",
    "# 各点から繋がっているセルの数を数える\n",
    "connected_cell_counts1 = np.array([len(connections) for connections in point_connections1])\n",
    "\n",
    "# ヒストグラムを作成する\n",
    "plt.figure(figsize=(8, 2))\n",
    "plt.hist(connected_cell_counts1) #, bins=range(max(connected_cell_counts)+2))\n",
    "plt.xlabel('Number of connected cells per point')\n",
    "plt.ylabel('Frequency')\n",
    "plt.title('Histogram of connected cells per point')\n",
    "plt.ylim(0, 60)\n",
    "plt.show()"
   ]
  },
  {
   "cell_type": "code",
   "execution_count": null,
   "metadata": {},
   "outputs": [],
   "source": [
    "example_tetra = minus_volume_tetra[0]\n",
    "example_index = cells0[example_tetra]\n",
    "example_point = full_points[example_index]\n",
    "\n",
    "example_tetra, example_index, example_point"
   ]
  },
  {
   "cell_type": "code",
   "execution_count": null,
   "metadata": {},
   "outputs": [],
   "source": [
    "example_area = np.zeros(4)\n",
    "\n",
    "for i in range(4):\n",
    "    j = (i + 1) % 4\n",
    "    k = (i + 2) % 4\n",
    "    l = (i + 3) % 4\n",
    "\n",
    "    vector0 = example_point[l] - example_point[j]\n",
    "    vector1 = example_point[k] - example_point[j]\n",
    "    example_area[i] = np.linalg.norm(np.cross(vector0, vector1)) / 2\n",
    "\n",
    "max_area = example_area.argmax()\n",
    "\n",
    "example_area, max_area"
   ]
  },
  {
   "cell_type": "code",
   "execution_count": null,
   "metadata": {},
   "outputs": [],
   "source": []
  },
  {
   "cell_type": "code",
   "execution_count": null,
   "metadata": {},
   "outputs": [],
   "source": [
    "j = (max_area + 1) % 4\n",
    "k = (max_area + 2) % 4\n",
    "l = (max_area + 3) % 4\n",
    "\n",
    "example_normal = np.cross(example_point[l] - example_point[j], example_point[k] - example_point[j])\n",
    "example_normal = example_normal / np.linalg.norm(example_normal)\n",
    "\n",
    "example_distance = np.dot(example_point[max_area] - example_point[j], example_normal)\n",
    "example_distance"
   ]
  },
  {
   "cell_type": "code",
   "execution_count": null,
   "metadata": {},
   "outputs": [],
   "source": [
    "example_new_point = example_point[max_area] - 2 * example_normal * example_distance\n",
    "np.dot(example_new_point - example_point[j], example_normal)"
   ]
  },
  {
   "cell_type": "code",
   "execution_count": null,
   "metadata": {},
   "outputs": [],
   "source": [
    "surface_index = full_mesh.surface_indices()\n",
    "surface_index"
   ]
  },
  {
   "cell_type": "code",
   "execution_count": null,
   "metadata": {},
   "outputs": [],
   "source": [
    "import numpy as np\n",
    "index0 = np.array([10, 0, 20, 30])\n",
    "area0  = np.array([1, 2, 3, 4])\n",
    "surface0 = np.array([10, 30, 40, 50])\n",
    "\n",
    "# area0の値が大きい順にインデックスをソートする\n",
    "sorted_indices = np.argsort(area0)[::-1]\n",
    "\n",
    "# ソートしたインデックスの中で、surface0に含まれない最初のものを探す\n",
    "for index in sorted_indices:\n",
    "    if index0[index] not in surface0:\n",
    "        result = index0[index]\n",
    "        break\n",
    "\n",
    "print(result)\n"
   ]
  },
  {
   "cell_type": "code",
   "execution_count": null,
   "metadata": {},
   "outputs": [],
   "source": []
  },
  {
   "cell_type": "code",
   "execution_count": null,
   "metadata": {},
   "outputs": [],
   "source": []
  },
  {
   "cell_type": "code",
   "execution_count": null,
   "metadata": {},
   "outputs": [],
   "source": []
  },
  {
   "cell_type": "code",
   "execution_count": null,
   "metadata": {},
   "outputs": [],
   "source": []
  },
  {
   "cell_type": "markdown",
   "metadata": {},
   "source": [
    "## 以下のアルゴリズムはエッジを反転させる結果，STARでエラーになります．実行しないでください．"
   ]
  },
  {
   "cell_type": "code",
   "execution_count": null,
   "metadata": {},
   "outputs": [],
   "source": [
    "# def flip_cells(mesh, cells_to_flip):\n",
    "#     # Get the cells from the mesh\n",
    "#     cells = np.array(mesh.cells.tolist()).reshape(-1, 5)\n",
    "\n",
    "#     # Flip the cells\n",
    "#     for cell in cells_to_flip:\n",
    "#         # Get the points of the tetrahedron\n",
    "#         points = cells[cell]\n",
    "\n",
    "#         # Reverse the order of the points\n",
    "#         cells[cell] = points[[0, 1, 3, 2, 4]]\n",
    "\n",
    "#     # Update the cells of the mesh\n",
    "#     mesh.cells = cells.reshape(-1, 1)\n",
    "\n",
    "#     return mesh\n",
    "\n",
    "# full_mesh = flip_cells(full_mesh, minus_volume_tetra)\n",
    "# minus_volume0 = calculate_volume(full_mesh) < 0\n",
    "# minus_volume0.sum()"
   ]
  },
  {
   "cell_type": "code",
   "execution_count": null,
   "metadata": {},
   "outputs": [],
   "source": []
  },
  {
   "cell_type": "code",
   "execution_count": null,
   "metadata": {},
   "outputs": [],
   "source": [
    "# output_span = 10\n",
    "\n",
    "# for i in range(100):\n",
    "#     full_mesh = pv.read(f'../data/random/Tetra_linspace{i}.vtu')\n",
    "#     volumes = calculate_volume(full_mesh)\n",
    "#     minus_volume_tetra = np.where(np.array(volumes) < 0)[0]\n",
    "\n",
    "#     if i % output_span == 0:\n",
    "#         print(f\"itaration {i}, minus_volume_tetra: {minus_volume_tetra.shape}\")\n",
    "\n",
    "#     full_mesh = flip_cells(full_mesh, minus_volume_tetra)\n",
    "#     volumes = calculate_volume(full_mesh)\n",
    "\n",
    "#     # pv.save_meshio(f'../data/random/Tetra_linspace{i}.vtu', full_mesh, binary=False)\n",
    "#     pv.save_meshio(f'../data/random/Tetra_linspace{i}.vtu', full_mesh, binary=True)\n",
    "    "
   ]
  },
  {
   "cell_type": "code",
   "execution_count": null,
   "metadata": {},
   "outputs": [],
   "source": []
  }
 ],
 "metadata": {
  "kernelspec": {
   "display_name": "Python 3",
   "language": "python",
   "name": "python3"
  },
  "language_info": {
   "codemirror_mode": {
    "name": "ipython",
    "version": 3
   },
   "file_extension": ".py",
   "mimetype": "text/x-python",
   "name": "python",
   "nbconvert_exporter": "python",
   "pygments_lexer": "ipython3",
   "version": "3.12.3"
  }
 },
 "nbformat": 4,
 "nbformat_minor": 2
}
