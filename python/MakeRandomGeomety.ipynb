{
 "cells": [
  {
   "cell_type": "markdown",
   "metadata": {},
   "source": [
    "# 乱数を使って保持器を作る"
   ]
  },
  {
   "cell_type": "code",
   "execution_count": null,
   "metadata": {},
   "outputs": [],
   "source": [
    "import numpy as np\n",
    "import pandas as pd"
   ]
  },
  {
   "cell_type": "code",
   "execution_count": null,
   "metadata": {},
   "outputs": [],
   "source": [
    "np.random.seed(0)\n",
    "params = np.random.randn(100, 10) / 3\n",
    "params[params<-1] = -1\n",
    "params[params>1] = 1\n",
    "params[:2]"
   ]
  },
  {
   "cell_type": "code",
   "execution_count": null,
   "metadata": {},
   "outputs": [],
   "source": [
    "params.max(), params.min()"
   ]
  },
  {
   "cell_type": "code",
   "execution_count": null,
   "metadata": {},
   "outputs": [],
   "source": [
    "r0 = lambda dr: 2.35e-3 + dr\n",
    "r1 = lambda dr: 2.85e-3 + dr\n",
    "\n",
    "r0(0.25e-3), r1(-0.25e-3)"
   ]
  },
  {
   "cell_type": "code",
   "execution_count": null,
   "metadata": {},
   "outputs": [],
   "source": [
    "r0s = r0(params[:, 0] * 0.2e-3)\n",
    "r1s = r1(params[:, 1] * 0.2e-3)\n",
    "drs = r1s - r0s\n",
    "\n",
    "drs.min() * 1e3, drs.max() * 1e3, r0s.min() * 1e3, r1s.max() * 1e3\n"
   ]
  },
  {
   "cell_type": "code",
   "execution_count": null,
   "metadata": {},
   "outputs": [],
   "source": [
    "h0 = lambda dh: 0.93e-3 + dh\n",
    "h1 = lambda dh: 2.10e-3 + dh\n",
    "\n",
    "h0s = h0(params[:, 2] * 0.2e-3)\n",
    "h1s = h1(params[:, 3] * 0.2e-3)\n",
    "\n",
    "h0s.max() * 1e3, h0s.min() * 1e3, h1s.max() * 1e3, h1s.min() * 1e3"
   ]
  },
  {
   "cell_type": "code",
   "execution_count": null,
   "metadata": {},
   "outputs": [],
   "source": [
    "bevel = lambda r: 0.1 * drs * r\n",
    "\n",
    "bevels = bevel(params[:, 4]+2)\n",
    "\n",
    "(bevels / drs).max(), (bevels / drs).min()"
   ]
  },
  {
   "cell_type": "code",
   "execution_count": null,
   "metadata": {},
   "outputs": [],
   "source": [
    "pocket_r = lambda dr: 0.825e-3 + dr\n",
    "\n",
    "pocket_rs = pocket_r(params[:, 5] * 1e-6)\n",
    "pocket_rs.min() * 1e3, pocket_rs.max() * 1e3"
   ]
  },
  {
   "cell_type": "code",
   "execution_count": null,
   "metadata": {},
   "outputs": [],
   "source": [
    "neck_x = lambda dx: 1.70e-3 + dx\n",
    "\n",
    "neck_xs = neck_x(params[:, 6] * 20e-6)\n",
    "neck_xs.min() * 1e3, neck_xs.max() * 1e3"
   ]
  },
  {
   "cell_type": "code",
   "execution_count": null,
   "metadata": {},
   "outputs": [],
   "source": [
    "neck_r = lambda dr: 1.20e-3 + dr\n",
    "\n",
    "neck_rs = neck_r(params[:, 7] * 20e-6)\n",
    "neck_rs.min() * 1e3, neck_rs.max() * 1e3\n"
   ]
  },
  {
   "cell_type": "code",
   "execution_count": null,
   "metadata": {},
   "outputs": [],
   "source": [
    "neck_h = lambda dh: 2.45e-3 + dh\n",
    "\n",
    "neck_hs = neck_h(params[:, 8] * 100e-6)\n",
    "neck_hs.min() * 1e3, neck_hs.max() * 1e3\n"
   ]
  },
  {
   "cell_type": "code",
   "execution_count": null,
   "metadata": {},
   "outputs": [],
   "source": [
    "neck_dh = lambda r: (neck_hs - h1s) * r * 0.2\n",
    "\n",
    "neck_dhs = neck_dh(params[:, 9]+2)\n",
    "neck_dhs.min() * 1e3, neck_dhs.max() * 1e3\n"
   ]
  },
  {
   "cell_type": "code",
   "execution_count": null,
   "metadata": {},
   "outputs": [],
   "source": [
    "df = pd.DataFrame({\n",
    "    'r0': r0s,\n",
    "    'r1': r1s,\n",
    "    'h0': h0s,\n",
    "    'h1': h1s,\n",
    "    'bevel': bevels,\n",
    "    'pocket_r': pocket_rs,\n",
    "    'neck_x': neck_xs,\n",
    "    'neck_r': neck_rs,\n",
    "    'neck_h': neck_hs,\n",
    "    'neck_dh': neck_dhs\n",
    "})\n",
    "\n",
    "df.to_csv('../data/random_params.csv', index=False)"
   ]
  },
  {
   "cell_type": "code",
   "execution_count": null,
   "metadata": {},
   "outputs": [],
   "source": [
    "filenames = [f'data/random/Tetra_linspace{i}.vtu' for i in range(len(params))]\n",
    "filenames[-2]\n"
   ]
  },
  {
   "cell_type": "code",
   "execution_count": null,
   "metadata": {},
   "outputs": [],
   "source": [
    "command_args = lambda i: f'{filenames[i]} {r0s[i]} {r1s[i]} {h0s[i]} {h1s[i]} {bevels[i]} {pocket_rs[i]} {neck_xs[i]} {neck_rs[i]} {neck_hs[i]} {neck_dhs[i]} 1000'\n",
    "\n",
    "command_args(10)\n",
    "\n",
    "# '../data/Tetra_linspace10.vtu 0.0024755433798037503 0.002760149395923837 0.0008453010001009512 0.002164626447210534 4.579193726579163e-05 0.0008256478737285498 0.0016972425401282683 0.0011950169679237283 0.002514098067549346 0.0001742818416754026 1000'"
   ]
  },
  {
   "cell_type": "code",
   "execution_count": null,
   "metadata": {},
   "outputs": [],
   "source": [
    "import subprocess\n",
    "\n",
    "command = \"cd ../; cargo run --release \"\n",
    "# subprocess.run(command + command_args(0), shell=True)\n",
    "\n",
    "for i in range(len(params)):\n",
    "    subprocess.run(command + command_args(i), shell=True)\n",
    "    print(f'Finished {i} of {len(params)}')\n"
   ]
  },
  {
   "cell_type": "code",
   "execution_count": null,
   "metadata": {},
   "outputs": [],
   "source": []
  }
 ],
 "metadata": {
  "kernelspec": {
   "display_name": "Python 3",
   "language": "python",
   "name": "python3"
  },
  "language_info": {
   "codemirror_mode": {
    "name": "ipython",
    "version": 3
   },
   "file_extension": ".py",
   "mimetype": "text/x-python",
   "name": "python",
   "nbconvert_exporter": "python",
   "pygments_lexer": "ipython3",
   "version": "3.9.6"
  }
 },
 "nbformat": 4,
 "nbformat_minor": 2
}
