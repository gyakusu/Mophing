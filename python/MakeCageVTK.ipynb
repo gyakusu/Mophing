{
 "cells": [
  {
   "cell_type": "markdown",
   "metadata": {},
   "source": [
    "# 保持器のインデックスから新しいVTKファイルの作成"
   ]
  },
  {
   "cell_type": "code",
   "execution_count": 17,
   "metadata": {},
   "outputs": [],
   "source": [
    "import numpy as np\n",
    "import xml.etree.ElementTree as ET\n",
    "\n",
    "def read_sections_from_xml(file_path, section_name, exclude_key='never_used_key'):\n",
    "    tree = ET.parse(file_path)\n",
    "\n",
    "    sections = []\n",
    "\n",
    "    for t in tree.iter():\n",
    "        if t.tag != section_name:\n",
    "            continue\n",
    "        for k in t.iter():\n",
    "            if exclude_key in k.tag:\n",
    "                break\n",
    "            sections.extend(k.text.strip().split())\n",
    "\n",
    "    return np.array(sections, dtype=int)\n"
   ]
  },
  {
   "cell_type": "code",
   "execution_count": 45,
   "metadata": {},
   "outputs": [
    {
     "data": {
      "text/plain": [
       "((631,), (6103,))"
      ]
     },
     "execution_count": 45,
     "metadata": {},
     "output_type": "execute_result"
    }
   ],
   "source": [
    "edge_index = read_sections_from_xml('../data/face_and_edge_index.xml', 'edge')\n",
    "face_index = read_sections_from_xml('../data/face_and_edge_index.xml', 'face', 'periodic')\n",
    "\n",
    "edge_index.shape, face_index.shape"
   ]
  },
  {
   "cell_type": "code",
   "execution_count": 46,
   "metadata": {},
   "outputs": [
    {
     "data": {
      "text/plain": [
       "(6670,)"
      ]
     },
     "execution_count": 46,
     "metadata": {},
     "output_type": "execute_result"
    }
   ],
   "source": [
    "all_index = np.concatenate([edge_index, face_index])\n",
    "all_index = np.unique(all_index)\n",
    "all_index.shape"
   ]
  },
  {
   "cell_type": "code",
   "execution_count": null,
   "metadata": {},
   "outputs": [],
   "source": []
  },
  {
   "cell_type": "markdown",
   "metadata": {},
   "source": [
    "## VTKファイルから該当インデックスを含む面を取得"
   ]
  },
  {
   "cell_type": "code",
   "execution_count": 47,
   "metadata": {},
   "outputs": [
    {
     "data": {
      "text/plain": [
       "(66723, 3)"
      ]
     },
     "execution_count": 47,
     "metadata": {},
     "output_type": "execute_result"
    }
   ],
   "source": [
    "import pyvista as pv\n",
    "from matplotlib import pyplot as plt\n",
    "\n",
    "# full_mesh = pv.read('../data/Tetra.vtu')\n",
    "full_mesh = pv.read('../data/Tetra_smoothed.vtu')\n",
    "full_points = np.array(full_mesh.points.tolist()) \n",
    "full_points.shape\n"
   ]
  },
  {
   "cell_type": "code",
   "execution_count": 48,
   "metadata": {},
   "outputs": [
    {
     "data": {
      "text/plain": [
       "(array([[ 1,  3,  0,  2],\n",
       "        [ 4,  2,  3,  5],\n",
       "        [ 8,  5,  7,  6],\n",
       "        [ 5,  8,  9, 10],\n",
       "        [ 7,  5,  8,  9]]),\n",
       " (295008, 4))"
      ]
     },
     "execution_count": 48,
     "metadata": {},
     "output_type": "execute_result"
    }
   ],
   "source": [
    "tetras = full_mesh.cells.reshape(-1, 5)[:,1:]\n",
    "tetras[:5], tetras.shape"
   ]
  },
  {
   "cell_type": "code",
   "execution_count": 49,
   "metadata": {},
   "outputs": [
    {
     "name": "stdout",
     "output_type": "stream",
     "text": [
      "{}\n"
     ]
    }
   ],
   "source": [
    "from collections import Counter\n",
    "counter = Counter(tuple(t) for t in tetras)\n",
    "duplicates = {t: count for t, count in counter.items() if count > 1}\n",
    "\n",
    "print(duplicates)\n"
   ]
  },
  {
   "cell_type": "code",
   "execution_count": 50,
   "metadata": {},
   "outputs": [
    {
     "data": {
      "text/plain": [
       "(array([[False, False, False, False],\n",
       "        [False, False, False, False],\n",
       "        [False, False, False, False],\n",
       "        ...,\n",
       "        [False, False, False, False],\n",
       "        [False, False, False, False],\n",
       "        [False, False, False, False]]),\n",
       " (295008, 4))"
      ]
     },
     "execution_count": 50,
     "metadata": {},
     "output_type": "execute_result"
    }
   ],
   "source": [
    "tetra_count = np.isin(tetras, all_index)\n",
    "tetra_count, tetra_count.shape"
   ]
  },
  {
   "cell_type": "code",
   "execution_count": 51,
   "metadata": {},
   "outputs": [
    {
     "data": {
      "image/png": "[encoded data removed]",
      "text/plain": [
       "<Figure size 1000x200 with 1 Axes>"
      ]
     },
     "metadata": {},
     "output_type": "display_data"
    }
   ],
   "source": [
    "plt.figure(figsize=(10, 2))\n",
    "plt.hist(tetra_count.sum(axis=1), bins=31)\n",
    "plt.show()\n"
   ]
  },
  {
   "cell_type": "code",
   "execution_count": 52,
   "metadata": {},
   "outputs": [
    {
     "data": {
      "text/plain": [
       "(array([[ 1762,  1891,  2199],\n",
       "        [ 1762,  2199,  2814],\n",
       "        [ 1762,  2204,  2814],\n",
       "        ...,\n",
       "        [66420, 66267, 66338],\n",
       "        [66420, 66338, 66404],\n",
       "        [66420, 66404, 66414]]),\n",
       " (13298, 3))"
      ]
     },
     "execution_count": 52,
     "metadata": {},
     "output_type": "execute_result"
    }
   ],
   "source": [
    "is_face = tetra_count.sum(axis=1) == 3\n",
    "surface_tetras = tetras[is_face]\n",
    "\n",
    "triangles_count = np.isin(surface_tetras, all_index)\n",
    "surface_triangles = surface_tetras[triangles_count].reshape(-1, 3)\n",
    "\n",
    "unique_triangles = np.unique(surface_triangles, axis=0)\n",
    "unique_triangles, unique_triangles.shape"
   ]
  },
  {
   "cell_type": "code",
   "execution_count": 53,
   "metadata": {},
   "outputs": [
    {
     "data": {
      "text/plain": [
       "((6670, 3), (6670,), (13298, 3))"
      ]
     },
     "execution_count": 53,
     "metadata": {},
     "output_type": "execute_result"
    }
   ],
   "source": [
    "points_array = full_points[all_index]\n",
    "index_array = np.arange(all_index.shape[0])\n",
    "triangles_array = np.array([np.where(all_index == t)[0][0] for t in unique_triangles.flatten()]).reshape(-1, 3)\n",
    "\n",
    "points_array.shape, index_array.shape, triangles_array.shape"
   ]
  },
  {
   "cell_type": "code",
   "execution_count": 54,
   "metadata": {},
   "outputs": [
    {
     "data": {
      "text/plain": [
       "array([[   0,    3,    8],\n",
       "       [   0,    8,   24],\n",
       "       [   0,    9,   24],\n",
       "       ...,\n",
       "       [6669, 6653, 6661],\n",
       "       [6669, 6661, 6665],\n",
       "       [6669, 6665, 6666]])"
      ]
     },
     "execution_count": 54,
     "metadata": {},
     "output_type": "execute_result"
    }
   ],
   "source": [
    "triangles_array"
   ]
  },
  {
   "cell_type": "code",
   "execution_count": 55,
   "metadata": {},
   "outputs": [
    {
     "data": {
      "text/plain": [
       "1"
      ]
     },
     "execution_count": 55,
     "metadata": {},
     "output_type": "execute_result"
    }
   ],
   "source": [
    "import vtk\n",
    "\n",
    "# 仮のデータを作成\n",
    "\n",
    "# vtkPointsオブジェクトを作成\n",
    "points = vtk.vtkPoints()\n",
    "for point in points_array:\n",
    "    points.InsertNextPoint(point)\n",
    "\n",
    "# vtkCellArrayオブジェクトを作成\n",
    "triangles = vtk.vtkCellArray()\n",
    "for triangle in triangles_array:\n",
    "    triangles.InsertNextCell(3, triangle)\n",
    "\n",
    "# vtkPolyDataオブジェクトを作成\n",
    "polydata = vtk.vtkPolyData()\n",
    "polydata.SetPoints(points)\n",
    "polydata.SetPolys(triangles)\n",
    "\n",
    "# vtkPolyDataをファイルに書き込む\n",
    "writer = vtk.vtkPolyDataWriter()\n",
    "writer.SetFileName(\"../data/Cage_smoothed.vtk\")\n",
    "writer.SetInputData(polydata)\n",
    "writer.Write()"
   ]
  },
  {
   "cell_type": "code",
   "execution_count": 56,
   "metadata": {},
   "outputs": [],
   "source": [
    "def make_vtk_file(origin_vtk_file_path, output_vtk_file_path, all_index, triangles_array):\n",
    "    full_mesh = pv.read(origin_vtk_file_path)\n",
    "    full_points = np.array(full_mesh.points.tolist()) \n",
    "\n",
    "    points_array = full_points[all_index]\n",
    "\n",
    "    triangles_array = np.array([np.where(all_index == t)[0][0] for t in triangles_array.flatten()]).reshape(-1, 3)\n",
    "\n",
    "    # vtkPointsオブジェクトを作成\n",
    "    points = vtk.vtkPoints()\n",
    "    for point in points_array:\n",
    "        points.InsertNextPoint(point)\n",
    "\n",
    "    # vtkCellArrayオブジェクトを作成\n",
    "    triangles = vtk.vtkCellArray()\n",
    "    for triangle in triangles_array:\n",
    "        triangles.InsertNextCell(3, triangle)\n",
    "\n",
    "    # vtkPolyDataオブジェクトを作成\n",
    "    polydata = vtk.vtkPolyData()\n",
    "    polydata.SetPoints(points)\n",
    "    polydata.SetPolys(triangles)\n",
    "\n",
    "    # vtkPolyDataをファイルに書き込む\n",
    "    writer = vtk.vtkPolyDataWriter()\n",
    "    writer.SetFileName(output_vtk_file_path)\n",
    "    writer.SetInputData(polydata)\n",
    "    writer.Write()\n"
   ]
  },
  {
   "cell_type": "code",
   "execution_count": 59,
   "metadata": {},
   "outputs": [],
   "source": [
    "make_vtk_file('../data/Tetra_smoothed.vtu', '../data/Cage_smoothed.vtk', all_index, unique_triangles)\n"
   ]
  },
  {
   "cell_type": "code",
   "execution_count": 58,
   "metadata": {},
   "outputs": [
    {
     "ename": "FileNotFoundError",
     "evalue": "File (/Users/gyakusu/Morphing/data/random/Tetra_linspace0.vtu) not found",
     "output_type": "error",
     "traceback": [
      "\u001b[0;31m---------------------------------------------------------------------------\u001b[0m",
      "\u001b[0;31mFileNotFoundError\u001b[0m                         Traceback (most recent call last)",
      "Cell \u001b[0;32mIn[58], line 2\u001b[0m\n\u001b[1;32m      1\u001b[0m \u001b[38;5;28;01mfor\u001b[39;00m i \u001b[38;5;129;01min\u001b[39;00m \u001b[38;5;28mrange\u001b[39m(\u001b[38;5;241m100\u001b[39m):\n\u001b[0;32m----> 2\u001b[0m     \u001b[43mmake_vtk_file\u001b[49m\u001b[43m(\u001b[49m\u001b[38;5;124;43mf\u001b[39;49m\u001b[38;5;124;43m'\u001b[39;49m\u001b[38;5;124;43m../data/random/Tetra_linspace\u001b[39;49m\u001b[38;5;132;43;01m{\u001b[39;49;00m\u001b[43mi\u001b[49m\u001b[38;5;132;43;01m}\u001b[39;49;00m\u001b[38;5;124;43m.vtu\u001b[39;49m\u001b[38;5;124;43m'\u001b[39;49m\u001b[43m,\u001b[49m\u001b[43m \u001b[49m\u001b[38;5;124;43mf\u001b[39;49m\u001b[38;5;124;43m'\u001b[39;49m\u001b[38;5;124;43m../data/random/cage\u001b[39;49m\u001b[38;5;132;43;01m{\u001b[39;49;00m\u001b[43mi\u001b[49m\u001b[38;5;132;43;01m}\u001b[39;49;00m\u001b[38;5;124;43m.vtk\u001b[39;49m\u001b[38;5;124;43m'\u001b[39;49m\u001b[43m,\u001b[49m\u001b[43m \u001b[49m\u001b[43mall_index\u001b[49m\u001b[43m,\u001b[49m\u001b[43m \u001b[49m\u001b[43munique_triangles\u001b[49m\u001b[43m)\u001b[49m\n",
      "Cell \u001b[0;32mIn[56], line 2\u001b[0m, in \u001b[0;36mmake_vtk_file\u001b[0;34m(origin_vtk_file_path, output_vtk_file_path, all_index, triangles_array)\u001b[0m\n\u001b[1;32m      1\u001b[0m \u001b[38;5;28;01mdef\u001b[39;00m \u001b[38;5;21mmake_vtk_file\u001b[39m(origin_vtk_file_path, output_vtk_file_path, all_index, triangles_array):\n\u001b[0;32m----> 2\u001b[0m     full_mesh \u001b[38;5;241m=\u001b[39m \u001b[43mpv\u001b[49m\u001b[38;5;241;43m.\u001b[39;49m\u001b[43mread\u001b[49m\u001b[43m(\u001b[49m\u001b[43morigin_vtk_file_path\u001b[49m\u001b[43m)\u001b[49m\n\u001b[1;32m      3\u001b[0m     full_points \u001b[38;5;241m=\u001b[39m np\u001b[38;5;241m.\u001b[39marray(full_mesh\u001b[38;5;241m.\u001b[39mpoints\u001b[38;5;241m.\u001b[39mtolist()) \n\u001b[1;32m      5\u001b[0m     points_array \u001b[38;5;241m=\u001b[39m full_points[all_index]\n",
      "File \u001b[0;32m~/Library/Python/3.9/lib/python/site-packages/pyvista/core/utilities/fileio.py:174\u001b[0m, in \u001b[0;36mread\u001b[0;34m(filename, force_ext, file_format, progress_bar)\u001b[0m\n\u001b[1;32m    172\u001b[0m filename \u001b[38;5;241m=\u001b[39m os\u001b[38;5;241m.\u001b[39mpath\u001b[38;5;241m.\u001b[39mabspath(os\u001b[38;5;241m.\u001b[39mpath\u001b[38;5;241m.\u001b[39mexpanduser(\u001b[38;5;28mstr\u001b[39m(filename)))\n\u001b[1;32m    173\u001b[0m \u001b[38;5;28;01mif\u001b[39;00m \u001b[38;5;129;01mnot\u001b[39;00m os\u001b[38;5;241m.\u001b[39mpath\u001b[38;5;241m.\u001b[39misfile(filename):\n\u001b[0;32m--> 174\u001b[0m     \u001b[38;5;28;01mraise\u001b[39;00m \u001b[38;5;167;01mFileNotFoundError\u001b[39;00m(\u001b[38;5;124mf\u001b[39m\u001b[38;5;124m'\u001b[39m\u001b[38;5;124mFile (\u001b[39m\u001b[38;5;132;01m{\u001b[39;00mfilename\u001b[38;5;132;01m}\u001b[39;00m\u001b[38;5;124m) not found\u001b[39m\u001b[38;5;124m'\u001b[39m)\n\u001b[1;32m    176\u001b[0m \u001b[38;5;66;03m# Read file using meshio.read if file_format is present\u001b[39;00m\n\u001b[1;32m    177\u001b[0m \u001b[38;5;28;01mif\u001b[39;00m file_format:\n",
      "\u001b[0;31mFileNotFoundError\u001b[0m: File (/Users/gyakusu/Morphing/data/random/Tetra_linspace0.vtu) not found"
     ]
    }
   ],
   "source": [
    "for i in range(100):\n",
    "    make_vtk_file(f'../data/random/Tetra_linspace{i}.vtu', f'../data/random/cage{i}.vtk', all_index, unique_triangles)"
   ]
  },
  {
   "cell_type": "code",
   "execution_count": null,
   "metadata": {},
   "outputs": [],
   "source": []
  },
  {
   "cell_type": "code",
   "execution_count": null,
   "metadata": {},
   "outputs": [],
   "source": []
  },
  {
   "cell_type": "code",
   "execution_count": null,
   "metadata": {},
   "outputs": [],
   "source": []
  },
  {
   "cell_type": "code",
   "execution_count": null,
   "metadata": {},
   "outputs": [],
   "source": []
  },
  {
   "cell_type": "code",
   "execution_count": null,
   "metadata": {},
   "outputs": [],
   "source": []
  },
  {
   "cell_type": "code",
   "execution_count": null,
   "metadata": {},
   "outputs": [],
   "source": []
  },
  {
   "cell_type": "code",
   "execution_count": null,
   "metadata": {},
   "outputs": [],
   "source": []
  },
  {
   "cell_type": "code",
   "execution_count": null,
   "metadata": {},
   "outputs": [],
   "source": []
  },
  {
   "cell_type": "code",
   "execution_count": null,
   "metadata": {},
   "outputs": [],
   "source": []
  },
  {
   "cell_type": "code",
   "execution_count": null,
   "metadata": {},
   "outputs": [],
   "source": []
  },
  {
   "cell_type": "code",
   "execution_count": null,
   "metadata": {},
   "outputs": [],
   "source": []
  }
 ],
 "metadata": {
  "kernelspec": {
   "display_name": "Python 3",
   "language": "python",
   "name": "python3"
  },
  "language_info": {
   "codemirror_mode": {
    "name": "ipython",
    "version": 3
   },
   "file_extension": ".py",
   "mimetype": "text/x-python",
   "name": "python",
   "nbconvert_exporter": "python",
   "pygments_lexer": "ipython3",
   "version": "3.9.6"
  }
 },
 "nbformat": 4,
 "nbformat_minor": 2
}
