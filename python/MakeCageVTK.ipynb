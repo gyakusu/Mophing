{
 "cells": [
  {
   "cell_type": "markdown",
   "metadata": {},
   "source": [
    "# 保持器のインデックスから新しいVTKファイルの作成"
   ]
  },
  {
   "cell_type": "code",
   "execution_count": 1,
   "metadata": {},
   "outputs": [],
   "source": [
    "import numpy as np\n",
    "import xml.etree.ElementTree as ET\n",
    "\n",
    "def read_sections_from_xml(file_path, section_name, exclude_key='never_used_key'):\n",
    "    tree = ET.parse(file_path)\n",
    "\n",
    "    sections = []\n",
    "\n",
    "    for t in tree.iter():\n",
    "        if t.tag != section_name:\n",
    "            continue\n",
    "        for k in t.iter():\n",
    "            if exclude_key in k.tag:\n",
    "                break\n",
    "            sections.extend(k.text.strip().split())\n",
    "\n",
    "    return np.array(sections, dtype=int)\n"
   ]
  },
  {
   "cell_type": "code",
   "execution_count": 2,
   "metadata": {},
   "outputs": [
    {
     "data": {
      "text/plain": [
       "((314,), (432,))"
      ]
     },
     "execution_count": 2,
     "metadata": {},
     "output_type": "execute_result"
    }
   ],
   "source": [
    "edge_index = read_sections_from_xml('../data/face_and_edge_index.xml', 'edge')\n",
    "face_index = read_sections_from_xml('../data/face_and_edge_index.xml', 'face', 'periodic')\n",
    "\n",
    "edge_index.shape, face_index.shape"
   ]
  },
  {
   "cell_type": "code",
   "execution_count": 3,
   "metadata": {},
   "outputs": [
    {
     "data": {
      "text/plain": [
       "(682,)"
      ]
     },
     "execution_count": 3,
     "metadata": {},
     "output_type": "execute_result"
    }
   ],
   "source": [
    "all_index = np.concatenate([edge_index, face_index])\n",
    "all_index = np.unique(all_index)\n",
    "all_index.shape"
   ]
  },
  {
   "cell_type": "code",
   "execution_count": null,
   "metadata": {},
   "outputs": [],
   "source": []
  },
  {
   "cell_type": "markdown",
   "metadata": {},
   "source": [
    "## VTKファイルから該当インデックスを含む面を取得"
   ]
  },
  {
   "cell_type": "code",
   "execution_count": 4,
   "metadata": {},
   "outputs": [
    {
     "data": {
      "text/plain": [
       "(7431, 3)"
      ]
     },
     "execution_count": 4,
     "metadata": {},
     "output_type": "execute_result"
    }
   ],
   "source": [
    "import pyvista as pv\n",
    "from matplotlib import pyplot as plt\n",
    "\n",
    "full_mesh = pv.read('../data/Tetra.vtu')\n",
    "full_points = np.array(full_mesh.points.tolist()) \n",
    "full_points.shape\n"
   ]
  },
  {
   "cell_type": "code",
   "execution_count": 5,
   "metadata": {},
   "outputs": [
    {
     "data": {
      "text/plain": [
       "(array([[ 0,  2,  1,  3],\n",
       "        [ 6,  5,  7,  4],\n",
       "        [ 7,  5,  6,  8],\n",
       "        [ 1,  2,  0,  9],\n",
       "        [ 7,  4,  5, 10]]),\n",
       " (35054, 4))"
      ]
     },
     "execution_count": 5,
     "metadata": {},
     "output_type": "execute_result"
    }
   ],
   "source": [
    "tetras = full_mesh.cells.reshape(-1, 5)[:,1:]\n",
    "tetras[:5], tetras.shape"
   ]
  },
  {
   "cell_type": "code",
   "execution_count": 6,
   "metadata": {},
   "outputs": [
    {
     "name": "stdout",
     "output_type": "stream",
     "text": [
      "{}\n"
     ]
    }
   ],
   "source": [
    "from collections import Counter\n",
    "counter = Counter(tuple(t) for t in tetras)\n",
    "duplicates = {t: count for t, count in counter.items() if count > 1}\n",
    "\n",
    "print(duplicates)\n"
   ]
  },
  {
   "cell_type": "code",
   "execution_count": 7,
   "metadata": {},
   "outputs": [
    {
     "data": {
      "text/plain": [
       "(array([[False, False, False, False],\n",
       "        [False, False, False, False],\n",
       "        [False, False, False, False],\n",
       "        ...,\n",
       "        [False, False, False, False],\n",
       "        [False, False, False, False],\n",
       "        [False, False, False, False]]),\n",
       " (35054, 4))"
      ]
     },
     "execution_count": 7,
     "metadata": {},
     "output_type": "execute_result"
    }
   ],
   "source": [
    "tetra_count = np.isin(tetras, all_index)\n",
    "tetra_count, tetra_count.shape"
   ]
  },
  {
   "cell_type": "code",
   "execution_count": 8,
   "metadata": {},
   "outputs": [
    {
     "data": {
      "image/png": "[encoded data removed]",
      "text/plain": [
       "<Figure size 1000x200 with 1 Axes>"
      ]
     },
     "metadata": {},
     "output_type": "display_data"
    }
   ],
   "source": [
    "plt.figure(figsize=(10, 2))\n",
    "plt.hist(tetra_count.sum(axis=1), bins=31)\n",
    "plt.show()\n"
   ]
  },
  {
   "cell_type": "code",
   "execution_count": 9,
   "metadata": {},
   "outputs": [
    {
     "data": {
      "text/plain": [
       "(array([[1072, 1074, 1317],\n",
       "        [1072, 1183, 1075],\n",
       "        [1074, 1075, 1072],\n",
       "        ...,\n",
       "        [7251, 7191, 7275],\n",
       "        [7275, 7192, 7276],\n",
       "        [7275, 7229, 7276]]),\n",
       " (1316, 3))"
      ]
     },
     "execution_count": 9,
     "metadata": {},
     "output_type": "execute_result"
    }
   ],
   "source": [
    "is_face = tetra_count.sum(axis=1) > 2\n",
    "surface_tetras = tetras[is_face]\n",
    "\n",
    "triangles_count = np.isin(surface_tetras, all_index)\n",
    "surface_triangles = surface_tetras[triangles_count].reshape(-1, 3)\n",
    "\n",
    "unique_triangles = np.unique(surface_triangles, axis=0)\n",
    "unique_triangles, unique_triangles.shape"
   ]
  },
  {
   "cell_type": "code",
   "execution_count": 10,
   "metadata": {},
   "outputs": [
    {
     "data": {
      "text/plain": [
       "((682, 3), (682,), (1316, 3))"
      ]
     },
     "execution_count": 10,
     "metadata": {},
     "output_type": "execute_result"
    }
   ],
   "source": [
    "points_array = full_points[all_index]\n",
    "index_array = np.arange(all_index.shape[0])\n",
    "triangles_array = np.array([np.where(all_index == t)[0][0] for t in unique_triangles.flatten()]).reshape(-1, 3)\n",
    "\n",
    "points_array.shape, index_array.shape, triangles_array.shape"
   ]
  },
  {
   "cell_type": "code",
   "execution_count": 11,
   "metadata": {},
   "outputs": [
    {
     "data": {
      "text/plain": [
       "array([[  0,   1,   7],\n",
       "       [  0,   4,   2],\n",
       "       [  1,   2,   0],\n",
       "       ...,\n",
       "       [679, 674, 680],\n",
       "       [680, 675, 681],\n",
       "       [680, 677, 681]])"
      ]
     },
     "execution_count": 11,
     "metadata": {},
     "output_type": "execute_result"
    }
   ],
   "source": [
    "triangles_array"
   ]
  },
  {
   "cell_type": "code",
   "execution_count": 12,
   "metadata": {},
   "outputs": [
    {
     "data": {
      "text/plain": [
       "1"
      ]
     },
     "execution_count": 12,
     "metadata": {},
     "output_type": "execute_result"
    }
   ],
   "source": [
    "import vtk\n",
    "\n",
    "# 仮のデータを作成\n",
    "\n",
    "# vtkPointsオブジェクトを作成\n",
    "points = vtk.vtkPoints()\n",
    "for point in points_array:\n",
    "    points.InsertNextPoint(point)\n",
    "\n",
    "# vtkCellArrayオブジェクトを作成\n",
    "triangles = vtk.vtkCellArray()\n",
    "for triangle in triangles_array:\n",
    "    triangles.InsertNextCell(3, triangle)\n",
    "\n",
    "# vtkPolyDataオブジェクトを作成\n",
    "polydata = vtk.vtkPolyData()\n",
    "polydata.SetPoints(points)\n",
    "polydata.SetPolys(triangles)\n",
    "\n",
    "# vtkPolyDataをファイルに書き込む\n",
    "writer = vtk.vtkPolyDataWriter()\n",
    "writer.SetFileName(\"../data/output.vtk\")\n",
    "writer.SetInputData(polydata)\n",
    "writer.Write()"
   ]
  },
  {
   "cell_type": "code",
   "execution_count": 13,
   "metadata": {},
   "outputs": [],
   "source": [
    "def make_vtk_file(origin_vtk_file_path, output_vtk_file_path, all_index, triangles_array):\n",
    "    full_mesh = pv.read(origin_vtk_file_path)\n",
    "    full_points = np.array(full_mesh.points.tolist()) \n",
    "\n",
    "    points_array = full_points[all_index]\n",
    "\n",
    "    triangles_array = np.array([np.where(all_index == t)[0][0] for t in triangles_array.flatten()]).reshape(-1, 3)\n",
    "\n",
    "    # vtkPointsオブジェクトを作成\n",
    "    points = vtk.vtkPoints()\n",
    "    for point in points_array:\n",
    "        points.InsertNextPoint(point)\n",
    "\n",
    "    # vtkCellArrayオブジェクトを作成\n",
    "    triangles = vtk.vtkCellArray()\n",
    "    for triangle in triangles_array:\n",
    "        triangles.InsertNextCell(3, triangle)\n",
    "\n",
    "    # vtkPolyDataオブジェクトを作成\n",
    "    polydata = vtk.vtkPolyData()\n",
    "    polydata.SetPoints(points)\n",
    "    polydata.SetPolys(triangles)\n",
    "\n",
    "    # vtkPolyDataをファイルに書き込む\n",
    "    writer = vtk.vtkPolyDataWriter()\n",
    "    writer.SetFileName(output_vtk_file_path)\n",
    "    writer.SetInputData(polydata)\n",
    "    writer.Write()\n"
   ]
  },
  {
   "cell_type": "code",
   "execution_count": 15,
   "metadata": {},
   "outputs": [],
   "source": [
    "make_vtk_file('../data/random/Tetra_linspace0.vtu', '../data/random/cage0.vtk', all_index, unique_triangles)\n"
   ]
  },
  {
   "cell_type": "code",
   "execution_count": 16,
   "metadata": {},
   "outputs": [],
   "source": [
    "for i in range(100):\n",
    "    make_vtk_file(f'../data/random/Tetra_linspace{i}.vtu', f'../data/random/cage{i}.vtk', all_index, unique_triangles)"
   ]
  },
  {
   "cell_type": "code",
   "execution_count": null,
   "metadata": {},
   "outputs": [],
   "source": []
  },
  {
   "cell_type": "code",
   "execution_count": null,
   "metadata": {},
   "outputs": [],
   "source": []
  },
  {
   "cell_type": "code",
   "execution_count": null,
   "metadata": {},
   "outputs": [],
   "source": []
  },
  {
   "cell_type": "code",
   "execution_count": null,
   "metadata": {},
   "outputs": [],
   "source": []
  },
  {
   "cell_type": "code",
   "execution_count": null,
   "metadata": {},
   "outputs": [],
   "source": []
  },
  {
   "cell_type": "code",
   "execution_count": null,
   "metadata": {},
   "outputs": [],
   "source": []
  },
  {
   "cell_type": "code",
   "execution_count": null,
   "metadata": {},
   "outputs": [],
   "source": []
  },
  {
   "cell_type": "code",
   "execution_count": null,
   "metadata": {},
   "outputs": [],
   "source": []
  },
  {
   "cell_type": "code",
   "execution_count": null,
   "metadata": {},
   "outputs": [],
   "source": []
  },
  {
   "cell_type": "code",
   "execution_count": null,
   "metadata": {},
   "outputs": [],
   "source": []
  },
  {
   "cell_type": "code",
   "execution_count": null,
   "metadata": {},
   "outputs": [],
   "source": []
  }
 ],
 "metadata": {
  "kernelspec": {
   "display_name": "Python 3",
   "language": "python",
   "name": "python3"
  },
  "language_info": {
   "codemirror_mode": {
    "name": "ipython",
    "version": 3
   },
   "file_extension": ".py",
   "mimetype": "text/x-python",
   "name": "python",
   "nbconvert_exporter": "python",
   "pygments_lexer": "ipython3",
   "version": "3.9.6"
  }
 },
 "nbformat": 4,
 "nbformat_minor": 2
}
