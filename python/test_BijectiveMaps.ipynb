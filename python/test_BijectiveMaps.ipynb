import unittest

def calculate_triangle_gradient(base, height):
    return (base * height) / 2

class TestTriangleGradient(unittest.TestCase):
    def test_calculate_triangle_gradient(self):
        # Test case 1: base = 4, height = 6
        self.assertEqual(calculate_triangle_gradient(4, 6), 12)

        # Test case 2: base = 5, height = 10
        self.assertEqual(calculate_triangle_gradient(5, 10), 25)

        # Test case 3: base = 8, height = 3
        self.assertEqual(calculate_triangle_gradient(8, 3), 12)

if __name__ == '__main__':
    unittest.main()