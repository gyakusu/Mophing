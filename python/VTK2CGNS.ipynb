{
 "cells": [
  {
   "cell_type": "code",
   "execution_count": 42,
   "metadata": {},
   "outputs": [],
   "source": [
    "import CGNS.MAP as MAP\n",
    "import CGNS.PAT.cgnsutils as cgnsutils\n"
   ]
  },
  {
   "cell_type": "code",
   "execution_count": null,
   "metadata": {},
   "outputs": [],
   "source": []
  },
  {
   "cell_type": "code",
   "execution_count": 43,
   "metadata": {},
   "outputs": [
    {
     "name": "stdout",
     "output_type": "stream",
     "text": [
      "/Base\n",
      "/Base/693A3T1X\n",
      "/Base/693A3T1X/693A3T1X\n",
      "/Base/693A3T1X/693A3T1X/ElementConnectivity\n",
      "/Base/693A3T1X/693A3T1X/ElementRange\n",
      "/Base/693A3T1X/GridCoordinates\n",
      "/Base/693A3T1X/GridCoordinates/CoordinateX\n",
      "/Base/693A3T1X/GridCoordinates/CoordinateY\n",
      "/Base/693A3T1X/GridCoordinates/CoordinateZ\n",
      "/Base/693A3T1X/StarZoneInfo\n",
      "/Base/693A3T1X/StarZoneInfo/ContinuumName\n",
      "/Base/693A3T1X/StarZoneInfo/RegionName\n",
      "/Base/693A3T1X/StarZoneInfo/RegionType\n",
      "/Base/693A3T1X/Zcon_693A3T1X\n",
      "/Base/693A3T1X/ZoneType\n",
      "/Base/DataClass\n",
      "/Base/DimensionalUnits\n",
      "/Base/DimensionalUnits/AdditionalUnits\n",
      "/Base/Export Info:\n",
      "/CGNSLibraryVersion\n"
     ]
    }
   ],
   "source": [
    "# CGNSファイルを開く\n",
    "(tree,links,paths) = MAP.load(r\"../data/star.cgns\")\n",
    "\n",
    "for p in cgnsutils.getAllPaths(tree): \n",
    "    print(p)"
   ]
  },
  {
   "cell_type": "code",
   "execution_count": 44,
   "metadata": {},
   "outputs": [
    {
     "data": {
      "text/plain": [
       "['/Base/693A3T1X/GridCoordinates']"
      ]
     },
     "execution_count": 44,
     "metadata": {},
     "output_type": "execute_result"
    }
   ],
   "source": [
    "coordinate_path = cgnsutils.getPathsByTypeSet(tree,[\"GridCoordinates_t\"])\n",
    "coordinate_path"
   ]
  },
  {
   "cell_type": "code",
   "execution_count": 45,
   "metadata": {},
   "outputs": [
    {
     "data": {
      "text/plain": [
       "['GridCoordinates',\n",
       " None,\n",
       " [['CoordinateX',\n",
       "   array([-0.001625  , -0.00159197, -0.00148924, ...,  0.00098468,\n",
       "           0.00102187,  0.00106625]),\n",
       "   [],\n",
       "   'DataArray_t'],\n",
       "  ['CoordinateY',\n",
       "   array([-0.00281458, -0.00275737, -0.00288872, ..., -0.00189155,\n",
       "          -0.00176994, -0.0018468 ]),\n",
       "   [],\n",
       "   'DataArray_t'],\n",
       "  ['CoordinateZ',\n",
       "   array([0.00338207, 0.00352493, 0.0035    , ..., 0.0002    , 0.0002    ,\n",
       "          0.0002    ]),\n",
       "   [],\n",
       "   'DataArray_t']],\n",
       " 'GridCoordinates_t']"
      ]
     },
     "execution_count": 45,
     "metadata": {},
     "output_type": "execute_result"
    }
   ],
   "source": [
    "GridCoordinates = cgnsutils.getNodeByPath(tree, coordinate_path[0])\n",
    "GridCoordinates"
   ]
  },
  {
   "cell_type": "code",
   "execution_count": 46,
   "metadata": {},
   "outputs": [
    {
     "data": {
      "text/plain": [
       "(7431,)"
      ]
     },
     "execution_count": 46,
     "metadata": {},
     "output_type": "execute_result"
    }
   ],
   "source": [
    "X = GridCoordinates[2][0][1]\n",
    "Y = GridCoordinates[2][1][1]\n",
    "Z = GridCoordinates[2][2][1]\n",
    "\n",
    "X.shape"
   ]
  },
  {
   "cell_type": "code",
   "execution_count": 47,
   "metadata": {},
   "outputs": [],
   "source": [
    "# X *= -1\n",
    "# Y *= -1\n",
    "\n",
    "# MAP.save(r\"../data/star2.cgns\", tree)\n"
   ]
  },
  {
   "cell_type": "code",
   "execution_count": 48,
   "metadata": {},
   "outputs": [
    {
     "data": {
      "text/plain": [
       "(7431, 3)"
      ]
     },
     "execution_count": 48,
     "metadata": {},
     "output_type": "execute_result"
    }
   ],
   "source": [
    "import vtk\n",
    "import numpy as np\n",
    "\n",
    "# Load the VTK file\n",
    "reader = vtk.vtkXMLUnstructuredGridReader()\n",
    "reader.SetFileName(\"../data/random/Tetra_linspace0.vtu\")\n",
    "reader.Update()\n",
    "\n",
    "# Get the output data\n",
    "data = reader.GetOutput()\n",
    "\n",
    "# Get the points (coordinates)\n",
    "points = data.GetPoints()\n",
    "\n",
    "# Extract the coordinates\n",
    "coordinates = []\n",
    "for i in range(points.GetNumberOfPoints()):\n",
    "    coordinate = points.GetPoint(i)\n",
    "    coordinates.append(coordinate)\n",
    "\n",
    "coordinates = np.array(coordinates)\n",
    "coordinates.shape\n"
   ]
  },
  {
   "cell_type": "code",
   "execution_count": 49,
   "metadata": {},
   "outputs": [
    {
     "data": {
      "text/plain": [
       "(array([-0.001625  , -0.00159197, -0.00148924, -0.001625  , -0.00154223,\n",
       "        -0.00147166, -0.0014925 , -0.00136781, -0.00143922, -0.00155507]),\n",
       " array([-0.001625  , -0.00159197, -0.00148924, -0.001625  , -0.00154223,\n",
       "        -0.00147473, -0.0014925 , -0.00136781, -0.00143922, -0.00155753]))"
      ]
     },
     "execution_count": 49,
     "metadata": {},
     "output_type": "execute_result"
    }
   ],
   "source": [
    "X[:10], -coordinates[:10, 0]"
   ]
  },
  {
   "cell_type": "code",
   "execution_count": 50,
   "metadata": {},
   "outputs": [
    {
     "data": {
      "image/png": "[encoded data removed]",
      "text/plain": [
       "<Figure size 1000x200 with 1 Axes>"
      ]
     },
     "metadata": {},
     "output_type": "display_data"
    }
   ],
   "source": [
    "from matplotlib import pyplot as plt\n",
    "\n",
    "plt.figure(figsize=(10, 2))\n",
    "plt.hist(X+coordinates[:, 0], bins=100)\n",
    "plt.show()"
   ]
  },
  {
   "cell_type": "code",
   "execution_count": null,
   "metadata": {},
   "outputs": [],
   "source": []
  },
  {
   "cell_type": "code",
   "execution_count": 51,
   "metadata": {},
   "outputs": [],
   "source": [
    "X += -X-coordinates[:, 0] + 0\n",
    "Y += -Y-coordinates[:, 1] + 0\n",
    "Z += -Z+coordinates[:, 2] + 0\n"
   ]
  },
  {
   "cell_type": "code",
   "execution_count": 52,
   "metadata": {},
   "outputs": [
    {
     "data": {
      "image/png": "[encoded data removed]",
      "text/plain": [
       "<Figure size 1000x200 with 1 Axes>"
      ]
     },
     "metadata": {},
     "output_type": "display_data"
    }
   ],
   "source": [
    "plt.figure(figsize=(10, 2))\n",
    "plt.hist(X+coordinates[:, 0], bins=100)\n",
    "plt.show()"
   ]
  },
  {
   "cell_type": "code",
   "execution_count": 53,
   "metadata": {},
   "outputs": [],
   "source": [
    "MAP.save(r\"../data/star_linspace0.cgns\", tree)\n"
   ]
  },
  {
   "cell_type": "code",
   "execution_count": 54,
   "metadata": {},
   "outputs": [
    {
     "name": "stdout",
     "output_type": "stream",
     "text": [
      "0\n",
      "10\n",
      "20\n",
      "30\n",
      "40\n",
      "50\n",
      "60\n",
      "70\n",
      "80\n",
      "90\n"
     ]
    }
   ],
   "source": [
    "output_span = 10\n",
    "\n",
    "for i in range(100):\n",
    "    reader = vtk.vtkXMLUnstructuredGridReader()\n",
    "    reader.SetFileName(f\"../data/random/Tetra_linspace{i}.vtu\")\n",
    "    reader.Update()\n",
    "\n",
    "    data = reader.GetOutput()\n",
    "    points = data.GetPoints()\n",
    "\n",
    "    coordinates = []\n",
    "    for j in range(points.GetNumberOfPoints()):\n",
    "        coordinate = points.GetPoint(j)\n",
    "        coordinates.append(coordinate)\n",
    "\n",
    "    coordinates = np.array(coordinates)\n",
    "\n",
    "    X += -X-coordinates[:, 0]\n",
    "    Y += -Y-coordinates[:, 1]\n",
    "    Z += -Z+coordinates[:, 2]\n",
    "\n",
    "    MAP.save(r\"../data/random/star_linspace\"+str(i)+\".cgns\", tree)\n",
    "\n",
    "    if i % output_span == 0:\n",
    "        print(i)\n",
    "\n"
   ]
  },
  {
   "cell_type": "code",
   "execution_count": null,
   "metadata": {},
   "outputs": [],
   "source": []
  },
  {
   "cell_type": "code",
   "execution_count": null,
   "metadata": {},
   "outputs": [],
   "source": []
  },
  {
   "cell_type": "code",
   "execution_count": null,
   "metadata": {},
   "outputs": [],
   "source": []
  }
 ],
 "metadata": {
  "kernelspec": {
   "display_name": "Python 3",
   "language": "python",
   "name": "python3"
  },
  "language_info": {
   "codemirror_mode": {
    "name": "ipython",
    "version": 3
   },
   "file_extension": ".py",
   "mimetype": "text/x-python",
   "name": "python",
   "nbconvert_exporter": "python",
   "pygments_lexer": "ipython3",
   "version": "3.9.6"
  }
 },
 "nbformat": 4,
 "nbformat_minor": 2
}
