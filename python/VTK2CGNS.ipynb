{
 "cells": [
  {
   "cell_type": "code",
   "execution_count": 1,
   "metadata": {},
   "outputs": [],
   "source": [
    "import CGNS.MAP as MAP\n",
    "import CGNS.PAT.cgnsutils as cgnsutils\n"
   ]
  },
  {
   "cell_type": "code",
   "execution_count": null,
   "metadata": {},
   "outputs": [],
   "source": []
  },
  {
   "cell_type": "code",
   "execution_count": 2,
   "metadata": {},
   "outputs": [
    {
     "name": "stdout",
     "output_type": "stream",
     "text": [
      "/Base\n",
      "/Base/693A3T1X\n",
      "/Base/693A3T1X/693A3T1X\n",
      "/Base/693A3T1X/693A3T1X/ElementConnectivity\n",
      "/Base/693A3T1X/693A3T1X/ElementRange\n",
      "/Base/693A3T1X/GridCoordinates\n",
      "/Base/693A3T1X/GridCoordinates/CoordinateX\n",
      "/Base/693A3T1X/GridCoordinates/CoordinateY\n",
      "/Base/693A3T1X/GridCoordinates/CoordinateZ\n",
      "/Base/693A3T1X/Solution00001\n",
      "/Base/693A3T1X/Solution00001/GridLocation\n",
      "/Base/693A3T1X/Solution00001/PointRange\n",
      "/Base/693A3T1X/Solution00001/VelocityMagnitude\n",
      "/Base/693A3T1X/Solution00001/VelocityMagnitude/DimensionalExponents\n",
      "/Base/693A3T1X/Solution00001/VelocityX\n",
      "/Base/693A3T1X/Solution00001/VelocityX/DimensionalExponents\n",
      "/Base/693A3T1X/Solution00001/VelocityY\n",
      "/Base/693A3T1X/Solution00001/VelocityY/DimensionalExponents\n",
      "/Base/693A3T1X/Solution00001/VelocityZ\n",
      "/Base/693A3T1X/Solution00001/VelocityZ/DimensionalExponents\n",
      "/Base/693A3T1X/Solution00001/Velocity_0\n",
      "/Base/693A3T1X/Solution00001/Velocity_0/DimensionalExponents\n",
      "/Base/693A3T1X/Solution00001/Velocity_1\n",
      "/Base/693A3T1X/Solution00001/Velocity_1/DimensionalExponents\n",
      "/Base/693A3T1X/Solution00001/Velocity_2\n",
      "/Base/693A3T1X/Solution00001/Velocity_2/DimensionalExponents\n",
      "/Base/693A3T1X/Solution00001/Velocity_Laboratory.Ball_0\n",
      "/Base/693A3T1X/Solution00001/Velocity_Laboratory.Ball_0/DimensionalExponents\n",
      "/Base/693A3T1X/Solution00001/Velocity_Laboratory.Ball_1\n",
      "/Base/693A3T1X/Solution00001/Velocity_Laboratory.Ball_1/DimensionalExponents\n",
      "/Base/693A3T1X/Solution00001/Velocity_Laboratory.Ball_2\n",
      "/Base/693A3T1X/Solution00001/Velocity_Laboratory.Ball_2/DimensionalExponents\n",
      "/Base/693A3T1X/StarZoneInfo\n",
      "/Base/693A3T1X/StarZoneInfo/ContinuumName\n",
      "/Base/693A3T1X/StarZoneInfo/RegionName\n",
      "/Base/693A3T1X/StarZoneInfo/RegionType\n",
      "/Base/693A3T1X/Zcon_693A3T1X\n",
      "/Base/693A3T1X/Zcon_693A3T1X/interface1\n",
      "/Base/693A3T1X/Zcon_693A3T1X/interface1/GridConnectivityType\n",
      "/Base/693A3T1X/Zcon_693A3T1X/interface1/GridLocation\n",
      "/Base/693A3T1X/Zcon_693A3T1X/interface1/PointList\n",
      "/Base/693A3T1X/Zcon_693A3T1X/interface1/PointListDonor\n",
      "/Base/693A3T1X/ZoneIterativeData\n",
      "/Base/693A3T1X/ZoneIterativeData/FlowSolutionPointers\n",
      "/Base/693A3T1X/ZoneType\n",
      "/Base/DataClass\n",
      "/Base/DimensionalUnits\n",
      "/Base/DimensionalUnits/AdditionalUnits\n",
      "/Base/Export Info:\n",
      "/Base/TimeIterValues\n",
      "/Base/TimeIterValues/IterationValues\n",
      "/Base/TimeIterValues/TimeValues\n",
      "/CGNSLibraryVersion\n"
     ]
    }
   ],
   "source": [
    "# CGNSファイルを開く\n",
    "(tree,links,paths) = MAP.load(r\"../data/CFD/star_master4.cgns\")\n",
    "\n",
    "for p in cgnsutils.getAllPaths(tree): \n",
    "    print(p)"
   ]
  },
  {
   "cell_type": "code",
   "execution_count": 3,
   "metadata": {},
   "outputs": [
    {
     "data": {
      "text/plain": [
       "['/Base/693A3T1X/GridCoordinates']"
      ]
     },
     "execution_count": 3,
     "metadata": {},
     "output_type": "execute_result"
    }
   ],
   "source": [
    "coordinate_path = cgnsutils.getPathsByTypeSet(tree,[\"GridCoordinates_t\"])\n",
    "coordinate_path"
   ]
  },
  {
   "cell_type": "code",
   "execution_count": 4,
   "metadata": {},
   "outputs": [
    {
     "data": {
      "text/plain": [
       "['GridCoordinates',\n",
       " None,\n",
       " [['CoordinateX',\n",
       "   array([-0.00207055, -0.00205918, -0.00212695, ..., -0.00196359,\n",
       "          -0.0019563 , -0.0019267 ]),\n",
       "   [],\n",
       "   'DataArray_t'],\n",
       "  ['CoordinateY',\n",
       "   array([-0.00170458, -0.00174347, -0.00174802, ..., -0.00263587,\n",
       "          -0.00262608, -0.00258635]),\n",
       "   [],\n",
       "   'DataArray_t'],\n",
       "  ['CoordinateZ',\n",
       "   array([0.00178968, 0.00177549, 0.00170072, ..., 0.00225614, 0.00236081,\n",
       "          0.00245192]),\n",
       "   [],\n",
       "   'DataArray_t']],\n",
       " 'GridCoordinates_t']"
      ]
     },
     "execution_count": 4,
     "metadata": {},
     "output_type": "execute_result"
    }
   ],
   "source": [
    "GridCoordinates = cgnsutils.getNodeByPath(tree, coordinate_path[0])\n",
    "GridCoordinates"
   ]
  },
  {
   "cell_type": "code",
   "execution_count": 5,
   "metadata": {},
   "outputs": [
    {
     "data": {
      "text/plain": [
       "(8798,)"
      ]
     },
     "execution_count": 5,
     "metadata": {},
     "output_type": "execute_result"
    }
   ],
   "source": [
    "X = GridCoordinates[2][0][1]\n",
    "Y = GridCoordinates[2][1][1]\n",
    "Z = GridCoordinates[2][2][1]\n",
    "\n",
    "X.shape"
   ]
  },
  {
   "cell_type": "code",
   "execution_count": 6,
   "metadata": {},
   "outputs": [
    {
     "data": {
      "text/plain": [
       "(-0.002296600151657822, -0.0009881141078564555, 0.0020173443129170164)"
      ]
     },
     "execution_count": 6,
     "metadata": {},
     "output_type": "execute_result"
    }
   ],
   "source": [
    "X.mean(), Y.mean(), Z.mean()"
   ]
  },
  {
   "cell_type": "code",
   "execution_count": 7,
   "metadata": {},
   "outputs": [
    {
     "name": "stdout",
     "output_type": "stream",
     "text": [
      "Solution00001\n",
      "None\n",
      "[['PointRange', array([[    1, 35054]]), [], 'IndexRange_t'], ['GridLocation', array([b'C', b'e', b'l', b'l', b'C', b'e', b'n', b't', b'e', b'r'],\n",
      "      dtype='|S1'), [], 'GridLocation_t'], ['VelocityX', array([8.23068902, 8.45226001, 9.89307624, ..., 1.13296677, 1.34246171,\n",
      "       1.26448624]), [['DimensionalExponents', array([ 0.,  1., -1.,  0.,  0.], dtype=float32), [], 'DimensionalExponents_t']], 'DataArray_t'], ['VelocityY', array([-5.48879539, -5.719505  , -6.79056796, ..., -1.00042259,\n",
      "       -1.05540049, -0.97872753]), [['DimensionalExponents', array([ 0.,  1., -1.,  0.,  0.], dtype=float32), [], 'DimensionalExponents_t']], 'DataArray_t'], ['VelocityZ', array([-1.3820294 , -1.7024699 , -1.99293544, ...,  1.88961681,\n",
      "        1.88499605,  1.891491  ]), [['DimensionalExponents', array([ 0.,  1., -1.,  0.,  0.], dtype=float32), [], 'DimensionalExponents_t']], 'DataArray_t'], ['VelocityMagnitude', array([ 9.9890501 , 10.34658593, 12.16373965, ...,  2.41973361,\n",
      "        2.54347867,  2.47680666]), [['DimensionalExponents', array([ 0.,  1., -1.,  0.,  0.], dtype=float32), [], 'DimensionalExponents_t']], 'DataArray_t'], ['Velocity_0', array([8.23068902, 8.45226001, 9.89307624, ..., 1.13296677, 1.34246171,\n",
      "       1.26448624]), [['DimensionalExponents', array([ 0.,  1., -1.,  0.,  0.], dtype=float32), [], 'DimensionalExponents_t']], 'DataArray_t'], ['Velocity_1', array([-5.48879539, -5.719505  , -6.79056796, ..., -1.00042259,\n",
      "       -1.05540049, -0.97872753]), [['DimensionalExponents', array([ 0.,  1., -1.,  0.,  0.], dtype=float32), [], 'DimensionalExponents_t']], 'DataArray_t'], ['Velocity_2', array([-1.3820294 , -1.7024699 , -1.99293544, ...,  1.88961681,\n",
      "        1.88499605,  1.891491  ]), [['DimensionalExponents', array([ 0.,  1., -1.,  0.,  0.], dtype=float32), [], 'DimensionalExponents_t']], 'DataArray_t'], ['Velocity_Laboratory.Ball_0', array([ 8.29825751,  8.59782419, 10.15169376, ...,  1.36715167,\n",
      "        1.50055762,  1.39928342]), [['DimensionalExponents', array([ 0.,  1., -1.,  0.,  0.], dtype=float32), [], 'DimensionalExponents_t']], 'DataArray_t'], ['Velocity_Laboratory.Ball_1', array([5.54425678, 5.71035924, 6.64636783, ..., 0.30656108, 0.47539819,\n",
      "       0.4336364 ]), [['DimensionalExponents', array([ 0.,  1., -1.,  0.,  0.], dtype=float32), [], 'DimensionalExponents_t']], 'DataArray_t'], ['Velocity_Laboratory.Ball_2', array([-0.42574737, -0.72184283, -0.85174571, ...,  1.97282219,\n",
      "        1.99790068,  1.99713209]), [['DimensionalExponents', array([ 0.,  1., -1.,  0.,  0.], dtype=float32), [], 'DimensionalExponents_t']], 'DataArray_t']]\n",
      "FlowSolution_t\n"
     ]
    }
   ],
   "source": [
    "for t in tree[2][1][2][1][2][5]:\n",
    "    print(t)"
   ]
  },
  {
   "cell_type": "code",
   "execution_count": 8,
   "metadata": {},
   "outputs": [
    {
     "name": "stdout",
     "output_type": "stream",
     "text": [
      "/Base\n",
      "/Base/693A3T1X\n",
      "/Base/693A3T1X/693A3T1X\n",
      "/Base/693A3T1X/693A3T1X/ElementConnectivity\n",
      "/Base/693A3T1X/693A3T1X/ElementRange\n",
      "/Base/693A3T1X/GridCoordinates\n",
      "/Base/693A3T1X/GridCoordinates/CoordinateX\n",
      "/Base/693A3T1X/GridCoordinates/CoordinateY\n",
      "/Base/693A3T1X/GridCoordinates/CoordinateZ\n",
      "/Base/693A3T1X/StarZoneInfo\n",
      "/Base/693A3T1X/StarZoneInfo/ContinuumName\n",
      "/Base/693A3T1X/StarZoneInfo/RegionName\n",
      "/Base/693A3T1X/StarZoneInfo/RegionType\n",
      "/Base/693A3T1X/Zcon_693A3T1X\n",
      "/Base/693A3T1X/Zcon_693A3T1X/interface1\n",
      "/Base/693A3T1X/Zcon_693A3T1X/interface1/GridConnectivityType\n",
      "/Base/693A3T1X/Zcon_693A3T1X/interface1/GridLocation\n",
      "/Base/693A3T1X/Zcon_693A3T1X/interface1/PointList\n",
      "/Base/693A3T1X/Zcon_693A3T1X/interface1/PointListDonor\n",
      "/Base/693A3T1X/ZoneIterativeData\n",
      "/Base/693A3T1X/ZoneIterativeData/FlowSolutionPointers\n",
      "/Base/693A3T1X/ZoneType\n",
      "/Base/DataClass\n",
      "/Base/DimensionalUnits\n",
      "/Base/DimensionalUnits/AdditionalUnits\n",
      "/Base/Export Info:\n",
      "/Base/TimeIterValues\n",
      "/Base/TimeIterValues/IterationValues\n",
      "/Base/TimeIterValues/TimeValues\n",
      "/CGNSLibraryVersion\n"
     ]
    }
   ],
   "source": [
    "tree[2][1][2][1][2][5] = []\n",
    "\n",
    "for p in cgnsutils.getAllPaths(tree): \n",
    "    print(p)"
   ]
  },
  {
   "cell_type": "code",
   "execution_count": 9,
   "metadata": {},
   "outputs": [],
   "source": [
    "# X *= -1\n",
    "# Y *= -1\n",
    "\n",
    "# MAP.save(r\"../data/star_7431.cgns\", tree)\n",
    "\n"
   ]
  },
  {
   "cell_type": "code",
   "execution_count": 10,
   "metadata": {},
   "outputs": [
    {
     "data": {
      "text/plain": [
       "(8798, 3)"
      ]
     },
     "execution_count": 10,
     "metadata": {},
     "output_type": "execute_result"
    }
   ],
   "source": [
    "import numpy as np\n",
    "import pyvista as pv\n",
    "\n",
    "file_name = lambda i: f'../data/CFD/random/CFD4_{i}.vtu'\n",
    "cgns_name = lambda i: file_name(i).replace('.vtu', '.cgns')\n",
    "\n",
    "points = pv.read(file_name(0)).points\n",
    "points.shape\n"
   ]
  },
  {
   "cell_type": "code",
   "execution_count": 11,
   "metadata": {},
   "outputs": [
    {
     "data": {
      "text/plain": [
       "(8798, 3)"
      ]
     },
     "execution_count": 11,
     "metadata": {},
     "output_type": "execute_result"
    }
   ],
   "source": [
    "coordinates = np.array(points)\n",
    "coordinates.shape\n"
   ]
  },
  {
   "cell_type": "code",
   "execution_count": 12,
   "metadata": {},
   "outputs": [
    {
     "data": {
      "text/plain": [
       "(array([-0.00207055, -0.00205918, -0.00212695, -0.00217029, -0.0020511 ,\n",
       "        -0.00221302, -0.00221635, -0.00224198, -0.00213583, -0.00206075]),\n",
       " array([-0.00075026, -0.00081016, -0.00079128, -0.00073953, -0.00073749,\n",
       "        -0.00071308, -0.00079333, -0.00075929, -0.00071824, -0.00078118],\n",
       "       dtype=float32))"
      ]
     },
     "execution_count": 12,
     "metadata": {},
     "output_type": "execute_result"
    }
   ],
   "source": [
    "X[:10], coordinates[:10, 0]"
   ]
  },
  {
   "cell_type": "code",
   "execution_count": 13,
   "metadata": {},
   "outputs": [
    {
     "data": {
      "text/plain": [
       "(array([-0.00170458, -0.00174347, -0.00174802, -0.00174004, -0.00167153,\n",
       "        -0.00172533, -0.00179173, -0.00175955, -0.00169046, -0.00169676]),\n",
       " array([0.00266009, 0.00265194, 0.00270751, 0.00271578, 0.00262814,\n",
       "        0.00273581, 0.00276512, 0.00277466, 0.00267257, 0.00264236],\n",
       "       dtype=float32))"
      ]
     },
     "execution_count": 13,
     "metadata": {},
     "output_type": "execute_result"
    }
   ],
   "source": [
    "Y[:10], coordinates[:10, 1]"
   ]
  },
  {
   "cell_type": "code",
   "execution_count": 14,
   "metadata": {},
   "outputs": [
    {
     "data": {
      "text/plain": [
       "(array([0.00178968, 0.00177549, 0.00170072, 0.00175939, 0.00173112,\n",
       "        0.00168638, 0.00173094, 0.00164009, 0.00167575, 0.00166168]),\n",
       " array([0.00187965, 0.00183411, 0.00176667, 0.00183973, 0.00181716,\n",
       "        0.00175328, 0.00179891, 0.00169974, 0.00175307, 0.00172874],\n",
       "       dtype=float32))"
      ]
     },
     "execution_count": 14,
     "metadata": {},
     "output_type": "execute_result"
    }
   ],
   "source": [
    "Z[:10], coordinates[:10, 2]"
   ]
  },
  {
   "cell_type": "code",
   "execution_count": 15,
   "metadata": {},
   "outputs": [
    {
     "data": {
      "text/plain": [
       "(0.0020173443129170164, -1.2678902451740098e-05)"
      ]
     },
     "execution_count": 15,
     "metadata": {},
     "output_type": "execute_result"
    }
   ],
   "source": [
    "Z.mean(), (Z-coordinates[:,2]).mean()"
   ]
  },
  {
   "cell_type": "code",
   "execution_count": 16,
   "metadata": {},
   "outputs": [
    {
     "data": {
      "image/png": "[encoded data removed]",
      "text/plain": [
       "<Figure size 1000x200 with 1 Axes>"
      ]
     },
     "metadata": {},
     "output_type": "display_data"
    }
   ],
   "source": [
    "from matplotlib import pyplot as plt\n",
    "\n",
    "plt.figure(figsize=(10, 2))\n",
    "plt.hist(X-coordinates[:, 0], bins=100)\n",
    "plt.show()"
   ]
  },
  {
   "cell_type": "code",
   "execution_count": null,
   "metadata": {},
   "outputs": [],
   "source": []
  },
  {
   "cell_type": "code",
   "execution_count": 17,
   "metadata": {},
   "outputs": [],
   "source": [
    "X += -X+coordinates[:, 0] + 0\n",
    "Y += -Y+coordinates[:, 1] + 0\n",
    "Z += -Z+coordinates[:, 2] + 0\n"
   ]
  },
  {
   "cell_type": "code",
   "execution_count": 18,
   "metadata": {},
   "outputs": [
    {
     "data": {
      "image/png": "[encoded data removed]",
      "text/plain": [
       "<Figure size 1000x200 with 1 Axes>"
      ]
     },
     "metadata": {},
     "output_type": "display_data"
    }
   ],
   "source": [
    "plt.figure(figsize=(10, 2))\n",
    "plt.hist(X-coordinates[:, 0], bins=100)\n",
    "plt.show()"
   ]
  },
  {
   "cell_type": "code",
   "execution_count": 19,
   "metadata": {},
   "outputs": [
    {
     "ename": "",
     "evalue": "",
     "output_type": "error",
     "traceback": [
      "\u001b[1;31m現在のセルまたは前のセルでコードを実行中に、カーネル (Kernel) がクラッシュしました。\n",
      "\u001b[1;31mエラーの原因を特定するには、セル内のコードを確認してください。\n",
      "\u001b[1;31m詳細については<a href='https://aka.ms/vscodeJupyterKernelCrash'>こちら</a>をクリックします。\n",
      "\u001b[1;31m詳細については、Jupyter <a href='command:jupyter.viewOutput'>ログ</a> を参照してください。"
     ]
    }
   ],
   "source": [
    "MAP.save(cgns_name(0), tree)\n"
   ]
  },
  {
   "cell_type": "code",
   "execution_count": null,
   "metadata": {},
   "outputs": [],
   "source": [
    "for i in range(100):\n",
    "    points = pv.read(file_name(i)).points\n",
    "    coordinates = np.array(points)\n",
    "    \n",
    "    X += -X+coordinates[:, 0]\n",
    "    Y += -Y+coordinates[:, 1]\n",
    "    Z += -Z+coordinates[:, 2]\n",
    "    \n",
    "    MAP.save(cgns_name(i) , tree)\n",
    "    "
   ]
  },
  {
   "cell_type": "code",
   "execution_count": null,
   "metadata": {},
   "outputs": [],
   "source": []
  },
  {
   "cell_type": "code",
   "execution_count": null,
   "metadata": {},
   "outputs": [],
   "source": []
  },
  {
   "cell_type": "code",
   "execution_count": null,
   "metadata": {},
   "outputs": [],
   "source": []
  }
 ],
 "metadata": {
  "kernelspec": {
   "display_name": "Python 3",
   "language": "python",
   "name": "python3"
  },
  "language_info": {
   "codemirror_mode": {
    "name": "ipython",
    "version": 3
   },
   "file_extension": ".py",
   "mimetype": "text/x-python",
   "name": "python",
   "nbconvert_exporter": "python",
   "pygments_lexer": "ipython3",
   "version": "3.9.6"
  }
 },
 "nbformat": 4,
 "nbformat_minor": 2
}
