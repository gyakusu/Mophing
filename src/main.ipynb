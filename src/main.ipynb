{
 "cells": [
  {
   "cell_type": "code",
   "execution_count": 9,
   "metadata": {},
   "outputs": [
    {
     "name": "stdout",
     "output_type": "stream",
     "text": [
      "⚠️  Warning: You're building a library without activating pyo3's `extension-module` feature. See https://pyo3.rs/v0.21.2/building_and_distribution.html#linking\n",
      "🔗 Found pyo3 bindings\n",
      "🐍 Found CPython 3.12 at /Users/gyakusu/Morphing/.env/bin/python\n",
      "\u001b[1m\u001b[32m    Finished\u001b[0m release [optimized] target(s) in 0.21s\n",
      "📦 Built wheel for CPython 3.12 to /var/folders/w_/pg1jg9jx7hgfsps7wys8dmfm0000gn/T/.tmpq5Jfj4/morphing-0.1.0-cp312-cp312-macosx_11_0_arm64.whl\n",
      "✏️  Setting installed package as editable\n",
      "🛠 Installed morphing-0.1.0\n"
     ]
    }
   ],
   "source": [
    "# `maturin develop` command will install the package in the current virtualenv\n",
    "!cd ../ && maturin develop --release"
   ]
  },
  {
   "cell_type": "code",
   "execution_count": 10,
   "metadata": {},
   "outputs": [],
   "source": [
    "from morphing.morphing import CageParameter, Brg"
   ]
  },
  {
   "cell_type": "code",
   "execution_count": 11,
   "metadata": {},
   "outputs": [],
   "source": [
    "cage = CageParameter(2.345e-3,2.850e-3,0.93e-3,2.10e-3,0.10e-3,0.825e-3,1.70e-3,1.20e-3,2.45e-3,0.152e-3)\n",
    "brg  = Brg(\"../data/FEM/FEM2.vtu\", \"../data/FEM/index2.xml\", cage)\n",
    "brg_std = brg.std()\n"
   ]
  },
  {
   "cell_type": "code",
   "execution_count": 12,
   "metadata": {},
   "outputs": [],
   "source": [
    "brg.linspace_all()\n"
   ]
  },
  {
   "cell_type": "code",
   "execution_count": 13,
   "metadata": {},
   "outputs": [],
   "source": [
    "for _ in range(50):\n",
    "    brg.smooth_face()"
   ]
  },
  {
   "cell_type": "code",
   "execution_count": 14,
   "metadata": {},
   "outputs": [],
   "source": [
    "for _ in range(10):\n",
    "    brg.smooth_ball()\n",
    "    brg.smooth_inner()"
   ]
  },
  {
   "cell_type": "code",
   "execution_count": 15,
   "metadata": {},
   "outputs": [
    {
     "name": "stdout",
     "output_type": "stream",
     "text": [
      "12130201331321122223122021113311231120212033303321301333\n",
      "Success to flip negative volume\n",
      "12\n",
      "12\n",
      "1\n",
      "1\n",
      "1\n",
      "1\n",
      "1\n",
      "1\n",
      "1\n",
      "There are no negative volume tetras.\n",
      "There are no negative volume tetras.\n"
     ]
    }
   ],
   "source": [
    "for _ in range(50):\n",
    "    success = brg.flip_with_scale(brg_std, 0.1)\n",
    "    if success:\n",
    "        break\n",
    "\n",
    "finish = False\n",
    "\n",
    "for _ in range(50):\n",
    "    success = brg.flip_sphire_with_scale(brg_std, 0.01)\n",
    "    if success:\n",
    "        finish = True\n",
    "        break\n",
    "\n",
    "if not finish:\n",
    "    print(\"Failed to flip negative volume\")\n",
    "else:\n",
    "    print(\"Success to flip negative volume\")"
   ]
  },
  {
   "cell_type": "code",
   "execution_count": 16,
   "metadata": {},
   "outputs": [
    {
     "name": "stdout",
     "output_type": "stream",
     "text": [
      "The new file has been created: ../data/FEM/FEM2_smoothed.vtu\n"
     ]
    }
   ],
   "source": [
    "brg.write_vtk_from_base(\"../data/FEM/FEM2.vtu\", \"../data/FEM/FEM2_smoothed.vtu\")"
   ]
  },
  {
   "cell_type": "code",
   "execution_count": null,
   "metadata": {},
   "outputs": [],
   "source": []
  },
  {
   "cell_type": "code",
   "execution_count": null,
   "metadata": {},
   "outputs": [],
   "source": []
  },
  {
   "cell_type": "code",
   "execution_count": null,
   "metadata": {},
   "outputs": [],
   "source": []
  },
  {
   "cell_type": "code",
   "execution_count": null,
   "metadata": {},
   "outputs": [],
   "source": []
  },
  {
   "cell_type": "code",
   "execution_count": null,
   "metadata": {},
   "outputs": [],
   "source": []
  },
  {
   "cell_type": "code",
   "execution_count": null,
   "metadata": {},
   "outputs": [],
   "source": []
  },
  {
   "cell_type": "code",
   "execution_count": null,
   "metadata": {},
   "outputs": [],
   "source": []
  }
 ],
 "metadata": {
  "kernelspec": {
   "display_name": "Python 3",
   "language": "python",
   "name": "python3"
  },
  "language_info": {
   "codemirror_mode": {
    "name": "ipython",
    "version": 3
   },
   "file_extension": ".py",
   "mimetype": "text/x-python",
   "name": "python",
   "nbconvert_exporter": "python",
   "pygments_lexer": "ipython3",
   "version": "3.12.3"
  }
 },
 "nbformat": 4,
 "nbformat_minor": 2
}
