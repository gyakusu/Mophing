{
 "cells": [
  {
   "cell_type": "code",
   "execution_count": null,
   "metadata": {},
   "outputs": [],
   "source": [
    "# `maturin develop` command will install the package in the current virtualenv\n",
    "!cd ../ && maturin develop"
   ]
  },
  {
   "cell_type": "code",
   "execution_count": 1,
   "metadata": {},
   "outputs": [],
   "source": [
    "from morphing.morphing import CageParameter, Brg"
   ]
  },
  {
   "cell_type": "code",
   "execution_count": 2,
   "metadata": {},
   "outputs": [],
   "source": [
    "cage = CageParameter(2.345e-3,2.850e-3,0.93e-3,2.10e-3,0.10e-3,0.825e-3,1.70e-3,1.20e-3,2.45e-3,0.152e-3)\n",
    "brg  = Brg(\"../data/FEM/FEM2.vtu\", \"../data/FEM/index2.xml\", cage)\n",
    "brg_std = brg.std()\n"
   ]
  },
  {
   "cell_type": "code",
   "execution_count": 3,
   "metadata": {},
   "outputs": [],
   "source": [
    "brg.linspace_all()\n"
   ]
  },
  {
   "cell_type": "code",
   "execution_count": 4,
   "metadata": {},
   "outputs": [],
   "source": [
    "for _ in range(50):\n",
    "    brg.smooth_face()"
   ]
  },
  {
   "cell_type": "code",
   "execution_count": 5,
   "metadata": {},
   "outputs": [],
   "source": [
    "for _ in range(10):\n",
    "    brg.smooth_ball()\n",
    "    brg.smooth_inner()"
   ]
  },
  {
   "cell_type": "code",
   "execution_count": 6,
   "metadata": {},
   "outputs": [
    {
     "name": "stdout",
     "output_type": "stream",
     "text": [
      "1233020133132122223122021113311231120212033303321301333\n",
      "012\n",
      "12\n",
      "1\n",
      "1\n",
      "1\n",
      "1\n",
      "1\n",
      "1\n",
      "1\n",
      "There are no negative volume tetras.\n",
      "There are no negative volume tetras.\n",
      "Success to flip negative volume\n"
     ]
    }
   ],
   "source": [
    "for _ in range(50):\n",
    "    brg.scale(1.0 / brg_std)\n",
    "    success = brg.flip_negative_volume(0.1)\n",
    "    brg.scale(brg_std)\n",
    "    brg.normalize_center()\n",
    "    if success:\n",
    "        break\n",
    "\n",
    "finish = False\n",
    "\n",
    "for _ in range(50):\n",
    "    brg.scale(1.0 / brg_std)\n",
    "    success = brg.flip_negative_volume_only_sphire(0.01)\n",
    "    brg.scale(brg_std)\n",
    "    brg.normalize_center()\n",
    "    if success:\n",
    "        finish = True\n",
    "        break\n",
    "\n",
    "if not finish:\n",
    "    print(\"Failed to flip negative volume\")\n",
    "else:\n",
    "    print(\"Success to flip negative volume\")"
   ]
  },
  {
   "cell_type": "code",
   "execution_count": 8,
   "metadata": {},
   "outputs": [
    {
     "name": "stdout",
     "output_type": "stream",
     "text": [
      "The new file has been created: ../data/FEM/FEM2_smoothed.vtu\n"
     ]
    }
   ],
   "source": [
    "brg.write_vtk_from_base(\"../data/FEM/FEM2.vtu\", \"../data/FEM/FEM2_smoothed.vtu\")"
   ]
  },
  {
   "cell_type": "code",
   "execution_count": null,
   "metadata": {},
   "outputs": [],
   "source": []
  },
  {
   "cell_type": "code",
   "execution_count": null,
   "metadata": {},
   "outputs": [],
   "source": []
  },
  {
   "cell_type": "code",
   "execution_count": null,
   "metadata": {},
   "outputs": [],
   "source": []
  },
  {
   "cell_type": "code",
   "execution_count": null,
   "metadata": {},
   "outputs": [],
   "source": []
  },
  {
   "cell_type": "code",
   "execution_count": null,
   "metadata": {},
   "outputs": [],
   "source": []
  },
  {
   "cell_type": "code",
   "execution_count": null,
   "metadata": {},
   "outputs": [],
   "source": []
  },
  {
   "cell_type": "code",
   "execution_count": null,
   "metadata": {},
   "outputs": [],
   "source": []
  }
 ],
 "metadata": {
  "kernelspec": {
   "display_name": "Python 3",
   "language": "python",
   "name": "python3"
  },
  "language_info": {
   "codemirror_mode": {
    "name": "ipython",
    "version": 3
   },
   "file_extension": ".py",
   "mimetype": "text/x-python",
   "name": "python",
   "nbconvert_exporter": "python",
   "pygments_lexer": "ipython3",
   "version": "3.12.3"
  }
 },
 "nbformat": 4,
 "nbformat_minor": 2
}
